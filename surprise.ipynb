{
 "cells": [
  {
   "cell_type": "code",
   "execution_count": 162,
   "metadata": {},
   "outputs": [],
   "source": [
    "\n",
    "\n",
    "from __future__ import (absolute_import, division, print_function,\n",
    "                        unicode_literals)\n",
    "import time\n",
    "import datetime\n",
    "import random\n",
    "\n",
    "import numpy as np\n",
    "import six\n",
    "from tabulate import tabulate\n",
    "from collections import defaultdict\n",
    "\n",
    "\n",
    "import surprise \n",
    "from surprise import Dataset\n",
    "from surprise.model_selection import cross_validate\n",
    "from surprise.model_selection import GridSearchCV\n",
    "from surprise.model_selection import KFold\n",
    "from surprise.model_selection.split import train_test_split\n",
    "from surprise import NormalPredictor\n",
    "from surprise import BaselineOnly\n",
    "from surprise import KNNBasic\n",
    "from surprise import KNNWithMeans\n",
    "from surprise import KNNBaseline\n",
    "from surprise import SVD\n",
    "from surprise import SVDpp\n",
    "from surprise import NMF\n",
    "from surprise import SlopeOne\n",
    "from surprise import CoClustering\n",
    "from surprise import accuracy\n",
    "\n",
    "# from sklearn.model_selection import train_test_split"
   ]
  },
  {
   "cell_type": "code",
   "execution_count": 245,
   "metadata": {},
   "outputs": [],
   "source": [
    "\n",
    "from IPython.core.interactiveshell import InteractiveShell\n",
    "InteractiveShell.ast_node_interactivity = \"all\""
   ]
  },
  {
   "cell_type": "code",
   "execution_count": 3,
   "metadata": {},
   "outputs": [],
   "source": [
    "# set RNG\n",
    "np.random.seed(0)\n",
    "random.seed(0)"
   ]
  },
  {
   "cell_type": "code",
   "execution_count": 4,
   "metadata": {},
   "outputs": [],
   "source": [
    "# dataset = 'ml-1m'\n",
    "# data = Dataset.load_builtin(dataset)\n",
    "# kf = KFold(random_state=0)  # folds will be the same for all algorithms."
   ]
  },
  {
   "cell_type": "code",
   "execution_count": 249,
   "metadata": {},
   "outputs": [],
   "source": [
    "import pandas as pd\n",
    "rating = pd.read_csv('data/rating.csv', encoding=\"latin-1\")"
   ]
  },
  {
   "cell_type": "code",
   "execution_count": 252,
   "metadata": {},
   "outputs": [],
   "source": [
    "# rename columns to fit the model \n",
    "ratings = pd.DataFrame(rating.rename(columns={\"User-ID\": \"userID\", \"ISBN\": \"itemID\", \"Book-Rating\": \"rating\"}))"
   ]
  },
  {
   "cell_type": "code",
   "execution_count": 253,
   "metadata": {},
   "outputs": [
    {
     "data": {
      "text/html": [
       "<div>\n",
       "<style scoped>\n",
       "    .dataframe tbody tr th:only-of-type {\n",
       "        vertical-align: middle;\n",
       "    }\n",
       "\n",
       "    .dataframe tbody tr th {\n",
       "        vertical-align: top;\n",
       "    }\n",
       "\n",
       "    .dataframe thead th {\n",
       "        text-align: right;\n",
       "    }\n",
       "</style>\n",
       "<table border=\"1\" class=\"dataframe\">\n",
       "  <thead>\n",
       "    <tr style=\"text-align: right;\">\n",
       "      <th></th>\n",
       "      <th>User-ID</th>\n",
       "      <th>ISBN</th>\n",
       "      <th>Book-Rating</th>\n",
       "    </tr>\n",
       "  </thead>\n",
       "  <tbody>\n",
       "    <tr>\n",
       "      <th>0</th>\n",
       "      <td>276725</td>\n",
       "      <td>034545104X</td>\n",
       "      <td>0.0</td>\n",
       "    </tr>\n",
       "    <tr>\n",
       "      <th>1</th>\n",
       "      <td>276726</td>\n",
       "      <td>155061224</td>\n",
       "      <td>5.0</td>\n",
       "    </tr>\n",
       "  </tbody>\n",
       "</table>\n",
       "</div>"
      ],
      "text/plain": [
       "   User-ID        ISBN  Book-Rating\n",
       "0   276725  034545104X          0.0\n",
       "1   276726   155061224          5.0"
      ]
     },
     "execution_count": 253,
     "metadata": {},
     "output_type": "execute_result"
    },
    {
     "data": {
      "text/html": [
       "<div>\n",
       "<style scoped>\n",
       "    .dataframe tbody tr th:only-of-type {\n",
       "        vertical-align: middle;\n",
       "    }\n",
       "\n",
       "    .dataframe tbody tr th {\n",
       "        vertical-align: top;\n",
       "    }\n",
       "\n",
       "    .dataframe thead th {\n",
       "        text-align: right;\n",
       "    }\n",
       "</style>\n",
       "<table border=\"1\" class=\"dataframe\">\n",
       "  <thead>\n",
       "    <tr style=\"text-align: right;\">\n",
       "      <th></th>\n",
       "      <th>userID</th>\n",
       "      <th>itemID</th>\n",
       "      <th>rating</th>\n",
       "    </tr>\n",
       "  </thead>\n",
       "  <tbody>\n",
       "    <tr>\n",
       "      <th>0</th>\n",
       "      <td>276725</td>\n",
       "      <td>034545104X</td>\n",
       "      <td>0.0</td>\n",
       "    </tr>\n",
       "    <tr>\n",
       "      <th>1</th>\n",
       "      <td>276726</td>\n",
       "      <td>155061224</td>\n",
       "      <td>5.0</td>\n",
       "    </tr>\n",
       "  </tbody>\n",
       "</table>\n",
       "</div>"
      ],
      "text/plain": [
       "   userID      itemID  rating\n",
       "0  276725  034545104X     0.0\n",
       "1  276726   155061224     5.0"
      ]
     },
     "execution_count": 253,
     "metadata": {},
     "output_type": "execute_result"
    }
   ],
   "source": [
    "rating.head(2)\n",
    "ratings.head(2)"
   ]
  },
  {
   "cell_type": "code",
   "execution_count": 254,
   "metadata": {},
   "outputs": [
    {
     "data": {
      "text/html": [
       "<div>\n",
       "<style scoped>\n",
       "    .dataframe tbody tr th:only-of-type {\n",
       "        vertical-align: middle;\n",
       "    }\n",
       "\n",
       "    .dataframe tbody tr th {\n",
       "        vertical-align: top;\n",
       "    }\n",
       "\n",
       "    .dataframe thead th {\n",
       "        text-align: right;\n",
       "    }\n",
       "</style>\n",
       "<table border=\"1\" class=\"dataframe\">\n",
       "  <thead>\n",
       "    <tr style=\"text-align: right;\">\n",
       "      <th></th>\n",
       "      <th>userID</th>\n",
       "      <th>itemID</th>\n",
       "      <th>rating</th>\n",
       "    </tr>\n",
       "  </thead>\n",
       "  <tbody>\n",
       "    <tr>\n",
       "      <th>0</th>\n",
       "      <td>276725</td>\n",
       "      <td>034545104X</td>\n",
       "      <td>0.0</td>\n",
       "    </tr>\n",
       "    <tr>\n",
       "      <th>1</th>\n",
       "      <td>276726</td>\n",
       "      <td>155061224</td>\n",
       "      <td>5.0</td>\n",
       "    </tr>\n",
       "    <tr>\n",
       "      <th>2</th>\n",
       "      <td>276727</td>\n",
       "      <td>446520802</td>\n",
       "      <td>0.0</td>\n",
       "    </tr>\n",
       "    <tr>\n",
       "      <th>3</th>\n",
       "      <td>276729</td>\n",
       "      <td>052165615X</td>\n",
       "      <td>3.0</td>\n",
       "    </tr>\n",
       "    <tr>\n",
       "      <th>4</th>\n",
       "      <td>276729</td>\n",
       "      <td>521795028</td>\n",
       "      <td>6.0</td>\n",
       "    </tr>\n",
       "    <tr>\n",
       "      <th>...</th>\n",
       "      <td>...</td>\n",
       "      <td>...</td>\n",
       "      <td>...</td>\n",
       "    </tr>\n",
       "    <tr>\n",
       "      <th>1048570</th>\n",
       "      <td>250764</td>\n",
       "      <td>451410777</td>\n",
       "      <td>0.0</td>\n",
       "    </tr>\n",
       "    <tr>\n",
       "      <th>1048571</th>\n",
       "      <td>250764</td>\n",
       "      <td>452264464</td>\n",
       "      <td>8.0</td>\n",
       "    </tr>\n",
       "    <tr>\n",
       "      <th>1048572</th>\n",
       "      <td>250764</td>\n",
       "      <td>048623715X</td>\n",
       "      <td>0.0</td>\n",
       "    </tr>\n",
       "    <tr>\n",
       "      <th>1048573</th>\n",
       "      <td>250764</td>\n",
       "      <td>486256588</td>\n",
       "      <td>0.0</td>\n",
       "    </tr>\n",
       "    <tr>\n",
       "      <th>1048574</th>\n",
       "      <td>250764</td>\n",
       "      <td>515069434</td>\n",
       "      <td>0.0</td>\n",
       "    </tr>\n",
       "  </tbody>\n",
       "</table>\n",
       "<p>1048575 rows × 3 columns</p>\n",
       "</div>"
      ],
      "text/plain": [
       "         userID      itemID  rating\n",
       "0        276725  034545104X     0.0\n",
       "1        276726   155061224     5.0\n",
       "2        276727   446520802     0.0\n",
       "3        276729  052165615X     3.0\n",
       "4        276729   521795028     6.0\n",
       "...         ...         ...     ...\n",
       "1048570  250764   451410777     0.0\n",
       "1048571  250764   452264464     8.0\n",
       "1048572  250764  048623715X     0.0\n",
       "1048573  250764   486256588     0.0\n",
       "1048574  250764   515069434     0.0\n",
       "\n",
       "[1048575 rows x 3 columns]"
      ]
     },
     "execution_count": 254,
     "metadata": {},
     "output_type": "execute_result"
    }
   ],
   "source": [
    "ratings"
   ]
  },
  {
   "cell_type": "code",
   "execution_count": 237,
   "metadata": {},
   "outputs": [
    {
     "name": "stderr",
     "output_type": "stream",
     "text": [
      "/Users/sts/opt/anaconda3/lib/python3.7/site-packages/IPython/core/interactiveshell.py:3063: DtypeWarning: Columns (3,8,9,10,11,12,13,14,15,16,17,18,19,20,21) have mixed types.Specify dtype option on import or set low_memory=False.\n",
      "  interactivity=interactivity, compiler=compiler, result=result)\n"
     ]
    }
   ],
   "source": [
    "books_df = pd.read_csv('data/books.csv', encoding=\"latin-1\")"
   ]
  },
  {
   "cell_type": "code",
   "execution_count": 238,
   "metadata": {},
   "outputs": [],
   "source": [
    "# Drop imageURL features, don't need them \n",
    "features = ['ISBN', 'Book-Title', 'Book-Author', 'Year-Of-Publication', 'Publisher']\n",
    "books = books_df[features]"
   ]
  },
  {
   "cell_type": "code",
   "execution_count": 239,
   "metadata": {},
   "outputs": [
    {
     "data": {
      "text/plain": [
       "(271379, 5)"
      ]
     },
     "execution_count": 239,
     "metadata": {},
     "output_type": "execute_result"
    },
    {
     "data": {
      "text/html": [
       "<div>\n",
       "<style scoped>\n",
       "    .dataframe tbody tr th:only-of-type {\n",
       "        vertical-align: middle;\n",
       "    }\n",
       "\n",
       "    .dataframe tbody tr th {\n",
       "        vertical-align: top;\n",
       "    }\n",
       "\n",
       "    .dataframe thead th {\n",
       "        text-align: right;\n",
       "    }\n",
       "</style>\n",
       "<table border=\"1\" class=\"dataframe\">\n",
       "  <thead>\n",
       "    <tr style=\"text-align: right;\">\n",
       "      <th></th>\n",
       "      <th>ISBN</th>\n",
       "      <th>Book-Title</th>\n",
       "      <th>Book-Author</th>\n",
       "      <th>Year-Of-Publication</th>\n",
       "      <th>Publisher</th>\n",
       "    </tr>\n",
       "  </thead>\n",
       "  <tbody>\n",
       "    <tr>\n",
       "      <th>0</th>\n",
       "      <td>195153448</td>\n",
       "      <td>Classical Mythology</td>\n",
       "      <td>Mark P. O. Morford</td>\n",
       "      <td>2002</td>\n",
       "      <td>Oxford University Press</td>\n",
       "    </tr>\n",
       "    <tr>\n",
       "      <th>1</th>\n",
       "      <td>2005018</td>\n",
       "      <td>Clara Callan</td>\n",
       "      <td>Richard Bruce Wright</td>\n",
       "      <td>2001</td>\n",
       "      <td>HarperFlamingo Canada</td>\n",
       "    </tr>\n",
       "  </tbody>\n",
       "</table>\n",
       "</div>"
      ],
      "text/plain": [
       "        ISBN           Book-Title           Book-Author Year-Of-Publication  \\\n",
       "0  195153448  Classical Mythology    Mark P. O. Morford                2002   \n",
       "1    2005018         Clara Callan  Richard Bruce Wright                2001   \n",
       "\n",
       "                 Publisher  \n",
       "0  Oxford University Press  \n",
       "1    HarperFlamingo Canada  "
      ]
     },
     "execution_count": 239,
     "metadata": {},
     "output_type": "execute_result"
    }
   ],
   "source": [
    "books.shape\n",
    "books.head(2)"
   ]
  },
  {
   "cell_type": "code",
   "execution_count": 151,
   "metadata": {},
   "outputs": [
    {
     "data": {
      "text/plain": [
       "(1048575, 3)"
      ]
     },
     "execution_count": 151,
     "metadata": {},
     "output_type": "execute_result"
    },
    {
     "data": {
      "text/html": [
       "<div>\n",
       "<style scoped>\n",
       "    .dataframe tbody tr th:only-of-type {\n",
       "        vertical-align: middle;\n",
       "    }\n",
       "\n",
       "    .dataframe tbody tr th {\n",
       "        vertical-align: top;\n",
       "    }\n",
       "\n",
       "    .dataframe thead th {\n",
       "        text-align: right;\n",
       "    }\n",
       "</style>\n",
       "<table border=\"1\" class=\"dataframe\">\n",
       "  <thead>\n",
       "    <tr style=\"text-align: right;\">\n",
       "      <th></th>\n",
       "      <th>userID</th>\n",
       "      <th>itemID</th>\n",
       "      <th>rating</th>\n",
       "    </tr>\n",
       "  </thead>\n",
       "  <tbody>\n",
       "    <tr>\n",
       "      <th>0</th>\n",
       "      <td>276725</td>\n",
       "      <td>034545104X</td>\n",
       "      <td>0.0</td>\n",
       "    </tr>\n",
       "    <tr>\n",
       "      <th>1</th>\n",
       "      <td>276726</td>\n",
       "      <td>155061224</td>\n",
       "      <td>5.0</td>\n",
       "    </tr>\n",
       "    <tr>\n",
       "      <th>2</th>\n",
       "      <td>276727</td>\n",
       "      <td>446520802</td>\n",
       "      <td>0.0</td>\n",
       "    </tr>\n",
       "    <tr>\n",
       "      <th>3</th>\n",
       "      <td>276729</td>\n",
       "      <td>052165615X</td>\n",
       "      <td>3.0</td>\n",
       "    </tr>\n",
       "    <tr>\n",
       "      <th>4</th>\n",
       "      <td>276729</td>\n",
       "      <td>521795028</td>\n",
       "      <td>6.0</td>\n",
       "    </tr>\n",
       "  </tbody>\n",
       "</table>\n",
       "</div>"
      ],
      "text/plain": [
       "   userID      itemID  rating\n",
       "0  276725  034545104X     0.0\n",
       "1  276726   155061224     5.0\n",
       "2  276727   446520802     0.0\n",
       "3  276729  052165615X     3.0\n",
       "4  276729   521795028     6.0"
      ]
     },
     "execution_count": 151,
     "metadata": {},
     "output_type": "execute_result"
    },
    {
     "data": {
      "text/html": [
       "<div>\n",
       "<style scoped>\n",
       "    .dataframe tbody tr th:only-of-type {\n",
       "        vertical-align: middle;\n",
       "    }\n",
       "\n",
       "    .dataframe tbody tr th {\n",
       "        vertical-align: top;\n",
       "    }\n",
       "\n",
       "    .dataframe thead th {\n",
       "        text-align: right;\n",
       "    }\n",
       "</style>\n",
       "<table border=\"1\" class=\"dataframe\">\n",
       "  <thead>\n",
       "    <tr style=\"text-align: right;\">\n",
       "      <th></th>\n",
       "      <th>userID</th>\n",
       "      <th>rating</th>\n",
       "    </tr>\n",
       "  </thead>\n",
       "  <tbody>\n",
       "    <tr>\n",
       "      <th>count</th>\n",
       "      <td>1.048575e+06</td>\n",
       "      <td>1.048570e+06</td>\n",
       "    </tr>\n",
       "    <tr>\n",
       "      <th>mean</th>\n",
       "      <td>1.285089e+05</td>\n",
       "      <td>2.879905e+00</td>\n",
       "    </tr>\n",
       "    <tr>\n",
       "      <th>std</th>\n",
       "      <td>7.421876e+04</td>\n",
       "      <td>3.857869e+00</td>\n",
       "    </tr>\n",
       "    <tr>\n",
       "      <th>min</th>\n",
       "      <td>2.000000e+00</td>\n",
       "      <td>0.000000e+00</td>\n",
       "    </tr>\n",
       "    <tr>\n",
       "      <th>25%</th>\n",
       "      <td>6.339400e+04</td>\n",
       "      <td>0.000000e+00</td>\n",
       "    </tr>\n",
       "    <tr>\n",
       "      <th>50%</th>\n",
       "      <td>1.288350e+05</td>\n",
       "      <td>0.000000e+00</td>\n",
       "    </tr>\n",
       "    <tr>\n",
       "      <th>75%</th>\n",
       "      <td>1.927790e+05</td>\n",
       "      <td>7.000000e+00</td>\n",
       "    </tr>\n",
       "    <tr>\n",
       "      <th>max</th>\n",
       "      <td>2.788540e+05</td>\n",
       "      <td>1.000000e+01</td>\n",
       "    </tr>\n",
       "  </tbody>\n",
       "</table>\n",
       "</div>"
      ],
      "text/plain": [
       "             userID        rating\n",
       "count  1.048575e+06  1.048570e+06\n",
       "mean   1.285089e+05  2.879905e+00\n",
       "std    7.421876e+04  3.857869e+00\n",
       "min    2.000000e+00  0.000000e+00\n",
       "25%    6.339400e+04  0.000000e+00\n",
       "50%    1.288350e+05  0.000000e+00\n",
       "75%    1.927790e+05  7.000000e+00\n",
       "max    2.788540e+05  1.000000e+01"
      ]
     },
     "execution_count": 151,
     "metadata": {},
     "output_type": "execute_result"
    },
    {
     "name": "stdout",
     "output_type": "stream",
     "text": [
      "<class 'pandas.core.frame.DataFrame'>\n",
      "RangeIndex: 1048575 entries, 0 to 1048574\n",
      "Data columns (total 3 columns):\n",
      " #   Column  Non-Null Count    Dtype  \n",
      "---  ------  --------------    -----  \n",
      " 0   userID  1048575 non-null  int64  \n",
      " 1   itemID  1048574 non-null  object \n",
      " 2   rating  1048570 non-null  float64\n",
      "dtypes: float64(1), int64(1), object(1)\n",
      "memory usage: 24.0+ MB\n"
     ]
    }
   ],
   "source": [
    "ratings.shape\n",
    "ratings.head()\n",
    "ratings.describe()\n",
    "ratings.info()"
   ]
  },
  {
   "cell_type": "code",
   "execution_count": 7,
   "metadata": {},
   "outputs": [
    {
     "data": {
      "text/plain": [
       "0.0"
      ]
     },
     "execution_count": 7,
     "metadata": {},
     "output_type": "execute_result"
    },
    {
     "data": {
      "text/plain": [
       "10.0"
      ]
     },
     "execution_count": 7,
     "metadata": {},
     "output_type": "execute_result"
    }
   ],
   "source": [
    "# check range of rating \n",
    "min_rating = ratings.rating.min()\n",
    "max_rating = ratings.rating.max()\n",
    "min_rating\n",
    "max_rating"
   ]
  },
  {
   "cell_type": "markdown",
   "metadata": {},
   "source": [
    "##  Merge rating and books data"
   ]
  },
  {
   "cell_type": "code",
   "execution_count": 259,
   "metadata": {},
   "outputs": [
    {
     "data": {
      "text/plain": [
       "(941148, 7)"
      ]
     },
     "execution_count": 259,
     "metadata": {},
     "output_type": "execute_result"
    },
    {
     "data": {
      "text/html": [
       "<div>\n",
       "<style scoped>\n",
       "    .dataframe tbody tr th:only-of-type {\n",
       "        vertical-align: middle;\n",
       "    }\n",
       "\n",
       "    .dataframe tbody tr th {\n",
       "        vertical-align: top;\n",
       "    }\n",
       "\n",
       "    .dataframe thead th {\n",
       "        text-align: right;\n",
       "    }\n",
       "</style>\n",
       "<table border=\"1\" class=\"dataframe\">\n",
       "  <thead>\n",
       "    <tr style=\"text-align: right;\">\n",
       "      <th></th>\n",
       "      <th>User-ID</th>\n",
       "      <th>ISBN</th>\n",
       "      <th>Book-Rating</th>\n",
       "      <th>Book-Title</th>\n",
       "      <th>Book-Author</th>\n",
       "      <th>Year-Of-Publication</th>\n",
       "      <th>Publisher</th>\n",
       "    </tr>\n",
       "  </thead>\n",
       "  <tbody>\n",
       "    <tr>\n",
       "      <th>0</th>\n",
       "      <td>276725</td>\n",
       "      <td>034545104X</td>\n",
       "      <td>0.0</td>\n",
       "      <td>Flesh Tones: A Novel</td>\n",
       "      <td>M. J. Rose</td>\n",
       "      <td>2002</td>\n",
       "      <td>Ballantine Books</td>\n",
       "    </tr>\n",
       "    <tr>\n",
       "      <th>1</th>\n",
       "      <td>2313</td>\n",
       "      <td>034545104X</td>\n",
       "      <td>5.0</td>\n",
       "      <td>Flesh Tones: A Novel</td>\n",
       "      <td>M. J. Rose</td>\n",
       "      <td>2002</td>\n",
       "      <td>Ballantine Books</td>\n",
       "    </tr>\n",
       "    <tr>\n",
       "      <th>2</th>\n",
       "      <td>6543</td>\n",
       "      <td>034545104X</td>\n",
       "      <td>0.0</td>\n",
       "      <td>Flesh Tones: A Novel</td>\n",
       "      <td>M. J. Rose</td>\n",
       "      <td>2002</td>\n",
       "      <td>Ballantine Books</td>\n",
       "    </tr>\n",
       "    <tr>\n",
       "      <th>3</th>\n",
       "      <td>8680</td>\n",
       "      <td>034545104X</td>\n",
       "      <td>5.0</td>\n",
       "      <td>Flesh Tones: A Novel</td>\n",
       "      <td>M. J. Rose</td>\n",
       "      <td>2002</td>\n",
       "      <td>Ballantine Books</td>\n",
       "    </tr>\n",
       "    <tr>\n",
       "      <th>4</th>\n",
       "      <td>10314</td>\n",
       "      <td>034545104X</td>\n",
       "      <td>9.0</td>\n",
       "      <td>Flesh Tones: A Novel</td>\n",
       "      <td>M. J. Rose</td>\n",
       "      <td>2002</td>\n",
       "      <td>Ballantine Books</td>\n",
       "    </tr>\n",
       "  </tbody>\n",
       "</table>\n",
       "</div>"
      ],
      "text/plain": [
       "   User-ID        ISBN  Book-Rating            Book-Title Book-Author  \\\n",
       "0   276725  034545104X          0.0  Flesh Tones: A Novel  M. J. Rose   \n",
       "1     2313  034545104X          5.0  Flesh Tones: A Novel  M. J. Rose   \n",
       "2     6543  034545104X          0.0  Flesh Tones: A Novel  M. J. Rose   \n",
       "3     8680  034545104X          5.0  Flesh Tones: A Novel  M. J. Rose   \n",
       "4    10314  034545104X          9.0  Flesh Tones: A Novel  M. J. Rose   \n",
       "\n",
       "  Year-Of-Publication         Publisher  \n",
       "0                2002  Ballantine Books  \n",
       "1                2002  Ballantine Books  \n",
       "2                2002  Ballantine Books  \n",
       "3                2002  Ballantine Books  \n",
       "4                2002  Ballantine Books  "
      ]
     },
     "execution_count": 259,
     "metadata": {},
     "output_type": "execute_result"
    }
   ],
   "source": [
    "rating_books_merged = pd.merge(rating, books, on='ISBN')\n",
    "rating_books_merged.shape\n",
    "rating_books_merged.head()"
   ]
  },
  {
   "cell_type": "code",
   "execution_count": 262,
   "metadata": {},
   "outputs": [
    {
     "data": {
      "text/plain": [
       "array(['Flesh Tones: A Novel'], dtype=object)"
      ]
     },
     "execution_count": 262,
     "metadata": {},
     "output_type": "execute_result"
    }
   ],
   "source": [
    "rating_books_merged[rating_books_merged['ISBN'] == '034545104X']['Book-Title'].unique()"
   ]
  },
  {
   "cell_type": "code",
   "execution_count": null,
   "metadata": {},
   "outputs": [],
   "source": []
  },
  {
   "cell_type": "markdown",
   "metadata": {},
   "source": [
    "# Reduce the dimension\n",
    "* Inlcude only books with rating > 100\n",
    "* Include only users with rating > 100\n",
    "* Avoid kernel crash\n"
   ]
  },
  {
   "cell_type": "code",
   "execution_count": 22,
   "metadata": {},
   "outputs": [],
   "source": [
    "# Update threshold for ratings to include \n",
    "book_threshold = 100\n",
    "user_threshold = 100\n",
    "\n",
    "selected_books = ratings['itemID'].value_counts() > book_threshold\n",
    "selected_books = selected_books[selected_books].index.tolist()\n",
    "\n",
    "selected_users = ratings['userID'].value_counts() > user_threshold\n",
    "selected_users = selected_users[selected_users].index.tolist()"
   ]
  },
  {
   "cell_type": "code",
   "execution_count": 23,
   "metadata": {},
   "outputs": [
    {
     "name": "stdout",
     "output_type": "stream",
     "text": [
      "The original data frame shape:\t(1048575, 3)\n",
      "The new data frame shape:\t(54350, 3)\n"
     ]
    }
   ],
   "source": [
    "updated_df = ratings[(ratings['itemID'].isin(selected_books)) & (ratings['userID'].isin(selected_users))]\n",
    "print('The original data frame shape:\\t{}'.format(ratings.shape))\n",
    "print('The new data frame shape:\\t{}'.format(updated_df.shape))"
   ]
  },
  {
   "cell_type": "code",
   "execution_count": null,
   "metadata": {},
   "outputs": [],
   "source": []
  },
  {
   "cell_type": "code",
   "execution_count": 27,
   "metadata": {},
   "outputs": [],
   "source": [
    "# Specify range of reviews using Reader class \n",
    "\n",
    "from surprise import Reader\n",
    "reader = Reader(rating_scale=(0, 10))\n",
    "data = Dataset.load_from_df(updated_df[['userID', 'itemID', 'rating']], reader)"
   ]
  },
  {
   "cell_type": "code",
   "execution_count": 39,
   "metadata": {},
   "outputs": [],
   "source": [
    "# kf = KFold(random_state=0)  # folds will be the same for all algorithms"
   ]
  },
  {
   "cell_type": "code",
   "execution_count": 37,
   "metadata": {},
   "outputs": [
    {
     "name": "stdout",
     "output_type": "stream",
     "text": [
      "Estimating biases using als...\n",
      "Estimating biases using als...\n",
      "Estimating biases using als...\n",
      "Computing the msd similarity matrix...\n",
      "Done computing similarity matrix.\n",
      "Computing the msd similarity matrix...\n",
      "Done computing similarity matrix.\n",
      "Computing the msd similarity matrix...\n",
      "Done computing similarity matrix.\n"
     ]
    },
    {
     "data": {
      "text/html": [
       "<div>\n",
       "<style scoped>\n",
       "    .dataframe tbody tr th:only-of-type {\n",
       "        vertical-align: middle;\n",
       "    }\n",
       "\n",
       "    .dataframe tbody tr th {\n",
       "        vertical-align: top;\n",
       "    }\n",
       "\n",
       "    .dataframe thead th {\n",
       "        text-align: right;\n",
       "    }\n",
       "</style>\n",
       "<table border=\"1\" class=\"dataframe\">\n",
       "  <thead>\n",
       "    <tr style=\"text-align: right;\">\n",
       "      <th></th>\n",
       "      <th>test_rmse</th>\n",
       "      <th>fit_time</th>\n",
       "      <th>test_time</th>\n",
       "    </tr>\n",
       "    <tr>\n",
       "      <th>Algorithm</th>\n",
       "      <th></th>\n",
       "      <th></th>\n",
       "      <th></th>\n",
       "    </tr>\n",
       "  </thead>\n",
       "  <tbody>\n",
       "    <tr>\n",
       "      <th>BaselineOnly</th>\n",
       "      <td>3.422806</td>\n",
       "      <td>0.074787</td>\n",
       "      <td>0.104907</td>\n",
       "    </tr>\n",
       "    <tr>\n",
       "      <th>SVD</th>\n",
       "      <td>3.572929</td>\n",
       "      <td>2.037984</td>\n",
       "      <td>0.142842</td>\n",
       "    </tr>\n",
       "    <tr>\n",
       "      <th>KNNBasic</th>\n",
       "      <td>3.683654</td>\n",
       "      <td>0.162999</td>\n",
       "      <td>1.972010</td>\n",
       "    </tr>\n",
       "    <tr>\n",
       "      <th>SVDpp</th>\n",
       "      <td>3.851021</td>\n",
       "      <td>26.459518</td>\n",
       "      <td>1.107822</td>\n",
       "    </tr>\n",
       "    <tr>\n",
       "      <th>NormalPredictor</th>\n",
       "      <td>4.674378</td>\n",
       "      <td>0.051953</td>\n",
       "      <td>0.138585</td>\n",
       "    </tr>\n",
       "  </tbody>\n",
       "</table>\n",
       "</div>"
      ],
      "text/plain": [
       "                 test_rmse   fit_time  test_time\n",
       "Algorithm                                       \n",
       "BaselineOnly      3.422806   0.074787   0.104907\n",
       "SVD               3.572929   2.037984   0.142842\n",
       "KNNBasic          3.683654   0.162999   1.972010\n",
       "SVDpp             3.851021  26.459518   1.107822\n",
       "NormalPredictor   4.674378   0.051953   0.138585"
      ]
     },
     "execution_count": 37,
     "metadata": {},
     "output_type": "execute_result"
    }
   ],
   "source": [
    "# Run later \n",
    "benchmark = []\n",
    "# Iterate over all algorithms\n",
    "for algorithm in [NormalPredictor(), BaselineOnly(), KNNBasic(), SVD(), SVDpp()]:\n",
    "# [SVD(), SVDpp(), SlopeOne(), NMF(), NormalPredictor(), KNNBaseline(), KNNBasic(), KNNWithMeans(), KNNWithZScore(), BaselineOnly(), CoClustering()]:\n",
    "   \n",
    "    # Perform cross validation\n",
    "    results = cross_validate(algorithm, data, measures=['RMSE'], cv=3, verbose=False)\n",
    "    \n",
    "    # Get results & append algorithm name\n",
    "    tmp = pd.DataFrame.from_dict(results).mean(axis=0)\n",
    "    tmp = tmp.append(pd.Series([str(algorithm).split(' ')[0].split('.')[-1]], index=['Algorithm']))\n",
    "    benchmark.append(tmp)\n",
    "    \n",
    "pd.DataFrame(benchmark).set_index('Algorithm').sort_values('test_rmse')"
   ]
  },
  {
   "cell_type": "code",
   "execution_count": 38,
   "metadata": {},
   "outputs": [
    {
     "name": "stdout",
     "output_type": "stream",
     "text": [
      "Computing the msd similarity matrix...\n",
      "Done computing similarity matrix.\n",
      "Computing the msd similarity matrix...\n",
      "Done computing similarity matrix.\n",
      "Computing the msd similarity matrix...\n",
      "Done computing similarity matrix.\n",
      "Computing the msd similarity matrix...\n",
      "Done computing similarity matrix.\n",
      "Computing the msd similarity matrix...\n",
      "Done computing similarity matrix.\n",
      "Computing the msd similarity matrix...\n",
      "Done computing similarity matrix.\n"
     ]
    },
    {
     "data": {
      "text/html": [
       "<div>\n",
       "<style scoped>\n",
       "    .dataframe tbody tr th:only-of-type {\n",
       "        vertical-align: middle;\n",
       "    }\n",
       "\n",
       "    .dataframe tbody tr th {\n",
       "        vertical-align: top;\n",
       "    }\n",
       "\n",
       "    .dataframe thead th {\n",
       "        text-align: right;\n",
       "    }\n",
       "</style>\n",
       "<table border=\"1\" class=\"dataframe\">\n",
       "  <thead>\n",
       "    <tr style=\"text-align: right;\">\n",
       "      <th></th>\n",
       "      <th>test_rmse</th>\n",
       "      <th>fit_time</th>\n",
       "      <th>test_time</th>\n",
       "    </tr>\n",
       "    <tr>\n",
       "      <th>Algorithm</th>\n",
       "      <th></th>\n",
       "      <th></th>\n",
       "      <th></th>\n",
       "    </tr>\n",
       "  </thead>\n",
       "  <tbody>\n",
       "    <tr>\n",
       "      <th>SlopeOne</th>\n",
       "      <td>3.477395</td>\n",
       "      <td>0.111953</td>\n",
       "      <td>0.835064</td>\n",
       "    </tr>\n",
       "    <tr>\n",
       "      <th>KNNWithMeans</th>\n",
       "      <td>3.501631</td>\n",
       "      <td>0.191525</td>\n",
       "      <td>2.154415</td>\n",
       "    </tr>\n",
       "    <tr>\n",
       "      <th>KNNBasic</th>\n",
       "      <td>3.677824</td>\n",
       "      <td>0.183320</td>\n",
       "      <td>2.040198</td>\n",
       "    </tr>\n",
       "  </tbody>\n",
       "</table>\n",
       "</div>"
      ],
      "text/plain": [
       "              test_rmse  fit_time  test_time\n",
       "Algorithm                                   \n",
       "SlopeOne       3.477395  0.111953   0.835064\n",
       "KNNWithMeans   3.501631  0.191525   2.154415\n",
       "KNNBasic       3.677824  0.183320   2.040198"
      ]
     },
     "execution_count": 38,
     "metadata": {},
     "output_type": "execute_result"
    }
   ],
   "source": [
    "# Run later \n",
    "benchmark = []\n",
    "# Iterate over all algorithms\n",
    "for algorithm in [SlopeOne(), KNNBasic(), KNNWithMeans(),]:\n",
    "# [SVD(), SVDpp(), SlopeOne(), NMF(), NormalPredictor(), KNNBaseline(), KNNBasic(), KNNWithMeans(), KNNWithZScore(), BaselineOnly(), CoClustering()]:\n",
    "   \n",
    "    # Perform cross validation\n",
    "    results = cross_validate(algorithm, data, measures=['RMSE'], cv=3, verbose=False)\n",
    "    \n",
    "    # Get results & append algorithm name\n",
    "    tmp = pd.DataFrame.from_dict(results).mean(axis=0)\n",
    "    tmp = tmp.append(pd.Series([str(algorithm).split(' ')[0].split('.')[-1]], index=['Algorithm']))\n",
    "    benchmark.append(tmp)\n",
    "    \n",
    "pd.DataFrame(benchmark).set_index('Algorithm').sort_values('test_rmse')"
   ]
  },
  {
   "cell_type": "markdown",
   "metadata": {},
   "source": [
    "# Baseline model has best rmse score: \n",
    "* ALS method "
   ]
  },
  {
   "cell_type": "code",
   "execution_count": 51,
   "metadata": {},
   "outputs": [],
   "source": [
    "# # Split data into train-set test-set\n",
    "train_data, test_data = train_test_split(data, test_size=0.2)"
   ]
  },
  {
   "cell_type": "code",
   "execution_count": 130,
   "metadata": {},
   "outputs": [
    {
     "name": "stdout",
     "output_type": "stream",
     "text": [
      "Estimating biases using als...\n",
      "RMSE: 3.4237\n"
     ]
    },
    {
     "data": {
      "text/plain": [
       "3.423703225971531"
      ]
     },
     "execution_count": 130,
     "metadata": {},
     "output_type": "execute_result"
    }
   ],
   "source": [
    "model_bsl = BaselineOnly(bsl_options={'method': 'als', 'n_epochs': 5,\n",
    "                                     'reg_u': 12, 'reg_i': 5})\n",
    "predictions_bsl = model_bsl.fit(train_data).test(test_data)\n",
    "accuracy.rmse(predictions_bsl)"
   ]
  },
  {
   "cell_type": "code",
   "execution_count": 132,
   "metadata": {},
   "outputs": [],
   "source": [
    "# Let's build a pandas dataframe with all the predictions\n",
    "\n",
    "def get_Iu(uid):\n",
    "    \"\"\"Return the number of items rated by given user\n",
    "    \n",
    "    Args:\n",
    "        uid: The raw id of the user.\n",
    "    Returns:\n",
    "        The number of items rated by the user.\n",
    "    \"\"\"\n",
    "    \n",
    "    try:\n",
    "        return len(train_data.ur[train_data.to_inner_uid(uid)])\n",
    "    except ValueError:  # user was not part of the trainset\n",
    "        return 0\n",
    "    \n",
    "def get_Ui(iid):\n",
    "    \"\"\"Return the number of users that have rated given item\n",
    "    \n",
    "    Args:\n",
    "        iid: The raw id of the item.\n",
    "    Returns:\n",
    "        The number of users that have rated the item.\n",
    "    \"\"\"\n",
    "    \n",
    "    try:\n",
    "        return len(train_data.ir[train_data.to_inner_iid(iid)])\n",
    "    except ValueError:  # item was not part of the trainset\n",
    "        return 0"
   ]
  },
  {
   "cell_type": "code",
   "execution_count": 134,
   "metadata": {},
   "outputs": [],
   "source": [
    "df = pd.DataFrame(predictions_bsl, columns=['uid', 'iid', 'rui', 'est', 'details'])    \n",
    "df['Iu'] = df.uid.apply(get_Iu)\n",
    "df['Ui'] = df.iid.apply(get_Ui)\n",
    "df['err'] = abs(df.est - df.rui)"
   ]
  },
  {
   "cell_type": "code",
   "execution_count": 135,
   "metadata": {},
   "outputs": [
    {
     "data": {
      "text/html": [
       "<div>\n",
       "<style scoped>\n",
       "    .dataframe tbody tr th:only-of-type {\n",
       "        vertical-align: middle;\n",
       "    }\n",
       "\n",
       "    .dataframe tbody tr th {\n",
       "        vertical-align: top;\n",
       "    }\n",
       "\n",
       "    .dataframe thead th {\n",
       "        text-align: right;\n",
       "    }\n",
       "</style>\n",
       "<table border=\"1\" class=\"dataframe\">\n",
       "  <thead>\n",
       "    <tr style=\"text-align: right;\">\n",
       "      <th></th>\n",
       "      <th>uid</th>\n",
       "      <th>iid</th>\n",
       "      <th>rui</th>\n",
       "      <th>est</th>\n",
       "      <th>details</th>\n",
       "      <th>Iu</th>\n",
       "      <th>Ui</th>\n",
       "      <th>err</th>\n",
       "    </tr>\n",
       "  </thead>\n",
       "  <tbody>\n",
       "    <tr>\n",
       "      <th>5917</th>\n",
       "      <td>167349</td>\n",
       "      <td>425182908</td>\n",
       "      <td>0.0</td>\n",
       "      <td>0.0</td>\n",
       "      <td>{'was_impossible': False}</td>\n",
       "      <td>45</td>\n",
       "      <td>70</td>\n",
       "      <td>0.0</td>\n",
       "    </tr>\n",
       "    <tr>\n",
       "      <th>3377</th>\n",
       "      <td>87746</td>\n",
       "      <td>671867091</td>\n",
       "      <td>0.0</td>\n",
       "      <td>0.0</td>\n",
       "      <td>{'was_impossible': False}</td>\n",
       "      <td>100</td>\n",
       "      <td>59</td>\n",
       "      <td>0.0</td>\n",
       "    </tr>\n",
       "    <tr>\n",
       "      <th>5873</th>\n",
       "      <td>87746</td>\n",
       "      <td>375700757</td>\n",
       "      <td>0.0</td>\n",
       "      <td>0.0</td>\n",
       "      <td>{'was_impossible': False}</td>\n",
       "      <td>100</td>\n",
       "      <td>89</td>\n",
       "      <td>0.0</td>\n",
       "    </tr>\n",
       "    <tr>\n",
       "      <th>3393</th>\n",
       "      <td>39646</td>\n",
       "      <td>425182908</td>\n",
       "      <td>0.0</td>\n",
       "      <td>0.0</td>\n",
       "      <td>{'was_impossible': False}</td>\n",
       "      <td>100</td>\n",
       "      <td>70</td>\n",
       "      <td>0.0</td>\n",
       "    </tr>\n",
       "    <tr>\n",
       "      <th>5854</th>\n",
       "      <td>55548</td>\n",
       "      <td>316781266</td>\n",
       "      <td>0.0</td>\n",
       "      <td>0.0</td>\n",
       "      <td>{'was_impossible': False}</td>\n",
       "      <td>73</td>\n",
       "      <td>60</td>\n",
       "      <td>0.0</td>\n",
       "    </tr>\n",
       "    <tr>\n",
       "      <th>3417</th>\n",
       "      <td>23768</td>\n",
       "      <td>399146253</td>\n",
       "      <td>0.0</td>\n",
       "      <td>0.0</td>\n",
       "      <td>{'was_impossible': False}</td>\n",
       "      <td>194</td>\n",
       "      <td>38</td>\n",
       "      <td>0.0</td>\n",
       "    </tr>\n",
       "    <tr>\n",
       "      <th>995</th>\n",
       "      <td>198711</td>\n",
       "      <td>345380371</td>\n",
       "      <td>0.0</td>\n",
       "      <td>0.0</td>\n",
       "      <td>{'was_impossible': False}</td>\n",
       "      <td>152</td>\n",
       "      <td>96</td>\n",
       "      <td>0.0</td>\n",
       "    </tr>\n",
       "    <tr>\n",
       "      <th>574</th>\n",
       "      <td>36836</td>\n",
       "      <td>671867156</td>\n",
       "      <td>0.0</td>\n",
       "      <td>0.0</td>\n",
       "      <td>{'was_impossible': False}</td>\n",
       "      <td>92</td>\n",
       "      <td>69</td>\n",
       "      <td>0.0</td>\n",
       "    </tr>\n",
       "    <tr>\n",
       "      <th>573</th>\n",
       "      <td>98741</td>\n",
       "      <td>031298328X</td>\n",
       "      <td>0.0</td>\n",
       "      <td>0.0</td>\n",
       "      <td>{'was_impossible': False}</td>\n",
       "      <td>119</td>\n",
       "      <td>77</td>\n",
       "      <td>0.0</td>\n",
       "    </tr>\n",
       "    <tr>\n",
       "      <th>7946</th>\n",
       "      <td>98741</td>\n",
       "      <td>440213290</td>\n",
       "      <td>0.0</td>\n",
       "      <td>0.0</td>\n",
       "      <td>{'was_impossible': False}</td>\n",
       "      <td>119</td>\n",
       "      <td>54</td>\n",
       "      <td>0.0</td>\n",
       "    </tr>\n",
       "  </tbody>\n",
       "</table>\n",
       "</div>"
      ],
      "text/plain": [
       "         uid         iid  rui  est                    details   Iu  Ui  err\n",
       "5917  167349   425182908  0.0  0.0  {'was_impossible': False}   45  70  0.0\n",
       "3377   87746   671867091  0.0  0.0  {'was_impossible': False}  100  59  0.0\n",
       "5873   87746   375700757  0.0  0.0  {'was_impossible': False}  100  89  0.0\n",
       "3393   39646   425182908  0.0  0.0  {'was_impossible': False}  100  70  0.0\n",
       "5854   55548   316781266  0.0  0.0  {'was_impossible': False}   73  60  0.0\n",
       "3417   23768   399146253  0.0  0.0  {'was_impossible': False}  194  38  0.0\n",
       "995   198711   345380371  0.0  0.0  {'was_impossible': False}  152  96  0.0\n",
       "574    36836   671867156  0.0  0.0  {'was_impossible': False}   92  69  0.0\n",
       "573    98741  031298328X  0.0  0.0  {'was_impossible': False}  119  77  0.0\n",
       "7946   98741   440213290  0.0  0.0  {'was_impossible': False}  119  54  0.0"
      ]
     },
     "execution_count": 135,
     "metadata": {},
     "output_type": "execute_result"
    },
    {
     "data": {
      "text/html": [
       "<div>\n",
       "<style scoped>\n",
       "    .dataframe tbody tr th:only-of-type {\n",
       "        vertical-align: middle;\n",
       "    }\n",
       "\n",
       "    .dataframe tbody tr th {\n",
       "        vertical-align: top;\n",
       "    }\n",
       "\n",
       "    .dataframe thead th {\n",
       "        text-align: right;\n",
       "    }\n",
       "</style>\n",
       "<table border=\"1\" class=\"dataframe\">\n",
       "  <thead>\n",
       "    <tr style=\"text-align: right;\">\n",
       "      <th></th>\n",
       "      <th>uid</th>\n",
       "      <th>iid</th>\n",
       "      <th>rui</th>\n",
       "      <th>est</th>\n",
       "      <th>details</th>\n",
       "      <th>Iu</th>\n",
       "      <th>Ui</th>\n",
       "      <th>err</th>\n",
       "    </tr>\n",
       "  </thead>\n",
       "  <tbody>\n",
       "    <tr>\n",
       "      <th>818</th>\n",
       "      <td>200674</td>\n",
       "      <td>553576801</td>\n",
       "      <td>10.0</td>\n",
       "      <td>0.761639</td>\n",
       "      <td>{'was_impossible': False}</td>\n",
       "      <td>70</td>\n",
       "      <td>44</td>\n",
       "      <td>9.238361</td>\n",
       "    </tr>\n",
       "    <tr>\n",
       "      <th>10786</th>\n",
       "      <td>200674</td>\n",
       "      <td>446607657</td>\n",
       "      <td>10.0</td>\n",
       "      <td>0.731876</td>\n",
       "      <td>{'was_impossible': False}</td>\n",
       "      <td>70</td>\n",
       "      <td>97</td>\n",
       "      <td>9.268124</td>\n",
       "    </tr>\n",
       "    <tr>\n",
       "      <th>2968</th>\n",
       "      <td>55492</td>\n",
       "      <td>61015725</td>\n",
       "      <td>10.0</td>\n",
       "      <td>0.722581</td>\n",
       "      <td>{'was_impossible': False}</td>\n",
       "      <td>165</td>\n",
       "      <td>36</td>\n",
       "      <td>9.277419</td>\n",
       "    </tr>\n",
       "    <tr>\n",
       "      <th>5396</th>\n",
       "      <td>172742</td>\n",
       "      <td>743225406</td>\n",
       "      <td>10.0</td>\n",
       "      <td>0.696206</td>\n",
       "      <td>{'was_impossible': False}</td>\n",
       "      <td>102</td>\n",
       "      <td>59</td>\n",
       "      <td>9.303794</td>\n",
       "    </tr>\n",
       "    <tr>\n",
       "      <th>9747</th>\n",
       "      <td>11601</td>\n",
       "      <td>60938455</td>\n",
       "      <td>10.0</td>\n",
       "      <td>0.691043</td>\n",
       "      <td>{'was_impossible': False}</td>\n",
       "      <td>86</td>\n",
       "      <td>89</td>\n",
       "      <td>9.308957</td>\n",
       "    </tr>\n",
       "    <tr>\n",
       "      <th>1324</th>\n",
       "      <td>35859</td>\n",
       "      <td>842342702</td>\n",
       "      <td>10.0</td>\n",
       "      <td>0.620575</td>\n",
       "      <td>{'was_impossible': False}</td>\n",
       "      <td>239</td>\n",
       "      <td>41</td>\n",
       "      <td>9.379425</td>\n",
       "    </tr>\n",
       "    <tr>\n",
       "      <th>7311</th>\n",
       "      <td>69232</td>\n",
       "      <td>440222656</td>\n",
       "      <td>10.0</td>\n",
       "      <td>0.434504</td>\n",
       "      <td>{'was_impossible': False}</td>\n",
       "      <td>74</td>\n",
       "      <td>168</td>\n",
       "      <td>9.565496</td>\n",
       "    </tr>\n",
       "    <tr>\n",
       "      <th>1933</th>\n",
       "      <td>245827</td>\n",
       "      <td>451183665</td>\n",
       "      <td>10.0</td>\n",
       "      <td>0.339853</td>\n",
       "      <td>{'was_impossible': False}</td>\n",
       "      <td>59</td>\n",
       "      <td>66</td>\n",
       "      <td>9.660147</td>\n",
       "    </tr>\n",
       "    <tr>\n",
       "      <th>10219</th>\n",
       "      <td>69232</td>\n",
       "      <td>051513287X</td>\n",
       "      <td>10.0</td>\n",
       "      <td>0.291569</td>\n",
       "      <td>{'was_impossible': False}</td>\n",
       "      <td>74</td>\n",
       "      <td>94</td>\n",
       "      <td>9.708431</td>\n",
       "    </tr>\n",
       "    <tr>\n",
       "      <th>2069</th>\n",
       "      <td>31826</td>\n",
       "      <td>439139597</td>\n",
       "      <td>0.0</td>\n",
       "      <td>10.000000</td>\n",
       "      <td>{'was_impossible': False}</td>\n",
       "      <td>39</td>\n",
       "      <td>67</td>\n",
       "      <td>10.000000</td>\n",
       "    </tr>\n",
       "  </tbody>\n",
       "</table>\n",
       "</div>"
      ],
      "text/plain": [
       "          uid         iid   rui        est                    details   Iu  \\\n",
       "818    200674   553576801  10.0   0.761639  {'was_impossible': False}   70   \n",
       "10786  200674   446607657  10.0   0.731876  {'was_impossible': False}   70   \n",
       "2968    55492    61015725  10.0   0.722581  {'was_impossible': False}  165   \n",
       "5396   172742   743225406  10.0   0.696206  {'was_impossible': False}  102   \n",
       "9747    11601    60938455  10.0   0.691043  {'was_impossible': False}   86   \n",
       "1324    35859   842342702  10.0   0.620575  {'was_impossible': False}  239   \n",
       "7311    69232   440222656  10.0   0.434504  {'was_impossible': False}   74   \n",
       "1933   245827   451183665  10.0   0.339853  {'was_impossible': False}   59   \n",
       "10219   69232  051513287X  10.0   0.291569  {'was_impossible': False}   74   \n",
       "2069    31826   439139597   0.0  10.000000  {'was_impossible': False}   39   \n",
       "\n",
       "        Ui        err  \n",
       "818     44   9.238361  \n",
       "10786   97   9.268124  \n",
       "2968    36   9.277419  \n",
       "5396    59   9.303794  \n",
       "9747    89   9.308957  \n",
       "1324    41   9.379425  \n",
       "7311   168   9.565496  \n",
       "1933    66   9.660147  \n",
       "10219   94   9.708431  \n",
       "2069    67  10.000000  "
      ]
     },
     "execution_count": 135,
     "metadata": {},
     "output_type": "execute_result"
    }
   ],
   "source": [
    "best_predictions_bsl = df.sort_values(by='err')[:10]\n",
    "worst_predictions_bsl = df.sort_values(by='err')[-10:]\n",
    "best_predictions_bsl\n",
    "worst_predictions_bsl\n"
   ]
  },
  {
   "cell_type": "markdown",
   "metadata": {},
   "source": [
    "# Get top N-book recommendations for each user"
   ]
  },
  {
   "cell_type": "code",
   "execution_count": 203,
   "metadata": {},
   "outputs": [],
   "source": [
    "def get_top_n(predictions, n=10):\n",
    "    '''Return the top-N recommendation for each user from a set of predictions.\n",
    "\n",
    "    Args:\n",
    "        predictions(list of Prediction objects): The list of predictions, as\n",
    "            returned by the test method of an algorithm.\n",
    "        n(int): The number of recommendation to output for each user. Default\n",
    "            is 10.\n",
    "\n",
    "    Returns:\n",
    "    A dict where keys are user (raw) ids and values are lists of tuples:\n",
    "        [(raw item id, rating estimation), ...] of size n.\n",
    "    '''\n",
    "\n",
    "    # First map the predictions to each user.\n",
    "    top_n = defaultdict(list)\n",
    "    for uid, iid, true_r, est, _ in predictions:\n",
    "        top_n[uid].append((iid, est))\n",
    "\n",
    "    # Then sort the predictions for each user and retrieve the k highest ones.\n",
    "    for uid, user_ratings in top_n.items():\n",
    "        user_ratings.sort(key=lambda x: x[1], reverse=True)\n",
    "        top_n[uid] = user_ratings[:n]\n",
    "\n",
    "    return top_n"
   ]
  },
  {
   "cell_type": "code",
   "execution_count": 310,
   "metadata": {},
   "outputs": [
    {
     "name": "stdout",
     "output_type": "stream",
     "text": [
      "Estimating biases using als...\n"
     ]
    },
    {
     "data": {
      "text/plain": [
       "<surprise.prediction_algorithms.baseline_only.BaselineOnly at 0x11dc2c790>"
      ]
     },
     "execution_count": 310,
     "metadata": {},
     "output_type": "execute_result"
    }
   ],
   "source": [
    "# First train an SVD algorithm\n",
    "\n",
    "trainset_bsl = data.build_full_trainset()\n",
    "\n",
    "model_bsl.fit(trainset_bsl)"
   ]
  },
  {
   "cell_type": "code",
   "execution_count": 311,
   "metadata": {},
   "outputs": [],
   "source": [
    "# predict ratings for all pairs (u, i) that are NOT in the training set\n",
    "\n",
    "testset_bsl = trainset_bsl.build_anti_testset()\n",
    "predictions_bsl = model_bsl.test(testset_bsl)"
   ]
  },
  {
   "cell_type": "markdown",
   "metadata": {},
   "source": [
    "# Enter User info : User-ID to get recommended books"
   ]
  },
  {
   "cell_type": "code",
   "execution_count": 313,
   "metadata": {},
   "outputs": [],
   "source": [
    "\n",
    "# Enter use info \n",
    "\n",
    "user = 276925\n",
    "top_n = get_top_n(predictions_bsl)\n",
    "user_book_isbn = top_n.get(user)\n"
   ]
  },
  {
   "cell_type": "code",
   "execution_count": 314,
   "metadata": {},
   "outputs": [
    {
     "name": "stdout",
     "output_type": "stream",
     "text": [
      "\n",
      "\n",
      " The following books are remmended for you:\n",
      "\n",
      " \n",
      "Harry Potter and the Goblet of Fire (Book 4)\n",
      "\n",
      "\t\t You will like this book with (predictive) rating of:  6.11 /10.0\n",
      "\n",
      "Harry Potter and the Prisoner of Azkaban (Book 3)\n",
      "\n",
      "\t\t You will like this book with (predictive) rating of:  6.06 /10.0\n",
      "\n",
      "Harry Potter and the Chamber of Secrets (Book 2)\n",
      "\n",
      "\t\t You will like this book with (predictive) rating of:  6.03 /10.0\n",
      "\n",
      "Harry Potter and the Sorcerer's Stone (Book 1)\n",
      "\n",
      "\t\t You will like this book with (predictive) rating of:  5.95 /10.0\n",
      "\n",
      "Harry Potter and the Order of the Phoenix (Book 5)\n",
      "\n",
      "\t\t You will like this book with (predictive) rating of:  5.11 /10.0\n",
      "\n",
      "Coraline\n",
      "\n",
      "\t\t You will like this book with (predictive) rating of:  4.48 /10.0\n",
      "\n",
      "Harry Potter and the Prisoner of Azkaban (Book 3)\n",
      "\n",
      "\t\t You will like this book with (predictive) rating of:  4.41 /10.0\n",
      "\n",
      "Anne Frank: The Diary of a Young Girl\n",
      "\n",
      "\t\t You will like this book with (predictive) rating of:  4.38 /10.0\n",
      "\n",
      "Eats\n",
      "\n",
      "\t\t You will like this book with (predictive) rating of:  4.37 /10.0\n",
      "\n",
      "Animal Farm\n",
      "\n",
      "\t\t You will like this book with (predictive) rating of:  4.35 /10.0\n",
      "\n"
     ]
    }
   ],
   "source": [
    "\n",
    "print('\\n\\n The following books are remmended for you:\\n\\n ')\n",
    "\n",
    "for isbn, pred_rating in user_book_isbn:\n",
    "    book_name = rating_books_merged[rating_books_merged['ISBN'] == isbn]['Book-Title'].unique()\n",
    "    print(str(book_name)[2:-2] )   \n",
    "    print('\\n\\t\\t You will like this book with (predictive) rating of: ', round(pred_rating, 2),'/10.0' '\\n')\n",
    "    \n"
   ]
  },
  {
   "cell_type": "markdown",
   "metadata": {},
   "source": [
    "# Matrix Factorization: SVD, SVDpp\n",
    "* Hyper parameter tunning using GridSearchCV "
   ]
  },
  {
   "cell_type": "code",
   "execution_count": null,
   "metadata": {},
   "outputs": [],
   "source": []
  },
  {
   "cell_type": "code",
   "execution_count": 287,
   "metadata": {},
   "outputs": [],
   "source": [
    "model_svd = SVD()\n",
    "fit_model_svd = model_svd.fit(train_data)\n",
    "predictions_svd = fit_model_svd.test(test_data)"
   ]
  },
  {
   "cell_type": "code",
   "execution_count": 288,
   "metadata": {},
   "outputs": [
    {
     "name": "stdout",
     "output_type": "stream",
     "text": [
      "RMSE: 3.6150\n"
     ]
    },
    {
     "data": {
      "text/plain": [
       "3.614955702286585"
      ]
     },
     "execution_count": 288,
     "metadata": {},
     "output_type": "execute_result"
    }
   ],
   "source": [
    "accuracy.rmse(predictions_svd)"
   ]
  },
  {
   "cell_type": "code",
   "execution_count": 289,
   "metadata": {},
   "outputs": [
    {
     "data": {
      "text/plain": [
       "2.2592226310947563"
      ]
     },
     "execution_count": 289,
     "metadata": {},
     "output_type": "execute_result"
    }
   ],
   "source": [
    "# predict one uid and one iid\n",
    "pred1 = model_svd.predict(uid ='6', iid = '2' )\n",
    "pred1.est"
   ]
  },
  {
   "cell_type": "code",
   "execution_count": 290,
   "metadata": {},
   "outputs": [
    {
     "data": {
      "text/html": [
       "<div>\n",
       "<style scoped>\n",
       "    .dataframe tbody tr th:only-of-type {\n",
       "        vertical-align: middle;\n",
       "    }\n",
       "\n",
       "    .dataframe tbody tr th {\n",
       "        vertical-align: top;\n",
       "    }\n",
       "\n",
       "    .dataframe thead th {\n",
       "        text-align: right;\n",
       "    }\n",
       "</style>\n",
       "<table border=\"1\" class=\"dataframe\">\n",
       "  <thead>\n",
       "    <tr style=\"text-align: right;\">\n",
       "      <th></th>\n",
       "      <th>uid</th>\n",
       "      <th>iid</th>\n",
       "      <th>rui</th>\n",
       "      <th>est</th>\n",
       "      <th>details</th>\n",
       "      <th>Iu</th>\n",
       "      <th>Ui</th>\n",
       "      <th>err</th>\n",
       "    </tr>\n",
       "  </thead>\n",
       "  <tbody>\n",
       "    <tr>\n",
       "      <th>1259</th>\n",
       "      <td>23768</td>\n",
       "      <td>671004573</td>\n",
       "      <td>0.0</td>\n",
       "      <td>0.0</td>\n",
       "      <td>{'was_impossible': False}</td>\n",
       "      <td>194</td>\n",
       "      <td>67</td>\n",
       "      <td>0.0</td>\n",
       "    </tr>\n",
       "    <tr>\n",
       "      <th>1381</th>\n",
       "      <td>115120</td>\n",
       "      <td>385720106</td>\n",
       "      <td>0.0</td>\n",
       "      <td>0.0</td>\n",
       "      <td>{'was_impossible': False}</td>\n",
       "      <td>133</td>\n",
       "      <td>108</td>\n",
       "      <td>0.0</td>\n",
       "    </tr>\n",
       "    <tr>\n",
       "      <th>1376</th>\n",
       "      <td>35859</td>\n",
       "      <td>385336179</td>\n",
       "      <td>0.0</td>\n",
       "      <td>0.0</td>\n",
       "      <td>{'was_impossible': False}</td>\n",
       "      <td>239</td>\n",
       "      <td>62</td>\n",
       "      <td>0.0</td>\n",
       "    </tr>\n",
       "    <tr>\n",
       "      <th>6348</th>\n",
       "      <td>113270</td>\n",
       "      <td>767905180</td>\n",
       "      <td>0.0</td>\n",
       "      <td>0.0</td>\n",
       "      <td>{'was_impossible': False}</td>\n",
       "      <td>88</td>\n",
       "      <td>76</td>\n",
       "      <td>0.0</td>\n",
       "    </tr>\n",
       "    <tr>\n",
       "      <th>6372</th>\n",
       "      <td>11601</td>\n",
       "      <td>743237188</td>\n",
       "      <td>0.0</td>\n",
       "      <td>0.0</td>\n",
       "      <td>{'was_impossible': False}</td>\n",
       "      <td>86</td>\n",
       "      <td>93</td>\n",
       "      <td>0.0</td>\n",
       "    </tr>\n",
       "    <tr>\n",
       "      <th>6379</th>\n",
       "      <td>145451</td>\n",
       "      <td>515124214</td>\n",
       "      <td>0.0</td>\n",
       "      <td>0.0</td>\n",
       "      <td>{'was_impossible': False}</td>\n",
       "      <td>54</td>\n",
       "      <td>52</td>\n",
       "      <td>0.0</td>\n",
       "    </tr>\n",
       "    <tr>\n",
       "      <th>1362</th>\n",
       "      <td>232131</td>\n",
       "      <td>743237188</td>\n",
       "      <td>0.0</td>\n",
       "      <td>0.0</td>\n",
       "      <td>{'was_impossible': False}</td>\n",
       "      <td>190</td>\n",
       "      <td>93</td>\n",
       "      <td>0.0</td>\n",
       "    </tr>\n",
       "    <tr>\n",
       "      <th>6400</th>\n",
       "      <td>198711</td>\n",
       "      <td>449003795</td>\n",
       "      <td>0.0</td>\n",
       "      <td>0.0</td>\n",
       "      <td>{'was_impossible': False}</td>\n",
       "      <td>152</td>\n",
       "      <td>74</td>\n",
       "      <td>0.0</td>\n",
       "    </tr>\n",
       "    <tr>\n",
       "      <th>1357</th>\n",
       "      <td>36836</td>\n",
       "      <td>671024248</td>\n",
       "      <td>0.0</td>\n",
       "      <td>0.0</td>\n",
       "      <td>{'was_impossible': False}</td>\n",
       "      <td>92</td>\n",
       "      <td>57</td>\n",
       "      <td>0.0</td>\n",
       "    </tr>\n",
       "    <tr>\n",
       "      <th>6407</th>\n",
       "      <td>79186</td>\n",
       "      <td>971880107</td>\n",
       "      <td>0.0</td>\n",
       "      <td>0.0</td>\n",
       "      <td>{'was_impossible': False}</td>\n",
       "      <td>52</td>\n",
       "      <td>442</td>\n",
       "      <td>0.0</td>\n",
       "    </tr>\n",
       "  </tbody>\n",
       "</table>\n",
       "</div>"
      ],
      "text/plain": [
       "         uid        iid  rui  est                    details   Iu   Ui  err\n",
       "1259   23768  671004573  0.0  0.0  {'was_impossible': False}  194   67  0.0\n",
       "1381  115120  385720106  0.0  0.0  {'was_impossible': False}  133  108  0.0\n",
       "1376   35859  385336179  0.0  0.0  {'was_impossible': False}  239   62  0.0\n",
       "6348  113270  767905180  0.0  0.0  {'was_impossible': False}   88   76  0.0\n",
       "6372   11601  743237188  0.0  0.0  {'was_impossible': False}   86   93  0.0\n",
       "6379  145451  515124214  0.0  0.0  {'was_impossible': False}   54   52  0.0\n",
       "1362  232131  743237188  0.0  0.0  {'was_impossible': False}  190   93  0.0\n",
       "6400  198711  449003795  0.0  0.0  {'was_impossible': False}  152   74  0.0\n",
       "1357   36836  671024248  0.0  0.0  {'was_impossible': False}   92   57  0.0\n",
       "6407   79186  971880107  0.0  0.0  {'was_impossible': False}   52  442  0.0"
      ]
     },
     "execution_count": 290,
     "metadata": {},
     "output_type": "execute_result"
    },
    {
     "data": {
      "text/html": [
       "<div>\n",
       "<style scoped>\n",
       "    .dataframe tbody tr th:only-of-type {\n",
       "        vertical-align: middle;\n",
       "    }\n",
       "\n",
       "    .dataframe tbody tr th {\n",
       "        vertical-align: top;\n",
       "    }\n",
       "\n",
       "    .dataframe thead th {\n",
       "        text-align: right;\n",
       "    }\n",
       "</style>\n",
       "<table border=\"1\" class=\"dataframe\">\n",
       "  <thead>\n",
       "    <tr style=\"text-align: right;\">\n",
       "      <th></th>\n",
       "      <th>uid</th>\n",
       "      <th>iid</th>\n",
       "      <th>rui</th>\n",
       "      <th>est</th>\n",
       "      <th>details</th>\n",
       "      <th>Iu</th>\n",
       "      <th>Ui</th>\n",
       "      <th>err</th>\n",
       "    </tr>\n",
       "  </thead>\n",
       "  <tbody>\n",
       "    <tr>\n",
       "      <th>6041</th>\n",
       "      <td>214786</td>\n",
       "      <td>345417623</td>\n",
       "      <td>10.0</td>\n",
       "      <td>0.0</td>\n",
       "      <td>{'was_impossible': False}</td>\n",
       "      <td>52</td>\n",
       "      <td>111</td>\n",
       "      <td>10.0</td>\n",
       "    </tr>\n",
       "    <tr>\n",
       "      <th>8088</th>\n",
       "      <td>87555</td>\n",
       "      <td>451524934</td>\n",
       "      <td>10.0</td>\n",
       "      <td>0.0</td>\n",
       "      <td>{'was_impossible': False}</td>\n",
       "      <td>96</td>\n",
       "      <td>57</td>\n",
       "      <td>10.0</td>\n",
       "    </tr>\n",
       "    <tr>\n",
       "      <th>8144</th>\n",
       "      <td>141493</td>\n",
       "      <td>316666343</td>\n",
       "      <td>0.0</td>\n",
       "      <td>10.0</td>\n",
       "      <td>{'was_impossible': False}</td>\n",
       "      <td>55</td>\n",
       "      <td>306</td>\n",
       "      <td>10.0</td>\n",
       "    </tr>\n",
       "    <tr>\n",
       "      <th>7356</th>\n",
       "      <td>52584</td>\n",
       "      <td>380018179</td>\n",
       "      <td>10.0</td>\n",
       "      <td>0.0</td>\n",
       "      <td>{'was_impossible': False}</td>\n",
       "      <td>150</td>\n",
       "      <td>93</td>\n",
       "      <td>10.0</td>\n",
       "    </tr>\n",
       "    <tr>\n",
       "      <th>171</th>\n",
       "      <td>185233</td>\n",
       "      <td>451169530</td>\n",
       "      <td>10.0</td>\n",
       "      <td>0.0</td>\n",
       "      <td>{'was_impossible': False}</td>\n",
       "      <td>154</td>\n",
       "      <td>51</td>\n",
       "      <td>10.0</td>\n",
       "    </tr>\n",
       "    <tr>\n",
       "      <th>10283</th>\n",
       "      <td>241980</td>\n",
       "      <td>385504209</td>\n",
       "      <td>0.0</td>\n",
       "      <td>10.0</td>\n",
       "      <td>{'was_impossible': False}</td>\n",
       "      <td>46</td>\n",
       "      <td>237</td>\n",
       "      <td>10.0</td>\n",
       "    </tr>\n",
       "    <tr>\n",
       "      <th>1688</th>\n",
       "      <td>110440</td>\n",
       "      <td>014025448X</td>\n",
       "      <td>10.0</td>\n",
       "      <td>0.0</td>\n",
       "      <td>{'was_impossible': False}</td>\n",
       "      <td>21</td>\n",
       "      <td>81</td>\n",
       "      <td>10.0</td>\n",
       "    </tr>\n",
       "    <tr>\n",
       "      <th>7311</th>\n",
       "      <td>69232</td>\n",
       "      <td>440222656</td>\n",
       "      <td>10.0</td>\n",
       "      <td>0.0</td>\n",
       "      <td>{'was_impossible': False}</td>\n",
       "      <td>74</td>\n",
       "      <td>168</td>\n",
       "      <td>10.0</td>\n",
       "    </tr>\n",
       "    <tr>\n",
       "      <th>3789</th>\n",
       "      <td>172742</td>\n",
       "      <td>312983867</td>\n",
       "      <td>10.0</td>\n",
       "      <td>0.0</td>\n",
       "      <td>{'was_impossible': False}</td>\n",
       "      <td>102</td>\n",
       "      <td>69</td>\n",
       "      <td>10.0</td>\n",
       "    </tr>\n",
       "    <tr>\n",
       "      <th>9747</th>\n",
       "      <td>11601</td>\n",
       "      <td>60938455</td>\n",
       "      <td>10.0</td>\n",
       "      <td>0.0</td>\n",
       "      <td>{'was_impossible': False}</td>\n",
       "      <td>86</td>\n",
       "      <td>89</td>\n",
       "      <td>10.0</td>\n",
       "    </tr>\n",
       "  </tbody>\n",
       "</table>\n",
       "</div>"
      ],
      "text/plain": [
       "          uid         iid   rui   est                    details   Iu   Ui  \\\n",
       "6041   214786   345417623  10.0   0.0  {'was_impossible': False}   52  111   \n",
       "8088    87555   451524934  10.0   0.0  {'was_impossible': False}   96   57   \n",
       "8144   141493   316666343   0.0  10.0  {'was_impossible': False}   55  306   \n",
       "7356    52584   380018179  10.0   0.0  {'was_impossible': False}  150   93   \n",
       "171    185233   451169530  10.0   0.0  {'was_impossible': False}  154   51   \n",
       "10283  241980   385504209   0.0  10.0  {'was_impossible': False}   46  237   \n",
       "1688   110440  014025448X  10.0   0.0  {'was_impossible': False}   21   81   \n",
       "7311    69232   440222656  10.0   0.0  {'was_impossible': False}   74  168   \n",
       "3789   172742   312983867  10.0   0.0  {'was_impossible': False}  102   69   \n",
       "9747    11601    60938455  10.0   0.0  {'was_impossible': False}   86   89   \n",
       "\n",
       "        err  \n",
       "6041   10.0  \n",
       "8088   10.0  \n",
       "8144   10.0  \n",
       "7356   10.0  \n",
       "171    10.0  \n",
       "10283  10.0  \n",
       "1688   10.0  \n",
       "7311   10.0  \n",
       "3789   10.0  \n",
       "9747   10.0  "
      ]
     },
     "execution_count": 290,
     "metadata": {},
     "output_type": "execute_result"
    }
   ],
   "source": [
    "# Prediction df for best and wordst cases \n",
    "\n",
    "df = pd.DataFrame(predictions_svd, columns=['uid', 'iid', 'rui', 'est', 'details'])    \n",
    "df['Iu'] = df.uid.apply(get_Iu)\n",
    "df['Ui'] = df.iid.apply(get_Ui)\n",
    "df['err'] = abs(df.est - df.rui)\n",
    "\n",
    "\n",
    "best_predictions_svd = df.sort_values(by='err')[:10]\n",
    "worst_predictions_svd = df.sort_values(by='err')[-10:]\n",
    "best_predictions_svd\n",
    "worst_predictions_svd"
   ]
  },
  {
   "cell_type": "code",
   "execution_count": null,
   "metadata": {},
   "outputs": [],
   "source": []
  },
  {
   "cell_type": "code",
   "execution_count": null,
   "metadata": {},
   "outputs": [],
   "source": []
  },
  {
   "cell_type": "markdown",
   "metadata": {},
   "source": [
    "# Get top N-book recommendations for each user"
   ]
  },
  {
   "cell_type": "code",
   "execution_count": 203,
   "metadata": {},
   "outputs": [],
   "source": [
    "def get_top_n(predictions, n=10):\n",
    "    '''Return the top-N recommendation for each user from a set of predictions.\n",
    "\n",
    "    Args:\n",
    "        predictions(list of Prediction objects): The list of predictions, as\n",
    "            returned by the test method of an algorithm.\n",
    "        n(int): The number of recommendation to output for each user. Default\n",
    "            is 10.\n",
    "\n",
    "    Returns:\n",
    "    A dict where keys are user (raw) ids and values are lists of tuples:\n",
    "        [(raw item id, rating estimation), ...] of size n.\n",
    "    '''\n",
    "\n",
    "    # First map the predictions to each user.\n",
    "    top_n = defaultdict(list)\n",
    "    for uid, iid, true_r, est, _ in predictions:\n",
    "        top_n[uid].append((iid, est))\n",
    "\n",
    "    # Then sort the predictions for each user and retrieve the k highest ones.\n",
    "    for uid, user_ratings in top_n.items():\n",
    "        user_ratings.sort(key=lambda x: x[1], reverse=True)\n",
    "        top_n[uid] = user_ratings[:n]\n",
    "\n",
    "    return top_n"
   ]
  },
  {
   "cell_type": "code",
   "execution_count": 166,
   "metadata": {},
   "outputs": [
    {
     "data": {
      "text/plain": [
       "<surprise.prediction_algorithms.matrix_factorization.SVD at 0x11dc6a910>"
      ]
     },
     "execution_count": 166,
     "metadata": {},
     "output_type": "execute_result"
    }
   ],
   "source": [
    "# First train an SVD algorithm\n",
    "\n",
    "trainset = data.build_full_trainset()\n",
    "algo_svd = SVD()\n",
    "algo_svd.fit(trainset)"
   ]
  },
  {
   "cell_type": "code",
   "execution_count": 193,
   "metadata": {},
   "outputs": [],
   "source": [
    "# predict ratings for all pairs (u, i) that are NOT in the training set\n",
    "\n",
    "testset = trainset.build_anti_testset()\n",
    "predictions_svd = algo_svd.test(testset)"
   ]
  },
  {
   "cell_type": "markdown",
   "metadata": {},
   "source": [
    "# Enter User info : User-ID to get recommended books"
   ]
  },
  {
   "cell_type": "code",
   "execution_count": 232,
   "metadata": {},
   "outputs": [],
   "source": [
    "\n",
    "# Enter use info \n",
    "\n",
    "user = 276925\n",
    "top_n = get_top_n(predictions_svd)\n",
    "user_book_isbn = top_n.get(user)\n"
   ]
  },
  {
   "cell_type": "code",
   "execution_count": 298,
   "metadata": {},
   "outputs": [
    {
     "name": "stdout",
     "output_type": "stream",
     "text": [
      "\n",
      "\n",
      " The following books are remmended for you:\n",
      "\n",
      " \n",
      "Harry Potter and the Sorcerer's Stone (Book 1)\n",
      "\n",
      "\t\t You will like this book with (predictive) rating of:  7.45 /10.0\n",
      "\n",
      "Harry Potter and the Goblet of Fire (Book 4)\n",
      "\n",
      "\t\t You will like this book with (predictive) rating of:  7.1 /10.0\n",
      "\n",
      "Harry Potter and the Chamber of Secrets (Book 2)\n",
      "\n",
      "\t\t You will like this book with (predictive) rating of:  6.79 /10.0\n",
      "\n",
      "Harry Potter and the Prisoner of Azkaban (Book 3)\n",
      "\n",
      "\t\t You will like this book with (predictive) rating of:  6.57 /10.0\n",
      "\n",
      "Harry Potter and the Prisoner of Azkaban (Book 3)\n",
      "\n",
      "\t\t You will like this book with (predictive) rating of:  6.05 /10.0\n",
      "\n",
      "Confessions of a Shopaholic (Summer Display Opportunity)\n",
      "\n",
      "\t\t You will like this book with (predictive) rating of:  5.99 /10.0\n",
      "\n",
      "Chicken Soup for the Soul (Chicken Soup for the Soul)\n",
      "\n",
      "\t\t You will like this book with (predictive) rating of:  5.97 /10.0\n",
      "\n",
      "Eats\n",
      "\n",
      "\t\t You will like this book with (predictive) rating of:  5.36 /10.0\n",
      "\n",
      "The Partner\n",
      "\n",
      "\t\t You will like this book with (predictive) rating of:  5.19 /10.0\n",
      "\n",
      "Animal Farm\n",
      "\n",
      "\t\t You will like this book with (predictive) rating of:  5.0 /10.0\n",
      "\n"
     ]
    }
   ],
   "source": [
    "\n",
    "print('\\n\\n The following books are remmended for you:\\n\\n ')\n",
    "\n",
    "for isbn, pred_rating in user_book_isbn:\n",
    "    book_name = rating_books_merged[rating_books_merged['ISBN'] == isbn]['Book-Title'].unique()\n",
    "    print(str(book_name)[2:-2] )   \n",
    "    print('\\n\\t\\t You will like this book with (predictive) rating of: ', round(pred_rating, 2),'/10.0' '\\n')\n",
    "    \n"
   ]
  },
  {
   "cell_type": "code",
   "execution_count": null,
   "metadata": {},
   "outputs": [],
   "source": []
  },
  {
   "cell_type": "code",
   "execution_count": null,
   "metadata": {},
   "outputs": [],
   "source": []
  },
  {
   "cell_type": "code",
   "execution_count": null,
   "metadata": {},
   "outputs": [],
   "source": []
  },
  {
   "cell_type": "markdown",
   "metadata": {},
   "source": [
    "# GridSearchCV: Paramater tunning "
   ]
  },
  {
   "cell_type": "code",
   "execution_count": 305,
   "metadata": {},
   "outputs": [],
   "source": [
    "param_grid = {'n_epochs': [15, 20, 25, 30, 35, 40, 45, 50],\n",
    "                'n_factors': [100, 150, 200, 300],\n",
    "                'lr_all': [0.002, 0.003, 0.004, 0.005],\n",
    "                'reg_all': [0.02,0.01,0.05,0.1, 0.4, 0.6]}\n",
    "gs_svd = GridSearchCV(SVD, param_grid, measures=['rmse', 'mae'], cv=3, n_jobs = -1)"
   ]
  },
  {
   "cell_type": "code",
   "execution_count": 307,
   "metadata": {},
   "outputs": [],
   "source": [
    "# gs_svd.fit(train_data)"
   ]
  },
  {
   "cell_type": "code",
   "execution_count": 303,
   "metadata": {},
   "outputs": [],
   "source": [
    "# trainset = train_data.build_full_trainset()"
   ]
  },
  {
   "cell_type": "code",
   "execution_count": null,
   "metadata": {},
   "outputs": [],
   "source": [
    "print(\"RMSE score\", gs_svd.best_score['rmse'])\n",
    "\n",
    "# print(\"Best Parameters\", svd_mf.best_params['rmse'])"
   ]
  },
  {
   "cell_type": "code",
   "execution_count": null,
   "metadata": {},
   "outputs": [],
   "source": []
  },
  {
   "cell_type": "code",
   "execution_count": null,
   "metadata": {},
   "outputs": [],
   "source": []
  },
  {
   "cell_type": "markdown",
   "metadata": {},
   "source": [
    "# Use SVD++  for Matrix Factorization\n",
    "* permorms regularization and optimizes known terms \n",
    "* Takes into account of implicit ratings \n",
    "* extends vanilla SVD \n",
    "* used in Netflix challange "
   ]
  },
  {
   "cell_type": "markdown",
   "metadata": {},
   "source": [
    "The method SVD++, as well as most other matrix factorisation algorithms, will depend on a number of main tuning constants: \n",
    "* the dimension DD affecting the size of UU and VV\n",
    "* the learning rate affects the performance of the optimisation step\n",
    "* the regularisation term affecting the overfitting of the model \n",
    "* the number of epochs, which determines how many iterations of optimisation are used"
   ]
  },
  {
   "cell_type": "markdown",
   "metadata": {},
   "source": [
    " In surprise, tuning is performed using a function called GridSearchCV, which picks the constants which perform the best at predicting a held out testset. This means constant values to try need to be predefined."
   ]
  },
  {
   "cell_type": "code",
   "execution_count": 47,
   "metadata": {},
   "outputs": [
    {
     "data": {
      "text/plain": [
       "<surprise.dataset.DatasetAutoFolds at 0x13754c050>"
      ]
     },
     "execution_count": 47,
     "metadata": {},
     "output_type": "execute_result"
    }
   ],
   "source": [
    "data"
   ]
  },
  {
   "cell_type": "code",
   "execution_count": 42,
   "metadata": {},
   "outputs": [],
   "source": [
    "# cross validation \n",
    "# model = SVDpp()\n",
    "\n",
    "# too big data, reduce \n",
    "# result = cross_validate(svdp, data, verbose = True)"
   ]
  },
  {
   "cell_type": "code",
   "execution_count": 136,
   "metadata": {},
   "outputs": [],
   "source": [
    "model_svdpp = SVDpp()\n",
    "fit_model_svdpp = model_svdpp.fit(train_data)\n",
    "predictions_svdpp = fit_model_svdpp.test(test_data)"
   ]
  },
  {
   "cell_type": "code",
   "execution_count": 137,
   "metadata": {},
   "outputs": [
    {
     "name": "stdout",
     "output_type": "stream",
     "text": [
      "RMSE: 3.8744\n"
     ]
    },
    {
     "data": {
      "text/plain": [
       "3.8744140710638275"
      ]
     },
     "execution_count": 137,
     "metadata": {},
     "output_type": "execute_result"
    }
   ],
   "source": [
    "accuracy.rmse(predictions_svdpp)"
   ]
  },
  {
   "cell_type": "code",
   "execution_count": 146,
   "metadata": {},
   "outputs": [
    {
     "data": {
      "text/plain": [
       "2.2592226310947563"
      ]
     },
     "execution_count": 146,
     "metadata": {},
     "output_type": "execute_result"
    }
   ],
   "source": [
    "# predict one uid and one iid\n",
    "pred1 = model_svdpp.predict(uid ='6', iid = '2' )\n",
    "pred1.est"
   ]
  },
  {
   "cell_type": "code",
   "execution_count": null,
   "metadata": {},
   "outputs": [],
   "source": []
  },
  {
   "cell_type": "code",
   "execution_count": null,
   "metadata": {},
   "outputs": [],
   "source": []
  },
  {
   "cell_type": "code",
   "execution_count": 138,
   "metadata": {},
   "outputs": [
    {
     "data": {
      "text/html": [
       "<div>\n",
       "<style scoped>\n",
       "    .dataframe tbody tr th:only-of-type {\n",
       "        vertical-align: middle;\n",
       "    }\n",
       "\n",
       "    .dataframe tbody tr th {\n",
       "        vertical-align: top;\n",
       "    }\n",
       "\n",
       "    .dataframe thead th {\n",
       "        text-align: right;\n",
       "    }\n",
       "</style>\n",
       "<table border=\"1\" class=\"dataframe\">\n",
       "  <thead>\n",
       "    <tr style=\"text-align: right;\">\n",
       "      <th></th>\n",
       "      <th>uid</th>\n",
       "      <th>iid</th>\n",
       "      <th>rui</th>\n",
       "      <th>est</th>\n",
       "      <th>details</th>\n",
       "      <th>Iu</th>\n",
       "      <th>Ui</th>\n",
       "      <th>err</th>\n",
       "    </tr>\n",
       "  </thead>\n",
       "  <tbody>\n",
       "    <tr>\n",
       "      <th>0</th>\n",
       "      <td>204864</td>\n",
       "      <td>312995423</td>\n",
       "      <td>0.0</td>\n",
       "      <td>0.0</td>\n",
       "      <td>{'was_impossible': False}</td>\n",
       "      <td>170</td>\n",
       "      <td>55</td>\n",
       "      <td>0.0</td>\n",
       "    </tr>\n",
       "    <tr>\n",
       "      <th>4744</th>\n",
       "      <td>177374</td>\n",
       "      <td>373218036</td>\n",
       "      <td>0.0</td>\n",
       "      <td>0.0</td>\n",
       "      <td>{'was_impossible': False}</td>\n",
       "      <td>21</td>\n",
       "      <td>53</td>\n",
       "      <td>0.0</td>\n",
       "    </tr>\n",
       "    <tr>\n",
       "      <th>4748</th>\n",
       "      <td>15418</td>\n",
       "      <td>553280368</td>\n",
       "      <td>0.0</td>\n",
       "      <td>0.0</td>\n",
       "      <td>{'was_impossible': False}</td>\n",
       "      <td>19</td>\n",
       "      <td>86</td>\n",
       "      <td>0.0</td>\n",
       "    </tr>\n",
       "    <tr>\n",
       "      <th>4755</th>\n",
       "      <td>180957</td>\n",
       "      <td>385420161</td>\n",
       "      <td>0.0</td>\n",
       "      <td>0.0</td>\n",
       "      <td>{'was_impossible': False}</td>\n",
       "      <td>25</td>\n",
       "      <td>51</td>\n",
       "      <td>0.0</td>\n",
       "    </tr>\n",
       "    <tr>\n",
       "      <th>4758</th>\n",
       "      <td>39646</td>\n",
       "      <td>446605484</td>\n",
       "      <td>0.0</td>\n",
       "      <td>0.0</td>\n",
       "      <td>{'was_impossible': False}</td>\n",
       "      <td>100</td>\n",
       "      <td>70</td>\n",
       "      <td>0.0</td>\n",
       "    </tr>\n",
       "    <tr>\n",
       "      <th>4760</th>\n",
       "      <td>244688</td>\n",
       "      <td>312983824</td>\n",
       "      <td>0.0</td>\n",
       "      <td>0.0</td>\n",
       "      <td>{'was_impossible': False}</td>\n",
       "      <td>23</td>\n",
       "      <td>58</td>\n",
       "      <td>0.0</td>\n",
       "    </tr>\n",
       "    <tr>\n",
       "      <th>4770</th>\n",
       "      <td>187145</td>\n",
       "      <td>385503822</td>\n",
       "      <td>0.0</td>\n",
       "      <td>0.0</td>\n",
       "      <td>{'was_impossible': False}</td>\n",
       "      <td>89</td>\n",
       "      <td>45</td>\n",
       "      <td>0.0</td>\n",
       "    </tr>\n",
       "    <tr>\n",
       "      <th>4771</th>\n",
       "      <td>55493</td>\n",
       "      <td>60987529</td>\n",
       "      <td>0.0</td>\n",
       "      <td>0.0</td>\n",
       "      <td>{'was_impossible': False}</td>\n",
       "      <td>22</td>\n",
       "      <td>92</td>\n",
       "      <td>0.0</td>\n",
       "    </tr>\n",
       "    <tr>\n",
       "      <th>4779</th>\n",
       "      <td>112001</td>\n",
       "      <td>515128546</td>\n",
       "      <td>0.0</td>\n",
       "      <td>0.0</td>\n",
       "      <td>{'was_impossible': False}</td>\n",
       "      <td>51</td>\n",
       "      <td>71</td>\n",
       "      <td>0.0</td>\n",
       "    </tr>\n",
       "    <tr>\n",
       "      <th>4780</th>\n",
       "      <td>225989</td>\n",
       "      <td>345380371</td>\n",
       "      <td>0.0</td>\n",
       "      <td>0.0</td>\n",
       "      <td>{'was_impossible': False}</td>\n",
       "      <td>49</td>\n",
       "      <td>96</td>\n",
       "      <td>0.0</td>\n",
       "    </tr>\n",
       "  </tbody>\n",
       "</table>\n",
       "</div>"
      ],
      "text/plain": [
       "         uid        iid  rui  est                    details   Iu  Ui  err\n",
       "0     204864  312995423  0.0  0.0  {'was_impossible': False}  170  55  0.0\n",
       "4744  177374  373218036  0.0  0.0  {'was_impossible': False}   21  53  0.0\n",
       "4748   15418  553280368  0.0  0.0  {'was_impossible': False}   19  86  0.0\n",
       "4755  180957  385420161  0.0  0.0  {'was_impossible': False}   25  51  0.0\n",
       "4758   39646  446605484  0.0  0.0  {'was_impossible': False}  100  70  0.0\n",
       "4760  244688  312983824  0.0  0.0  {'was_impossible': False}   23  58  0.0\n",
       "4770  187145  385503822  0.0  0.0  {'was_impossible': False}   89  45  0.0\n",
       "4771   55493   60987529  0.0  0.0  {'was_impossible': False}   22  92  0.0\n",
       "4779  112001  515128546  0.0  0.0  {'was_impossible': False}   51  71  0.0\n",
       "4780  225989  345380371  0.0  0.0  {'was_impossible': False}   49  96  0.0"
      ]
     },
     "execution_count": 138,
     "metadata": {},
     "output_type": "execute_result"
    },
    {
     "data": {
      "text/html": [
       "<div>\n",
       "<style scoped>\n",
       "    .dataframe tbody tr th:only-of-type {\n",
       "        vertical-align: middle;\n",
       "    }\n",
       "\n",
       "    .dataframe tbody tr th {\n",
       "        vertical-align: top;\n",
       "    }\n",
       "\n",
       "    .dataframe thead th {\n",
       "        text-align: right;\n",
       "    }\n",
       "</style>\n",
       "<table border=\"1\" class=\"dataframe\">\n",
       "  <thead>\n",
       "    <tr style=\"text-align: right;\">\n",
       "      <th></th>\n",
       "      <th>uid</th>\n",
       "      <th>iid</th>\n",
       "      <th>rui</th>\n",
       "      <th>est</th>\n",
       "      <th>details</th>\n",
       "      <th>Iu</th>\n",
       "      <th>Ui</th>\n",
       "      <th>err</th>\n",
       "    </tr>\n",
       "  </thead>\n",
       "  <tbody>\n",
       "    <tr>\n",
       "      <th>1456</th>\n",
       "      <td>198930</td>\n",
       "      <td>380002930</td>\n",
       "      <td>0.0</td>\n",
       "      <td>10.0</td>\n",
       "      <td>{'was_impossible': False}</td>\n",
       "      <td>11</td>\n",
       "      <td>85</td>\n",
       "      <td>10.0</td>\n",
       "    </tr>\n",
       "    <tr>\n",
       "      <th>3188</th>\n",
       "      <td>110912</td>\n",
       "      <td>452282829</td>\n",
       "      <td>0.0</td>\n",
       "      <td>10.0</td>\n",
       "      <td>{'was_impossible': False}</td>\n",
       "      <td>97</td>\n",
       "      <td>113</td>\n",
       "      <td>10.0</td>\n",
       "    </tr>\n",
       "    <tr>\n",
       "      <th>3364</th>\n",
       "      <td>236340</td>\n",
       "      <td>446605239</td>\n",
       "      <td>0.0</td>\n",
       "      <td>10.0</td>\n",
       "      <td>{'was_impossible': False}</td>\n",
       "      <td>76</td>\n",
       "      <td>157</td>\n",
       "      <td>10.0</td>\n",
       "    </tr>\n",
       "    <tr>\n",
       "      <th>2146</th>\n",
       "      <td>167471</td>\n",
       "      <td>452282152</td>\n",
       "      <td>0.0</td>\n",
       "      <td>10.0</td>\n",
       "      <td>{'was_impossible': False}</td>\n",
       "      <td>57</td>\n",
       "      <td>140</td>\n",
       "      <td>10.0</td>\n",
       "    </tr>\n",
       "    <tr>\n",
       "      <th>9798</th>\n",
       "      <td>152946</td>\n",
       "      <td>156027321</td>\n",
       "      <td>0.0</td>\n",
       "      <td>10.0</td>\n",
       "      <td>{'was_impossible': False}</td>\n",
       "      <td>18</td>\n",
       "      <td>143</td>\n",
       "      <td>10.0</td>\n",
       "    </tr>\n",
       "    <tr>\n",
       "      <th>8378</th>\n",
       "      <td>36606</td>\n",
       "      <td>743224574</td>\n",
       "      <td>10.0</td>\n",
       "      <td>0.0</td>\n",
       "      <td>{'was_impossible': False}</td>\n",
       "      <td>131</td>\n",
       "      <td>42</td>\n",
       "      <td>10.0</td>\n",
       "    </tr>\n",
       "    <tr>\n",
       "      <th>7117</th>\n",
       "      <td>104211</td>\n",
       "      <td>446605409</td>\n",
       "      <td>10.0</td>\n",
       "      <td>0.0</td>\n",
       "      <td>{'was_impossible': False}</td>\n",
       "      <td>31</td>\n",
       "      <td>36</td>\n",
       "      <td>10.0</td>\n",
       "    </tr>\n",
       "    <tr>\n",
       "      <th>417</th>\n",
       "      <td>23571</td>\n",
       "      <td>312195516</td>\n",
       "      <td>10.0</td>\n",
       "      <td>0.0</td>\n",
       "      <td>{'was_impossible': False}</td>\n",
       "      <td>16</td>\n",
       "      <td>189</td>\n",
       "      <td>10.0</td>\n",
       "    </tr>\n",
       "    <tr>\n",
       "      <th>1512</th>\n",
       "      <td>214786</td>\n",
       "      <td>553268880</td>\n",
       "      <td>10.0</td>\n",
       "      <td>0.0</td>\n",
       "      <td>{'was_impossible': False}</td>\n",
       "      <td>52</td>\n",
       "      <td>112</td>\n",
       "      <td>10.0</td>\n",
       "    </tr>\n",
       "    <tr>\n",
       "      <th>5391</th>\n",
       "      <td>141493</td>\n",
       "      <td>385336179</td>\n",
       "      <td>10.0</td>\n",
       "      <td>0.0</td>\n",
       "      <td>{'was_impossible': False}</td>\n",
       "      <td>55</td>\n",
       "      <td>62</td>\n",
       "      <td>10.0</td>\n",
       "    </tr>\n",
       "  </tbody>\n",
       "</table>\n",
       "</div>"
      ],
      "text/plain": [
       "         uid        iid   rui   est                    details   Iu   Ui   err\n",
       "1456  198930  380002930   0.0  10.0  {'was_impossible': False}   11   85  10.0\n",
       "3188  110912  452282829   0.0  10.0  {'was_impossible': False}   97  113  10.0\n",
       "3364  236340  446605239   0.0  10.0  {'was_impossible': False}   76  157  10.0\n",
       "2146  167471  452282152   0.0  10.0  {'was_impossible': False}   57  140  10.0\n",
       "9798  152946  156027321   0.0  10.0  {'was_impossible': False}   18  143  10.0\n",
       "8378   36606  743224574  10.0   0.0  {'was_impossible': False}  131   42  10.0\n",
       "7117  104211  446605409  10.0   0.0  {'was_impossible': False}   31   36  10.0\n",
       "417    23571  312195516  10.0   0.0  {'was_impossible': False}   16  189  10.0\n",
       "1512  214786  553268880  10.0   0.0  {'was_impossible': False}   52  112  10.0\n",
       "5391  141493  385336179  10.0   0.0  {'was_impossible': False}   55   62  10.0"
      ]
     },
     "execution_count": 138,
     "metadata": {},
     "output_type": "execute_result"
    }
   ],
   "source": [
    "# Prediction df for best and wordst cases \n",
    "\n",
    "df = pd.DataFrame(predictions_svdpp, columns=['uid', 'iid', 'rui', 'est', 'details'])    \n",
    "df['Iu'] = df.uid.apply(get_Iu)\n",
    "df['Ui'] = df.iid.apply(get_Ui)\n",
    "df['err'] = abs(df.est - df.rui)\n",
    "\n",
    "\n",
    "best_predictions_pp = df.sort_values(by='err')[:10]\n",
    "worst_predictions_pp = df.sort_values(by='err')[-10:]\n",
    "best_predictions_pp\n",
    "worst_predictions_pp\n"
   ]
  },
  {
   "cell_type": "code",
   "execution_count": null,
   "metadata": {},
   "outputs": [],
   "source": []
  },
  {
   "cell_type": "code",
   "execution_count": null,
   "metadata": {},
   "outputs": [],
   "source": [
    "# Use GridSearchCV "
   ]
  },
  {
   "cell_type": "code",
   "execution_count": 152,
   "metadata": {},
   "outputs": [],
   "source": [
    "param_grid = {'n_factors':[20,30,40],'n_epochs':[10,20,30],  'lr_all':[0.005,0.009, 0.01],'reg_all':[0.02, 0.07, 0.1]}\n",
    "gs = GridSearchCV(SVDpp, param_grid, measures=['rmse'], cv=3)"
   ]
  },
  {
   "cell_type": "code",
   "execution_count": null,
   "metadata": {},
   "outputs": [],
   "source": []
  },
  {
   "cell_type": "code",
   "execution_count": null,
   "metadata": {},
   "outputs": [],
   "source": []
  },
  {
   "cell_type": "code",
   "execution_count": null,
   "metadata": {},
   "outputs": [],
   "source": []
  },
  {
   "cell_type": "code",
   "execution_count": null,
   "metadata": {},
   "outputs": [],
   "source": []
  },
  {
   "cell_type": "code",
   "execution_count": null,
   "metadata": {},
   "outputs": [],
   "source": []
  },
  {
   "cell_type": "code",
   "execution_count": null,
   "metadata": {},
   "outputs": [],
   "source": []
  },
  {
   "cell_type": "code",
   "execution_count": null,
   "metadata": {},
   "outputs": [],
   "source": []
  },
  {
   "cell_type": "code",
   "execution_count": 10,
   "metadata": {},
   "outputs": [],
   "source": [
    "svdtuned = SVD(n_factors=params['n_factors'], n_epochs=params['n_epochs'],lr_all=params['lr_all'], reg_all=params['reg_all')"
   ]
  },
  {
   "cell_type": "code",
   "execution_count": null,
   "metadata": {},
   "outputs": [],
   "source": []
  },
  {
   "cell_type": "code",
   "execution_count": null,
   "metadata": {},
   "outputs": [],
   "source": []
  },
  {
   "cell_type": "code",
   "execution_count": null,
   "metadata": {},
   "outputs": [],
   "source": []
  },
  {
   "cell_type": "code",
   "execution_count": null,
   "metadata": {},
   "outputs": [],
   "source": []
  },
  {
   "cell_type": "code",
   "execution_count": null,
   "metadata": {},
   "outputs": [],
   "source": []
  },
  {
   "cell_type": "code",
   "execution_count": null,
   "metadata": {},
   "outputs": [],
   "source": []
  },
  {
   "cell_type": "code",
   "execution_count": null,
   "metadata": {},
   "outputs": [],
   "source": []
  },
  {
   "cell_type": "code",
   "execution_count": null,
   "metadata": {},
   "outputs": [],
   "source": []
  },
  {
   "cell_type": "code",
   "execution_count": null,
   "metadata": {},
   "outputs": [],
   "source": []
  },
  {
   "cell_type": "code",
   "execution_count": null,
   "metadata": {},
   "outputs": [],
   "source": []
  },
  {
   "cell_type": "code",
   "execution_count": null,
   "metadata": {},
   "outputs": [],
   "source": []
  },
  {
   "cell_type": "code",
   "execution_count": null,
   "metadata": {},
   "outputs": [],
   "source": []
  },
  {
   "cell_type": "code",
   "execution_count": null,
   "metadata": {},
   "outputs": [],
   "source": []
  },
  {
   "cell_type": "code",
   "execution_count": null,
   "metadata": {},
   "outputs": [],
   "source": []
  },
  {
   "cell_type": "code",
   "execution_count": null,
   "metadata": {},
   "outputs": [],
   "source": []
  },
  {
   "cell_type": "code",
   "execution_count": null,
   "metadata": {},
   "outputs": [],
   "source": []
  },
  {
   "cell_type": "code",
   "execution_count": null,
   "metadata": {},
   "outputs": [],
   "source": []
  },
  {
   "cell_type": "code",
   "execution_count": null,
   "metadata": {},
   "outputs": [],
   "source": []
  },
  {
   "cell_type": "code",
   "execution_count": null,
   "metadata": {},
   "outputs": [],
   "source": []
  },
  {
   "cell_type": "code",
   "execution_count": null,
   "metadata": {},
   "outputs": [],
   "source": []
  },
  {
   "cell_type": "code",
   "execution_count": null,
   "metadata": {},
   "outputs": [],
   "source": []
  },
  {
   "cell_type": "code",
   "execution_count": null,
   "metadata": {},
   "outputs": [],
   "source": []
  },
  {
   "cell_type": "code",
   "execution_count": null,
   "metadata": {},
   "outputs": [],
   "source": []
  },
  {
   "cell_type": "code",
   "execution_count": null,
   "metadata": {},
   "outputs": [],
   "source": []
  },
  {
   "cell_type": "code",
   "execution_count": null,
   "metadata": {},
   "outputs": [],
   "source": []
  },
  {
   "cell_type": "code",
   "execution_count": null,
   "metadata": {},
   "outputs": [],
   "source": []
  },
  {
   "cell_type": "code",
   "execution_count": null,
   "metadata": {},
   "outputs": [],
   "source": []
  },
  {
   "cell_type": "code",
   "execution_count": null,
   "metadata": {},
   "outputs": [],
   "source": []
  },
  {
   "cell_type": "code",
   "execution_count": null,
   "metadata": {},
   "outputs": [],
   "source": []
  },
  {
   "cell_type": "code",
   "execution_count": null,
   "metadata": {},
   "outputs": [],
   "source": []
  },
  {
   "cell_type": "code",
   "execution_count": null,
   "metadata": {},
   "outputs": [],
   "source": []
  },
  {
   "cell_type": "code",
   "execution_count": null,
   "metadata": {},
   "outputs": [],
   "source": []
  },
  {
   "cell_type": "code",
   "execution_count": null,
   "metadata": {},
   "outputs": [],
   "source": []
  },
  {
   "cell_type": "code",
   "execution_count": null,
   "metadata": {},
   "outputs": [],
   "source": []
  },
  {
   "cell_type": "code",
   "execution_count": null,
   "metadata": {},
   "outputs": [],
   "source": []
  }
 ],
 "metadata": {
  "kernelspec": {
   "display_name": "Python 3.7.4 64-bit ('anaconda3': virtualenv)",
   "language": "python",
   "name": "python37464bitanaconda3virtualenvf939463149494a51a1a46a65879359a2"
  },
  "language_info": {
   "codemirror_mode": {
    "name": "ipython",
    "version": 3
   },
   "file_extension": ".py",
   "mimetype": "text/x-python",
   "name": "python",
   "nbconvert_exporter": "python",
   "pygments_lexer": "ipython3",
   "version": "3.7.7"
  }
 },
 "nbformat": 4,
 "nbformat_minor": 4
}
