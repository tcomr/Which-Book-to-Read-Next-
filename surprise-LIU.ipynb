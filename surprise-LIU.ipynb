{
 "cells": [
  {
   "cell_type": "markdown",
   "metadata": {},
   "source": [
    "# LIU Post Class Presentation \n",
    "* May 7, 2021"
   ]
  },
  {
   "cell_type": "code",
   "execution_count": 155,
   "metadata": {},
   "outputs": [],
   "source": [
    "\n",
    "import time\n",
    "import datetime\n",
    "import random\n",
    "\n",
    "import numpy as np\n",
    "from collections import defaultdict\n",
    "\n",
    "from surprise import Reader\n",
    "from surprise.model_selection import cross_validate\n",
    "from surprise.model_selection import GridSearchCV\n",
    "from surprise.model_selection import KFold\n",
    "from surprise.model_selection.split import train_test_split\n",
    "from surprise import NormalPredictor\n",
    "from surprise import BaselineOnly\n",
    "from surprise import KNNBasic\n",
    "from surprise import KNNWithMeans\n",
    "from surprise import KNNBaseline\n",
    "from surprise import SVD\n",
    "from surprise import SVDpp\n",
    "from surprise import NMF\n",
    "from surprise import SlopeOne\n",
    "from surprise import CoClustering\n",
    "from surprise import accuracy\n"
   ]
  },
  {
   "cell_type": "code",
   "execution_count": 156,
   "metadata": {},
   "outputs": [],
   "source": [
    "from IPython.core.interactiveshell import InteractiveShell\n",
    "InteractiveShell.ast_node_interactivity = \"all\""
   ]
  },
  {
   "cell_type": "code",
   "execution_count": 157,
   "metadata": {},
   "outputs": [],
   "source": [
    "import pandas as pd\n",
    "rating = pd.read_csv('data/rating.csv', encoding=\"latin-1\")"
   ]
  },
  {
   "cell_type": "code",
   "execution_count": 158,
   "metadata": {},
   "outputs": [],
   "source": [
    "# rename columns to fit the model \n",
    "all_ratings = pd.DataFrame(rating.rename(columns={\"User-ID\": \"userID\", \"ISBN\": \"itemID\", \"Book-Rating\": \"rating\"}))"
   ]
  },
  {
   "cell_type": "code",
   "execution_count": 159,
   "metadata": {},
   "outputs": [
    {
     "data": {
      "text/html": [
       "<div>\n",
       "<style scoped>\n",
       "    .dataframe tbody tr th:only-of-type {\n",
       "        vertical-align: middle;\n",
       "    }\n",
       "\n",
       "    .dataframe tbody tr th {\n",
       "        vertical-align: top;\n",
       "    }\n",
       "\n",
       "    .dataframe thead th {\n",
       "        text-align: right;\n",
       "    }\n",
       "</style>\n",
       "<table border=\"1\" class=\"dataframe\">\n",
       "  <thead>\n",
       "    <tr style=\"text-align: right;\">\n",
       "      <th></th>\n",
       "      <th>userID</th>\n",
       "      <th>itemID</th>\n",
       "      <th>rating</th>\n",
       "    </tr>\n",
       "  </thead>\n",
       "  <tbody>\n",
       "    <tr>\n",
       "      <th>0</th>\n",
       "      <td>276725</td>\n",
       "      <td>034545104X</td>\n",
       "      <td>0.0</td>\n",
       "    </tr>\n",
       "    <tr>\n",
       "      <th>1</th>\n",
       "      <td>276726</td>\n",
       "      <td>155061224</td>\n",
       "      <td>5.0</td>\n",
       "    </tr>\n",
       "    <tr>\n",
       "      <th>2</th>\n",
       "      <td>276727</td>\n",
       "      <td>446520802</td>\n",
       "      <td>0.0</td>\n",
       "    </tr>\n",
       "    <tr>\n",
       "      <th>3</th>\n",
       "      <td>276729</td>\n",
       "      <td>052165615X</td>\n",
       "      <td>3.0</td>\n",
       "    </tr>\n",
       "    <tr>\n",
       "      <th>4</th>\n",
       "      <td>276729</td>\n",
       "      <td>521795028</td>\n",
       "      <td>6.0</td>\n",
       "    </tr>\n",
       "  </tbody>\n",
       "</table>\n",
       "</div>"
      ],
      "text/plain": [
       "   userID      itemID  rating\n",
       "0  276725  034545104X     0.0\n",
       "1  276726   155061224     5.0\n",
       "2  276727   446520802     0.0\n",
       "3  276729  052165615X     3.0\n",
       "4  276729   521795028     6.0"
      ]
     },
     "execution_count": 159,
     "metadata": {},
     "output_type": "execute_result"
    }
   ],
   "source": [
    "all_ratings.head()"
   ]
  },
  {
   "cell_type": "markdown",
   "metadata": {},
   "source": [
    "# Explecit and implicit rating "
   ]
  },
  {
   "cell_type": "code",
   "execution_count": 160,
   "metadata": {},
   "outputs": [],
   "source": [
    "# Rating without 0 \n",
    "ratings = all_ratings[all_ratings['rating'] != 0]\n",
    "implicit_ratings = all_ratings[all_ratings['rating'] == 0]\n"
   ]
  },
  {
   "cell_type": "code",
   "execution_count": 161,
   "metadata": {},
   "outputs": [
    {
     "data": {
      "text/plain": [
       "(397248, 3)"
      ]
     },
     "execution_count": 161,
     "metadata": {},
     "output_type": "execute_result"
    },
    {
     "data": {
      "text/plain": [
       "Index(['userID', 'itemID', 'rating'], dtype='object')"
      ]
     },
     "execution_count": 161,
     "metadata": {},
     "output_type": "execute_result"
    },
    {
     "data": {
      "text/plain": [
       "(651327, 3)"
      ]
     },
     "execution_count": 161,
     "metadata": {},
     "output_type": "execute_result"
    },
    {
     "data": {
      "text/plain": [
       "Index(['userID', 'itemID', 'rating'], dtype='object')"
      ]
     },
     "execution_count": 161,
     "metadata": {},
     "output_type": "execute_result"
    }
   ],
   "source": [
    "ratings.shape\n",
    "ratings.columns\n",
    "implicit_ratings.shape\n",
    "implicit_ratings.columns"
   ]
  },
  {
   "cell_type": "code",
   "execution_count": 162,
   "metadata": {},
   "outputs": [
    {
     "data": {
      "text/html": [
       "<div>\n",
       "<style scoped>\n",
       "    .dataframe tbody tr th:only-of-type {\n",
       "        vertical-align: middle;\n",
       "    }\n",
       "\n",
       "    .dataframe tbody tr th {\n",
       "        vertical-align: top;\n",
       "    }\n",
       "\n",
       "    .dataframe thead th {\n",
       "        text-align: right;\n",
       "    }\n",
       "</style>\n",
       "<table border=\"1\" class=\"dataframe\">\n",
       "  <thead>\n",
       "    <tr style=\"text-align: right;\">\n",
       "      <th></th>\n",
       "      <th>userID</th>\n",
       "      <th>itemID</th>\n",
       "      <th>rating</th>\n",
       "    </tr>\n",
       "  </thead>\n",
       "  <tbody>\n",
       "    <tr>\n",
       "      <th>1</th>\n",
       "      <td>276726</td>\n",
       "      <td>155061224</td>\n",
       "      <td>5.0</td>\n",
       "    </tr>\n",
       "    <tr>\n",
       "      <th>3</th>\n",
       "      <td>276729</td>\n",
       "      <td>052165615X</td>\n",
       "      <td>3.0</td>\n",
       "    </tr>\n",
       "    <tr>\n",
       "      <th>4</th>\n",
       "      <td>276729</td>\n",
       "      <td>521795028</td>\n",
       "      <td>6.0</td>\n",
       "    </tr>\n",
       "    <tr>\n",
       "      <th>6</th>\n",
       "      <td>276736</td>\n",
       "      <td>3257224281</td>\n",
       "      <td>8.0</td>\n",
       "    </tr>\n",
       "    <tr>\n",
       "      <th>7</th>\n",
       "      <td>276737</td>\n",
       "      <td>600570967</td>\n",
       "      <td>6.0</td>\n",
       "    </tr>\n",
       "  </tbody>\n",
       "</table>\n",
       "</div>"
      ],
      "text/plain": [
       "   userID      itemID  rating\n",
       "1  276726   155061224     5.0\n",
       "3  276729  052165615X     3.0\n",
       "4  276729   521795028     6.0\n",
       "6  276736  3257224281     8.0\n",
       "7  276737   600570967     6.0"
      ]
     },
     "execution_count": 162,
     "metadata": {},
     "output_type": "execute_result"
    },
    {
     "data": {
      "text/html": [
       "<div>\n",
       "<style scoped>\n",
       "    .dataframe tbody tr th:only-of-type {\n",
       "        vertical-align: middle;\n",
       "    }\n",
       "\n",
       "    .dataframe tbody tr th {\n",
       "        vertical-align: top;\n",
       "    }\n",
       "\n",
       "    .dataframe thead th {\n",
       "        text-align: right;\n",
       "    }\n",
       "</style>\n",
       "<table border=\"1\" class=\"dataframe\">\n",
       "  <thead>\n",
       "    <tr style=\"text-align: right;\">\n",
       "      <th></th>\n",
       "      <th>userID</th>\n",
       "      <th>itemID</th>\n",
       "      <th>rating</th>\n",
       "    </tr>\n",
       "  </thead>\n",
       "  <tbody>\n",
       "    <tr>\n",
       "      <th>0</th>\n",
       "      <td>276725</td>\n",
       "      <td>034545104X</td>\n",
       "      <td>0.0</td>\n",
       "    </tr>\n",
       "    <tr>\n",
       "      <th>2</th>\n",
       "      <td>276727</td>\n",
       "      <td>446520802</td>\n",
       "      <td>0.0</td>\n",
       "    </tr>\n",
       "    <tr>\n",
       "      <th>5</th>\n",
       "      <td>276733</td>\n",
       "      <td>2080674722</td>\n",
       "      <td>0.0</td>\n",
       "    </tr>\n",
       "    <tr>\n",
       "      <th>10</th>\n",
       "      <td>276746</td>\n",
       "      <td>425115801</td>\n",
       "      <td>0.0</td>\n",
       "    </tr>\n",
       "    <tr>\n",
       "      <th>11</th>\n",
       "      <td>276746</td>\n",
       "      <td>449006522</td>\n",
       "      <td>0.0</td>\n",
       "    </tr>\n",
       "  </tbody>\n",
       "</table>\n",
       "</div>"
      ],
      "text/plain": [
       "    userID      itemID  rating\n",
       "0   276725  034545104X     0.0\n",
       "2   276727   446520802     0.0\n",
       "5   276733  2080674722     0.0\n",
       "10  276746   425115801     0.0\n",
       "11  276746   449006522     0.0"
      ]
     },
     "execution_count": 162,
     "metadata": {},
     "output_type": "execute_result"
    }
   ],
   "source": [
    "ratings.head()\n",
    "implicit_ratings.head()"
   ]
  },
  {
   "cell_type": "code",
   "execution_count": 163,
   "metadata": {},
   "outputs": [
    {
     "data": {
      "text/html": [
       "<div>\n",
       "<style scoped>\n",
       "    .dataframe tbody tr th:only-of-type {\n",
       "        vertical-align: middle;\n",
       "    }\n",
       "\n",
       "    .dataframe tbody tr th {\n",
       "        vertical-align: top;\n",
       "    }\n",
       "\n",
       "    .dataframe thead th {\n",
       "        text-align: right;\n",
       "    }\n",
       "</style>\n",
       "<table border=\"1\" class=\"dataframe\">\n",
       "  <thead>\n",
       "    <tr style=\"text-align: right;\">\n",
       "      <th></th>\n",
       "      <th>itemID</th>\n",
       "      <th>rating</th>\n",
       "    </tr>\n",
       "    <tr>\n",
       "      <th>userID</th>\n",
       "      <th></th>\n",
       "      <th></th>\n",
       "    </tr>\n",
       "  </thead>\n",
       "  <tbody>\n",
       "    <tr>\n",
       "      <th>11676</th>\n",
       "      <td>8524</td>\n",
       "      <td>8524</td>\n",
       "    </tr>\n",
       "    <tr>\n",
       "      <th>98391</th>\n",
       "      <td>5802</td>\n",
       "      <td>5802</td>\n",
       "    </tr>\n",
       "    <tr>\n",
       "      <th>153662</th>\n",
       "      <td>1969</td>\n",
       "      <td>1969</td>\n",
       "    </tr>\n",
       "    <tr>\n",
       "      <th>189835</th>\n",
       "      <td>1906</td>\n",
       "      <td>1906</td>\n",
       "    </tr>\n",
       "    <tr>\n",
       "      <th>23902</th>\n",
       "      <td>1395</td>\n",
       "      <td>1395</td>\n",
       "    </tr>\n",
       "  </tbody>\n",
       "</table>\n",
       "</div>"
      ],
      "text/plain": [
       "        itemID  rating\n",
       "userID                \n",
       "11676     8524    8524\n",
       "98391     5802    5802\n",
       "153662    1969    1969\n",
       "189835    1906    1906\n",
       "23902     1395    1395"
      ]
     },
     "execution_count": 163,
     "metadata": {},
     "output_type": "execute_result"
    }
   ],
   "source": [
    "# users who rated most books \n",
    "\n",
    "ratings.groupby('userID').count().sort_values('rating', ascending = False).head()\n"
   ]
  },
  {
   "cell_type": "code",
   "execution_count": null,
   "metadata": {},
   "outputs": [],
   "source": []
  },
  {
   "cell_type": "code",
   "execution_count": null,
   "metadata": {},
   "outputs": [],
   "source": []
  },
  {
   "cell_type": "code",
   "execution_count": 164,
   "metadata": {},
   "outputs": [
    {
     "name": "stderr",
     "output_type": "stream",
     "text": [
      "/Users/sts/opt/anaconda3/lib/python3.8/site-packages/IPython/core/interactiveshell.py:3146: DtypeWarning: Columns (3,8,9,10,11,12,13,14,15,16,17,18,19,20,21) have mixed types.Specify dtype option on import or set low_memory=False.\n",
      "  has_raised = await self.run_ast_nodes(code_ast.body, cell_name,\n"
     ]
    }
   ],
   "source": [
    "books_df = pd.read_csv('data/books.csv', encoding=\"latin-1\")"
   ]
  },
  {
   "cell_type": "code",
   "execution_count": 165,
   "metadata": {},
   "outputs": [],
   "source": [
    "# Drop imageURL features, don't need them \n",
    "features = ['ISBN', 'Book-Title', 'Book-Author', 'Year-Of-Publication', 'Publisher']\n",
    "books = books_df[features]"
   ]
  },
  {
   "cell_type": "code",
   "execution_count": 166,
   "metadata": {},
   "outputs": [
    {
     "data": {
      "text/plain": [
       "(271379, 5)"
      ]
     },
     "execution_count": 166,
     "metadata": {},
     "output_type": "execute_result"
    },
    {
     "data": {
      "text/html": [
       "<div>\n",
       "<style scoped>\n",
       "    .dataframe tbody tr th:only-of-type {\n",
       "        vertical-align: middle;\n",
       "    }\n",
       "\n",
       "    .dataframe tbody tr th {\n",
       "        vertical-align: top;\n",
       "    }\n",
       "\n",
       "    .dataframe thead th {\n",
       "        text-align: right;\n",
       "    }\n",
       "</style>\n",
       "<table border=\"1\" class=\"dataframe\">\n",
       "  <thead>\n",
       "    <tr style=\"text-align: right;\">\n",
       "      <th></th>\n",
       "      <th>ISBN</th>\n",
       "      <th>Book-Title</th>\n",
       "      <th>Book-Author</th>\n",
       "      <th>Year-Of-Publication</th>\n",
       "      <th>Publisher</th>\n",
       "    </tr>\n",
       "  </thead>\n",
       "  <tbody>\n",
       "    <tr>\n",
       "      <th>0</th>\n",
       "      <td>195153448</td>\n",
       "      <td>Classical Mythology</td>\n",
       "      <td>Mark P. O. Morford</td>\n",
       "      <td>2002</td>\n",
       "      <td>Oxford University Press</td>\n",
       "    </tr>\n",
       "    <tr>\n",
       "      <th>1</th>\n",
       "      <td>2005018</td>\n",
       "      <td>Clara Callan</td>\n",
       "      <td>Richard Bruce Wright</td>\n",
       "      <td>2001</td>\n",
       "      <td>HarperFlamingo Canada</td>\n",
       "    </tr>\n",
       "  </tbody>\n",
       "</table>\n",
       "</div>"
      ],
      "text/plain": [
       "        ISBN           Book-Title           Book-Author Year-Of-Publication  \\\n",
       "0  195153448  Classical Mythology    Mark P. O. Morford                2002   \n",
       "1    2005018         Clara Callan  Richard Bruce Wright                2001   \n",
       "\n",
       "                 Publisher  \n",
       "0  Oxford University Press  \n",
       "1    HarperFlamingo Canada  "
      ]
     },
     "execution_count": 166,
     "metadata": {},
     "output_type": "execute_result"
    }
   ],
   "source": [
    "books.shape\n",
    "books.head(2)"
   ]
  },
  {
   "cell_type": "code",
   "execution_count": 167,
   "metadata": {},
   "outputs": [
    {
     "data": {
      "text/plain": [
       "(397248, 3)"
      ]
     },
     "execution_count": 167,
     "metadata": {},
     "output_type": "execute_result"
    },
    {
     "data": {
      "text/html": [
       "<div>\n",
       "<style scoped>\n",
       "    .dataframe tbody tr th:only-of-type {\n",
       "        vertical-align: middle;\n",
       "    }\n",
       "\n",
       "    .dataframe tbody tr th {\n",
       "        vertical-align: top;\n",
       "    }\n",
       "\n",
       "    .dataframe thead th {\n",
       "        text-align: right;\n",
       "    }\n",
       "</style>\n",
       "<table border=\"1\" class=\"dataframe\">\n",
       "  <thead>\n",
       "    <tr style=\"text-align: right;\">\n",
       "      <th></th>\n",
       "      <th>userID</th>\n",
       "      <th>itemID</th>\n",
       "      <th>rating</th>\n",
       "    </tr>\n",
       "  </thead>\n",
       "  <tbody>\n",
       "    <tr>\n",
       "      <th>1</th>\n",
       "      <td>276726</td>\n",
       "      <td>155061224</td>\n",
       "      <td>5.0</td>\n",
       "    </tr>\n",
       "    <tr>\n",
       "      <th>3</th>\n",
       "      <td>276729</td>\n",
       "      <td>052165615X</td>\n",
       "      <td>3.0</td>\n",
       "    </tr>\n",
       "    <tr>\n",
       "      <th>4</th>\n",
       "      <td>276729</td>\n",
       "      <td>521795028</td>\n",
       "      <td>6.0</td>\n",
       "    </tr>\n",
       "    <tr>\n",
       "      <th>6</th>\n",
       "      <td>276736</td>\n",
       "      <td>3257224281</td>\n",
       "      <td>8.0</td>\n",
       "    </tr>\n",
       "    <tr>\n",
       "      <th>7</th>\n",
       "      <td>276737</td>\n",
       "      <td>600570967</td>\n",
       "      <td>6.0</td>\n",
       "    </tr>\n",
       "  </tbody>\n",
       "</table>\n",
       "</div>"
      ],
      "text/plain": [
       "   userID      itemID  rating\n",
       "1  276726   155061224     5.0\n",
       "3  276729  052165615X     3.0\n",
       "4  276729   521795028     6.0\n",
       "6  276736  3257224281     8.0\n",
       "7  276737   600570967     6.0"
      ]
     },
     "execution_count": 167,
     "metadata": {},
     "output_type": "execute_result"
    },
    {
     "data": {
      "text/html": [
       "<div>\n",
       "<style scoped>\n",
       "    .dataframe tbody tr th:only-of-type {\n",
       "        vertical-align: middle;\n",
       "    }\n",
       "\n",
       "    .dataframe tbody tr th {\n",
       "        vertical-align: top;\n",
       "    }\n",
       "\n",
       "    .dataframe thead th {\n",
       "        text-align: right;\n",
       "    }\n",
       "</style>\n",
       "<table border=\"1\" class=\"dataframe\">\n",
       "  <thead>\n",
       "    <tr style=\"text-align: right;\">\n",
       "      <th></th>\n",
       "      <th>userID</th>\n",
       "      <th>rating</th>\n",
       "    </tr>\n",
       "  </thead>\n",
       "  <tbody>\n",
       "    <tr>\n",
       "      <th>count</th>\n",
       "      <td>397248.000000</td>\n",
       "      <td>397243.000000</td>\n",
       "    </tr>\n",
       "    <tr>\n",
       "      <th>mean</th>\n",
       "      <td>123705.417034</td>\n",
       "      <td>7.601851</td>\n",
       "    </tr>\n",
       "    <tr>\n",
       "      <th>std</th>\n",
       "      <td>73864.403076</td>\n",
       "      <td>1.841274</td>\n",
       "    </tr>\n",
       "    <tr>\n",
       "      <th>min</th>\n",
       "      <td>8.000000</td>\n",
       "      <td>1.000000</td>\n",
       "    </tr>\n",
       "    <tr>\n",
       "      <th>25%</th>\n",
       "      <td>60028.750000</td>\n",
       "      <td>7.000000</td>\n",
       "    </tr>\n",
       "    <tr>\n",
       "      <th>50%</th>\n",
       "      <td>120892.000000</td>\n",
       "      <td>8.000000</td>\n",
       "    </tr>\n",
       "    <tr>\n",
       "      <th>75%</th>\n",
       "      <td>187065.000000</td>\n",
       "      <td>9.000000</td>\n",
       "    </tr>\n",
       "    <tr>\n",
       "      <th>max</th>\n",
       "      <td>278854.000000</td>\n",
       "      <td>10.000000</td>\n",
       "    </tr>\n",
       "  </tbody>\n",
       "</table>\n",
       "</div>"
      ],
      "text/plain": [
       "              userID         rating\n",
       "count  397248.000000  397243.000000\n",
       "mean   123705.417034       7.601851\n",
       "std     73864.403076       1.841274\n",
       "min         8.000000       1.000000\n",
       "25%     60028.750000       7.000000\n",
       "50%    120892.000000       8.000000\n",
       "75%    187065.000000       9.000000\n",
       "max    278854.000000      10.000000"
      ]
     },
     "execution_count": 167,
     "metadata": {},
     "output_type": "execute_result"
    },
    {
     "name": "stdout",
     "output_type": "stream",
     "text": [
      "<class 'pandas.core.frame.DataFrame'>\n",
      "Int64Index: 397248 entries, 1 to 1048571\n",
      "Data columns (total 3 columns):\n",
      " #   Column  Non-Null Count   Dtype  \n",
      "---  ------  --------------   -----  \n",
      " 0   userID  397248 non-null  int64  \n",
      " 1   itemID  397247 non-null  object \n",
      " 2   rating  397243 non-null  float64\n",
      "dtypes: float64(1), int64(1), object(1)\n",
      "memory usage: 12.1+ MB\n"
     ]
    }
   ],
   "source": [
    "ratings.shape\n",
    "ratings.head()\n",
    "ratings.describe()\n",
    "ratings.info()"
   ]
  },
  {
   "cell_type": "code",
   "execution_count": 168,
   "metadata": {},
   "outputs": [
    {
     "data": {
      "text/plain": [
       "1.0"
      ]
     },
     "execution_count": 168,
     "metadata": {},
     "output_type": "execute_result"
    },
    {
     "data": {
      "text/plain": [
       "10.0"
      ]
     },
     "execution_count": 168,
     "metadata": {},
     "output_type": "execute_result"
    }
   ],
   "source": [
    "# check range of rating \n",
    "ratings.rating.min()\n",
    "ratings.rating.max()"
   ]
  },
  {
   "cell_type": "markdown",
   "metadata": {},
   "source": [
    "##  Merge rating and books data"
   ]
  },
  {
   "cell_type": "code",
   "execution_count": 169,
   "metadata": {},
   "outputs": [
    {
     "data": {
      "text/plain": [
       "(941148, 7)"
      ]
     },
     "execution_count": 169,
     "metadata": {},
     "output_type": "execute_result"
    },
    {
     "data": {
      "text/html": [
       "<div>\n",
       "<style scoped>\n",
       "    .dataframe tbody tr th:only-of-type {\n",
       "        vertical-align: middle;\n",
       "    }\n",
       "\n",
       "    .dataframe tbody tr th {\n",
       "        vertical-align: top;\n",
       "    }\n",
       "\n",
       "    .dataframe thead th {\n",
       "        text-align: right;\n",
       "    }\n",
       "</style>\n",
       "<table border=\"1\" class=\"dataframe\">\n",
       "  <thead>\n",
       "    <tr style=\"text-align: right;\">\n",
       "      <th></th>\n",
       "      <th>User-ID</th>\n",
       "      <th>ISBN</th>\n",
       "      <th>Book-Rating</th>\n",
       "      <th>Book-Title</th>\n",
       "      <th>Book-Author</th>\n",
       "      <th>Year-Of-Publication</th>\n",
       "      <th>Publisher</th>\n",
       "    </tr>\n",
       "  </thead>\n",
       "  <tbody>\n",
       "    <tr>\n",
       "      <th>0</th>\n",
       "      <td>276725</td>\n",
       "      <td>034545104X</td>\n",
       "      <td>0.0</td>\n",
       "      <td>Flesh Tones: A Novel</td>\n",
       "      <td>M. J. Rose</td>\n",
       "      <td>2002</td>\n",
       "      <td>Ballantine Books</td>\n",
       "    </tr>\n",
       "    <tr>\n",
       "      <th>1</th>\n",
       "      <td>2313</td>\n",
       "      <td>034545104X</td>\n",
       "      <td>5.0</td>\n",
       "      <td>Flesh Tones: A Novel</td>\n",
       "      <td>M. J. Rose</td>\n",
       "      <td>2002</td>\n",
       "      <td>Ballantine Books</td>\n",
       "    </tr>\n",
       "    <tr>\n",
       "      <th>2</th>\n",
       "      <td>6543</td>\n",
       "      <td>034545104X</td>\n",
       "      <td>0.0</td>\n",
       "      <td>Flesh Tones: A Novel</td>\n",
       "      <td>M. J. Rose</td>\n",
       "      <td>2002</td>\n",
       "      <td>Ballantine Books</td>\n",
       "    </tr>\n",
       "    <tr>\n",
       "      <th>3</th>\n",
       "      <td>8680</td>\n",
       "      <td>034545104X</td>\n",
       "      <td>5.0</td>\n",
       "      <td>Flesh Tones: A Novel</td>\n",
       "      <td>M. J. Rose</td>\n",
       "      <td>2002</td>\n",
       "      <td>Ballantine Books</td>\n",
       "    </tr>\n",
       "    <tr>\n",
       "      <th>4</th>\n",
       "      <td>10314</td>\n",
       "      <td>034545104X</td>\n",
       "      <td>9.0</td>\n",
       "      <td>Flesh Tones: A Novel</td>\n",
       "      <td>M. J. Rose</td>\n",
       "      <td>2002</td>\n",
       "      <td>Ballantine Books</td>\n",
       "    </tr>\n",
       "  </tbody>\n",
       "</table>\n",
       "</div>"
      ],
      "text/plain": [
       "   User-ID        ISBN  Book-Rating            Book-Title Book-Author  \\\n",
       "0   276725  034545104X          0.0  Flesh Tones: A Novel  M. J. Rose   \n",
       "1     2313  034545104X          5.0  Flesh Tones: A Novel  M. J. Rose   \n",
       "2     6543  034545104X          0.0  Flesh Tones: A Novel  M. J. Rose   \n",
       "3     8680  034545104X          5.0  Flesh Tones: A Novel  M. J. Rose   \n",
       "4    10314  034545104X          9.0  Flesh Tones: A Novel  M. J. Rose   \n",
       "\n",
       "  Year-Of-Publication         Publisher  \n",
       "0                2002  Ballantine Books  \n",
       "1                2002  Ballantine Books  \n",
       "2                2002  Ballantine Books  \n",
       "3                2002  Ballantine Books  \n",
       "4                2002  Ballantine Books  "
      ]
     },
     "execution_count": 169,
     "metadata": {},
     "output_type": "execute_result"
    }
   ],
   "source": [
    "rating_books_merged = pd.merge(rating, books, on='ISBN')\n",
    "rating_books_merged.shape\n",
    "rating_books_merged.head()"
   ]
  },
  {
   "cell_type": "code",
   "execution_count": 170,
   "metadata": {},
   "outputs": [
    {
     "data": {
      "text/plain": [
       "array(['Flesh Tones: A Novel'], dtype=object)"
      ]
     },
     "execution_count": 170,
     "metadata": {},
     "output_type": "execute_result"
    }
   ],
   "source": [
    "rating_books_merged[rating_books_merged['ISBN'] == '034545104X']['Book-Title'].unique()"
   ]
  },
  {
   "cell_type": "markdown",
   "metadata": {},
   "source": [
    "# Reduce the dimension\n",
    "* Inlcude threshold"
   ]
  },
  {
   "cell_type": "code",
   "execution_count": 171,
   "metadata": {},
   "outputs": [],
   "source": [
    "# Update threshold for ratings to include \n",
    "\n",
    "book_threshold = 50\n",
    "user_threshold = 20\n",
    "\n",
    "selected_books = ratings['itemID'].value_counts() > book_threshold\n",
    "selected_books = selected_books[selected_books].index.tolist()\n",
    "\n",
    "selected_users = ratings['userID'].value_counts() > user_threshold\n",
    "selected_users = selected_users[selected_users].index.tolist()"
   ]
  },
  {
   "cell_type": "code",
   "execution_count": 172,
   "metadata": {},
   "outputs": [
    {
     "name": "stdout",
     "output_type": "stream",
     "text": [
      "The original data frame shape:\t(397248, 3)\n",
      "The new data frame shape:\t(18475, 3)\n"
     ]
    }
   ],
   "source": [
    "updated_df = ratings[(ratings['itemID'].isin(selected_books)) & (ratings['userID'].isin(selected_users))]\n",
    "print('The original data frame shape:\\t{}'.format(ratings.shape))\n",
    "print('The new data frame shape:\\t{}'.format(updated_df.shape))"
   ]
  },
  {
   "cell_type": "code",
   "execution_count": 173,
   "metadata": {},
   "outputs": [],
   "source": [
    "# features to save for flask app : \n",
    "# updated_df.to_csv('for_flask_app/model/ratings.csv')\n",
    "\n"
   ]
  },
  {
   "cell_type": "code",
   "execution_count": 174,
   "metadata": {},
   "outputs": [
    {
     "data": {
      "text/plain": [
       "Index(['userID', 'itemID', 'rating'], dtype='object')"
      ]
     },
     "execution_count": 174,
     "metadata": {},
     "output_type": "execute_result"
    }
   ],
   "source": [
    "updated_df.columns"
   ]
  },
  {
   "cell_type": "code",
   "execution_count": 175,
   "metadata": {},
   "outputs": [],
   "source": [
    "# Specify range of reviews using Reader class \n",
    "# put 1 probably\n",
    "\n",
    "reader = Reader(rating_scale=(1, 10))\n",
    "data = Dataset.load_from_df(updated_df[['userID', 'itemID', 'rating']], reader)"
   ]
  },
  {
   "cell_type": "code",
   "execution_count": 176,
   "metadata": {},
   "outputs": [
    {
     "name": "stdout",
     "output_type": "stream",
     "text": [
      "Estimating biases using als...\n",
      "Estimating biases using als...\n",
      "Estimating biases using als...\n",
      "Computing the msd similarity matrix...\n",
      "Done computing similarity matrix.\n",
      "Computing the msd similarity matrix...\n",
      "Done computing similarity matrix.\n",
      "Computing the msd similarity matrix...\n",
      "Done computing similarity matrix.\n",
      "Computing the msd similarity matrix...\n",
      "Done computing similarity matrix.\n",
      "Computing the msd similarity matrix...\n",
      "Done computing similarity matrix.\n",
      "Computing the msd similarity matrix...\n",
      "Done computing similarity matrix.\n"
     ]
    }
   ],
   "source": [
    "# Run later \n",
    "benchmark = []\n",
    "\n",
    "for algorithm in [NormalPredictor(), BaselineOnly(), KNNBasic(), SVD(), SVDpp(), KNNWithMeans(), NMF()]:\n",
    "# [SVD(), SVDpp(), SlopeOne(), NMF(), NormalPredictor(), KNNBaseline(), KNNBasic(), KNNWithMeans(), KNNWithZScore(), BaselineOnly(), CoClustering()]:\n",
    "   \n",
    "    # Perform cross validation\n",
    "    results = cross_validate(algorithm, data, measures=['RMSE'], cv=3, verbose=False)\n",
    "    \n",
    "    # Get results & append algorithm name\n",
    "    tmp = pd.DataFrame.from_dict(results).mean(axis=0)\n",
    "    tmp = tmp.append(pd.Series([str(algorithm).split(' ')[0].split('.')[-1]], index=['Algorithm']))\n",
    "    benchmark.append(tmp)\n",
    "    \n",
    "df_models = pd.DataFrame(benchmark).set_index('Algorithm').sort_values('test_rmse')"
   ]
  },
  {
   "cell_type": "code",
   "execution_count": 177,
   "metadata": {},
   "outputs": [
    {
     "data": {
      "text/html": [
       "<div>\n",
       "<style scoped>\n",
       "    .dataframe tbody tr th:only-of-type {\n",
       "        vertical-align: middle;\n",
       "    }\n",
       "\n",
       "    .dataframe tbody tr th {\n",
       "        vertical-align: top;\n",
       "    }\n",
       "\n",
       "    .dataframe thead th {\n",
       "        text-align: right;\n",
       "    }\n",
       "</style>\n",
       "<table border=\"1\" class=\"dataframe\">\n",
       "  <thead>\n",
       "    <tr style=\"text-align: right;\">\n",
       "      <th></th>\n",
       "      <th>test_rmse</th>\n",
       "      <th>fit_time</th>\n",
       "      <th>test_time</th>\n",
       "    </tr>\n",
       "    <tr>\n",
       "      <th>Algorithm</th>\n",
       "      <th></th>\n",
       "      <th></th>\n",
       "      <th></th>\n",
       "    </tr>\n",
       "  </thead>\n",
       "  <tbody>\n",
       "    <tr>\n",
       "      <th>SVD</th>\n",
       "      <td>1.583</td>\n",
       "      <td>0.658</td>\n",
       "      <td>0.034</td>\n",
       "    </tr>\n",
       "    <tr>\n",
       "      <th>SVDpp</th>\n",
       "      <td>1.588</td>\n",
       "      <td>2.956</td>\n",
       "      <td>0.139</td>\n",
       "    </tr>\n",
       "    <tr>\n",
       "      <th>BaselineOnly</th>\n",
       "      <td>1.595</td>\n",
       "      <td>0.020</td>\n",
       "      <td>0.023</td>\n",
       "    </tr>\n",
       "    <tr>\n",
       "      <th>KNNWithMeans</th>\n",
       "      <td>1.766</td>\n",
       "      <td>0.176</td>\n",
       "      <td>0.272</td>\n",
       "    </tr>\n",
       "    <tr>\n",
       "      <th>KNNBasic</th>\n",
       "      <td>1.832</td>\n",
       "      <td>0.178</td>\n",
       "      <td>0.277</td>\n",
       "    </tr>\n",
       "    <tr>\n",
       "      <th>NormalPredictor</th>\n",
       "      <td>2.357</td>\n",
       "      <td>0.017</td>\n",
       "      <td>0.038</td>\n",
       "    </tr>\n",
       "    <tr>\n",
       "      <th>NMF</th>\n",
       "      <td>2.650</td>\n",
       "      <td>0.806</td>\n",
       "      <td>0.027</td>\n",
       "    </tr>\n",
       "  </tbody>\n",
       "</table>\n",
       "</div>"
      ],
      "text/plain": [
       "                 test_rmse  fit_time  test_time\n",
       "Algorithm                                      \n",
       "SVD                  1.583     0.658      0.034\n",
       "SVDpp                1.588     2.956      0.139\n",
       "BaselineOnly         1.595     0.020      0.023\n",
       "KNNWithMeans         1.766     0.176      0.272\n",
       "KNNBasic             1.832     0.178      0.277\n",
       "NormalPredictor      2.357     0.017      0.038\n",
       "NMF                  2.650     0.806      0.027"
      ]
     },
     "execution_count": 177,
     "metadata": {},
     "output_type": "execute_result"
    }
   ],
   "source": [
    "df_models.round(3)"
   ]
  },
  {
   "cell_type": "markdown",
   "metadata": {},
   "source": [
    "# ALS model : \n",
    "* ALS method "
   ]
  },
  {
   "cell_type": "code",
   "execution_count": 178,
   "metadata": {},
   "outputs": [],
   "source": [
    "# # Split data into train-set test-set\n",
    "\n",
    "train_data, test_data = train_test_split(data, test_size=0.2)"
   ]
  },
  {
   "cell_type": "code",
   "execution_count": 179,
   "metadata": {},
   "outputs": [
    {
     "name": "stdout",
     "output_type": "stream",
     "text": [
      "Estimating biases using als...\n",
      "RMSE: 1.5949\n"
     ]
    },
    {
     "data": {
      "text/plain": [
       "1.5949384620632525"
      ]
     },
     "execution_count": 179,
     "metadata": {},
     "output_type": "execute_result"
    }
   ],
   "source": [
    "model_bsl = BaselineOnly(bsl_options={'method': 'als', 'n_epochs': 5,\n",
    "                                     'reg_u': 12, 'reg_i': 5})\n",
    "predictions_bsl = model_bsl.fit(train_data).test(test_data)\n",
    "accuracy.rmse(predictions_bsl)"
   ]
  },
  {
   "cell_type": "code",
   "execution_count": 180,
   "metadata": {},
   "outputs": [],
   "source": [
    "# build a pandas dataframe with all the predictions\n",
    "\n",
    "def get_Iu(uid):\n",
    "    \"\"\"Return the number of items rated by given user\n",
    "    \n",
    "    Args:\n",
    "        uid: The raw id of the user.\n",
    "    Returns:\n",
    "        The number of items rated by the user.\n",
    "    \"\"\"\n",
    "    \n",
    "    try:\n",
    "        return len(train_data.ur[train_data.to_inner_uid(uid)])\n",
    "    except ValueError:  # user was not part of the trainset\n",
    "        return 0\n",
    "    \n",
    "def get_Ui(iid):\n",
    "    \"\"\"Return the number of users that have rated given item\n",
    "    \n",
    "    Args:\n",
    "        iid: The raw id of the item.\n",
    "    Returns:\n",
    "        The number of users that have rated the item.\n",
    "    \"\"\"\n",
    "    \n",
    "    try:\n",
    "        return len(train_data.ir[train_data.to_inner_iid(iid)])\n",
    "    except ValueError:  # item was not part of the trainset\n",
    "        return 0"
   ]
  },
  {
   "cell_type": "code",
   "execution_count": 181,
   "metadata": {},
   "outputs": [],
   "source": [
    "df = pd.DataFrame(predictions_bsl, columns=['uid', 'iid', 'rui', 'est', 'details'])    \n",
    "df['Iu'] = df.uid.apply(get_Iu)\n",
    "df['Ui'] = df.iid.apply(get_Ui)\n",
    "df['err'] = abs(df.est - df.rui)"
   ]
  },
  {
   "cell_type": "code",
   "execution_count": 182,
   "metadata": {},
   "outputs": [
    {
     "data": {
      "text/html": [
       "<div>\n",
       "<style scoped>\n",
       "    .dataframe tbody tr th:only-of-type {\n",
       "        vertical-align: middle;\n",
       "    }\n",
       "\n",
       "    .dataframe tbody tr th {\n",
       "        vertical-align: top;\n",
       "    }\n",
       "\n",
       "    .dataframe thead th {\n",
       "        text-align: right;\n",
       "    }\n",
       "</style>\n",
       "<table border=\"1\" class=\"dataframe\">\n",
       "  <thead>\n",
       "    <tr style=\"text-align: right;\">\n",
       "      <th></th>\n",
       "      <th>uid</th>\n",
       "      <th>iid</th>\n",
       "      <th>rui</th>\n",
       "      <th>est</th>\n",
       "      <th>details</th>\n",
       "      <th>Iu</th>\n",
       "      <th>Ui</th>\n",
       "      <th>err</th>\n",
       "    </tr>\n",
       "  </thead>\n",
       "  <tbody>\n",
       "    <tr>\n",
       "      <th>0</th>\n",
       "      <td>135360</td>\n",
       "      <td>380789035</td>\n",
       "      <td>9.0</td>\n",
       "      <td>8.320091</td>\n",
       "      <td>{'was_impossible': False}</td>\n",
       "      <td>7</td>\n",
       "      <td>52</td>\n",
       "      <td>0.679909</td>\n",
       "    </tr>\n",
       "    <tr>\n",
       "      <th>1</th>\n",
       "      <td>74630</td>\n",
       "      <td>345387651</td>\n",
       "      <td>10.0</td>\n",
       "      <td>7.191574</td>\n",
       "      <td>{'was_impossible': False}</td>\n",
       "      <td>3</td>\n",
       "      <td>36</td>\n",
       "      <td>2.808426</td>\n",
       "    </tr>\n",
       "    <tr>\n",
       "      <th>2</th>\n",
       "      <td>75819</td>\n",
       "      <td>440206154</td>\n",
       "      <td>9.0</td>\n",
       "      <td>8.016140</td>\n",
       "      <td>{'was_impossible': False}</td>\n",
       "      <td>17</td>\n",
       "      <td>46</td>\n",
       "      <td>0.983860</td>\n",
       "    </tr>\n",
       "    <tr>\n",
       "      <th>3</th>\n",
       "      <td>30994</td>\n",
       "      <td>067976402X</td>\n",
       "      <td>10.0</td>\n",
       "      <td>8.447384</td>\n",
       "      <td>{'was_impossible': False}</td>\n",
       "      <td>10</td>\n",
       "      <td>63</td>\n",
       "      <td>1.552616</td>\n",
       "    </tr>\n",
       "    <tr>\n",
       "      <th>4</th>\n",
       "      <td>122793</td>\n",
       "      <td>375506039</td>\n",
       "      <td>10.0</td>\n",
       "      <td>7.437053</td>\n",
       "      <td>{'was_impossible': False}</td>\n",
       "      <td>13</td>\n",
       "      <td>18</td>\n",
       "      <td>2.562947</td>\n",
       "    </tr>\n",
       "  </tbody>\n",
       "</table>\n",
       "</div>"
      ],
      "text/plain": [
       "      uid         iid   rui       est                    details  Iu  Ui  \\\n",
       "0  135360   380789035   9.0  8.320091  {'was_impossible': False}   7  52   \n",
       "1   74630   345387651  10.0  7.191574  {'was_impossible': False}   3  36   \n",
       "2   75819   440206154   9.0  8.016140  {'was_impossible': False}  17  46   \n",
       "3   30994  067976402X  10.0  8.447384  {'was_impossible': False}  10  63   \n",
       "4  122793   375506039  10.0  7.437053  {'was_impossible': False}  13  18   \n",
       "\n",
       "        err  \n",
       "0  0.679909  \n",
       "1  2.808426  \n",
       "2  0.983860  \n",
       "3  1.552616  \n",
       "4  2.562947  "
      ]
     },
     "execution_count": 182,
     "metadata": {},
     "output_type": "execute_result"
    }
   ],
   "source": [
    "df.head()"
   ]
  },
  {
   "cell_type": "code",
   "execution_count": 183,
   "metadata": {},
   "outputs": [
    {
     "data": {
      "text/html": [
       "<div>\n",
       "<style scoped>\n",
       "    .dataframe tbody tr th:only-of-type {\n",
       "        vertical-align: middle;\n",
       "    }\n",
       "\n",
       "    .dataframe tbody tr th {\n",
       "        vertical-align: top;\n",
       "    }\n",
       "\n",
       "    .dataframe thead th {\n",
       "        text-align: right;\n",
       "    }\n",
       "</style>\n",
       "<table border=\"1\" class=\"dataframe\">\n",
       "  <thead>\n",
       "    <tr style=\"text-align: right;\">\n",
       "      <th></th>\n",
       "      <th>uid</th>\n",
       "      <th>iid</th>\n",
       "      <th>rui</th>\n",
       "      <th>est</th>\n",
       "      <th>Iu</th>\n",
       "      <th>Ui</th>\n",
       "      <th>err</th>\n",
       "    </tr>\n",
       "  </thead>\n",
       "  <tbody>\n",
       "    <tr>\n",
       "      <th>1540</th>\n",
       "      <td>168816</td>\n",
       "      <td>385722206</td>\n",
       "      <td>8.0</td>\n",
       "      <td>7.999384</td>\n",
       "      <td>9</td>\n",
       "      <td>48</td>\n",
       "      <td>0.000616</td>\n",
       "    </tr>\n",
       "    <tr>\n",
       "      <th>3116</th>\n",
       "      <td>243879</td>\n",
       "      <td>670892963</td>\n",
       "      <td>8.0</td>\n",
       "      <td>8.001140</td>\n",
       "      <td>8</td>\n",
       "      <td>27</td>\n",
       "      <td>0.001140</td>\n",
       "    </tr>\n",
       "    <tr>\n",
       "      <th>1452</th>\n",
       "      <td>133706</td>\n",
       "      <td>425180638</td>\n",
       "      <td>7.0</td>\n",
       "      <td>6.997952</td>\n",
       "      <td>11</td>\n",
       "      <td>18</td>\n",
       "      <td>0.002048</td>\n",
       "    </tr>\n",
       "    <tr>\n",
       "      <th>1998</th>\n",
       "      <td>201526</td>\n",
       "      <td>452269571</td>\n",
       "      <td>8.0</td>\n",
       "      <td>8.002089</td>\n",
       "      <td>7</td>\n",
       "      <td>30</td>\n",
       "      <td>0.002089</td>\n",
       "    </tr>\n",
       "    <tr>\n",
       "      <th>167</th>\n",
       "      <td>143909</td>\n",
       "      <td>380012863</td>\n",
       "      <td>8.0</td>\n",
       "      <td>7.997362</td>\n",
       "      <td>3</td>\n",
       "      <td>32</td>\n",
       "      <td>0.002638</td>\n",
       "    </tr>\n",
       "    <tr>\n",
       "      <th>676</th>\n",
       "      <td>23699</td>\n",
       "      <td>786817070</td>\n",
       "      <td>8.0</td>\n",
       "      <td>8.003326</td>\n",
       "      <td>5</td>\n",
       "      <td>27</td>\n",
       "      <td>0.003326</td>\n",
       "    </tr>\n",
       "    <tr>\n",
       "      <th>2403</th>\n",
       "      <td>196053</td>\n",
       "      <td>067088300X</td>\n",
       "      <td>7.0</td>\n",
       "      <td>7.003890</td>\n",
       "      <td>6</td>\n",
       "      <td>17</td>\n",
       "      <td>0.003890</td>\n",
       "    </tr>\n",
       "    <tr>\n",
       "      <th>2296</th>\n",
       "      <td>138543</td>\n",
       "      <td>684801523</td>\n",
       "      <td>8.0</td>\n",
       "      <td>7.995948</td>\n",
       "      <td>19</td>\n",
       "      <td>37</td>\n",
       "      <td>0.004052</td>\n",
       "    </tr>\n",
       "    <tr>\n",
       "      <th>324</th>\n",
       "      <td>169699</td>\n",
       "      <td>61097101</td>\n",
       "      <td>8.0</td>\n",
       "      <td>7.995139</td>\n",
       "      <td>3</td>\n",
       "      <td>19</td>\n",
       "      <td>0.004861</td>\n",
       "    </tr>\n",
       "    <tr>\n",
       "      <th>470</th>\n",
       "      <td>114444</td>\n",
       "      <td>034538475X</td>\n",
       "      <td>7.0</td>\n",
       "      <td>6.993480</td>\n",
       "      <td>7</td>\n",
       "      <td>39</td>\n",
       "      <td>0.006520</td>\n",
       "    </tr>\n",
       "  </tbody>\n",
       "</table>\n",
       "</div>"
      ],
      "text/plain": [
       "         uid         iid  rui       est  Iu  Ui       err\n",
       "1540  168816   385722206  8.0  7.999384   9  48  0.000616\n",
       "3116  243879   670892963  8.0  8.001140   8  27  0.001140\n",
       "1452  133706   425180638  7.0  6.997952  11  18  0.002048\n",
       "1998  201526   452269571  8.0  8.002089   7  30  0.002089\n",
       "167   143909   380012863  8.0  7.997362   3  32  0.002638\n",
       "676    23699   786817070  8.0  8.003326   5  27  0.003326\n",
       "2403  196053  067088300X  7.0  7.003890   6  17  0.003890\n",
       "2296  138543   684801523  8.0  7.995948  19  37  0.004052\n",
       "324   169699    61097101  8.0  7.995139   3  19  0.004861\n",
       "470   114444  034538475X  7.0  6.993480   7  39  0.006520"
      ]
     },
     "execution_count": 183,
     "metadata": {},
     "output_type": "execute_result"
    },
    {
     "data": {
      "text/html": [
       "<div>\n",
       "<style scoped>\n",
       "    .dataframe tbody tr th:only-of-type {\n",
       "        vertical-align: middle;\n",
       "    }\n",
       "\n",
       "    .dataframe tbody tr th {\n",
       "        vertical-align: top;\n",
       "    }\n",
       "\n",
       "    .dataframe thead th {\n",
       "        text-align: right;\n",
       "    }\n",
       "</style>\n",
       "<table border=\"1\" class=\"dataframe\">\n",
       "  <thead>\n",
       "    <tr style=\"text-align: right;\">\n",
       "      <th></th>\n",
       "      <th>uid</th>\n",
       "      <th>iid</th>\n",
       "      <th>rui</th>\n",
       "      <th>est</th>\n",
       "      <th>Iu</th>\n",
       "      <th>Ui</th>\n",
       "      <th>err</th>\n",
       "    </tr>\n",
       "  </thead>\n",
       "  <tbody>\n",
       "    <tr>\n",
       "      <th>604</th>\n",
       "      <td>22252</td>\n",
       "      <td>312278586</td>\n",
       "      <td>1.0</td>\n",
       "      <td>7.252675</td>\n",
       "      <td>5</td>\n",
       "      <td>57</td>\n",
       "      <td>6.252675</td>\n",
       "    </tr>\n",
       "    <tr>\n",
       "      <th>3144</th>\n",
       "      <td>110361</td>\n",
       "      <td>312995423</td>\n",
       "      <td>1.0</td>\n",
       "      <td>7.534374</td>\n",
       "      <td>5</td>\n",
       "      <td>19</td>\n",
       "      <td>6.534374</td>\n",
       "    </tr>\n",
       "    <tr>\n",
       "      <th>1665</th>\n",
       "      <td>30985</td>\n",
       "      <td>553574574</td>\n",
       "      <td>1.0</td>\n",
       "      <td>7.739237</td>\n",
       "      <td>2</td>\n",
       "      <td>15</td>\n",
       "      <td>6.739237</td>\n",
       "    </tr>\n",
       "    <tr>\n",
       "      <th>3033</th>\n",
       "      <td>90049</td>\n",
       "      <td>345361792</td>\n",
       "      <td>1.0</td>\n",
       "      <td>8.025626</td>\n",
       "      <td>5</td>\n",
       "      <td>55</td>\n",
       "      <td>7.025626</td>\n",
       "    </tr>\n",
       "    <tr>\n",
       "      <th>1722</th>\n",
       "      <td>238889</td>\n",
       "      <td>014028009X</td>\n",
       "      <td>1.0</td>\n",
       "      <td>8.037682</td>\n",
       "      <td>10</td>\n",
       "      <td>57</td>\n",
       "      <td>7.037682</td>\n",
       "    </tr>\n",
       "    <tr>\n",
       "      <th>1654</th>\n",
       "      <td>6563</td>\n",
       "      <td>684872153</td>\n",
       "      <td>1.0</td>\n",
       "      <td>8.318046</td>\n",
       "      <td>14</td>\n",
       "      <td>43</td>\n",
       "      <td>7.318046</td>\n",
       "    </tr>\n",
       "    <tr>\n",
       "      <th>3548</th>\n",
       "      <td>157811</td>\n",
       "      <td>60392452</td>\n",
       "      <td>1.0</td>\n",
       "      <td>8.684037</td>\n",
       "      <td>3</td>\n",
       "      <td>57</td>\n",
       "      <td>7.684037</td>\n",
       "    </tr>\n",
       "    <tr>\n",
       "      <th>3282</th>\n",
       "      <td>114007</td>\n",
       "      <td>385484518</td>\n",
       "      <td>1.0</td>\n",
       "      <td>8.716875</td>\n",
       "      <td>0</td>\n",
       "      <td>68</td>\n",
       "      <td>7.716875</td>\n",
       "    </tr>\n",
       "    <tr>\n",
       "      <th>1475</th>\n",
       "      <td>98297</td>\n",
       "      <td>440998050</td>\n",
       "      <td>1.0</td>\n",
       "      <td>8.877401</td>\n",
       "      <td>0</td>\n",
       "      <td>30</td>\n",
       "      <td>7.877401</td>\n",
       "    </tr>\n",
       "    <tr>\n",
       "      <th>2215</th>\n",
       "      <td>97874</td>\n",
       "      <td>385504209</td>\n",
       "      <td>1.0</td>\n",
       "      <td>8.976222</td>\n",
       "      <td>11</td>\n",
       "      <td>155</td>\n",
       "      <td>7.976222</td>\n",
       "    </tr>\n",
       "  </tbody>\n",
       "</table>\n",
       "</div>"
      ],
      "text/plain": [
       "         uid         iid  rui       est  Iu   Ui       err\n",
       "604    22252   312278586  1.0  7.252675   5   57  6.252675\n",
       "3144  110361   312995423  1.0  7.534374   5   19  6.534374\n",
       "1665   30985   553574574  1.0  7.739237   2   15  6.739237\n",
       "3033   90049   345361792  1.0  8.025626   5   55  7.025626\n",
       "1722  238889  014028009X  1.0  8.037682  10   57  7.037682\n",
       "1654    6563   684872153  1.0  8.318046  14   43  7.318046\n",
       "3548  157811    60392452  1.0  8.684037   3   57  7.684037\n",
       "3282  114007   385484518  1.0  8.716875   0   68  7.716875\n",
       "1475   98297   440998050  1.0  8.877401   0   30  7.877401\n",
       "2215   97874   385504209  1.0  8.976222  11  155  7.976222"
      ]
     },
     "execution_count": 183,
     "metadata": {},
     "output_type": "execute_result"
    }
   ],
   "source": [
    "# Note : 0.0 rating \n",
    "best_predictions_bsl = df.sort_values(by='err')[:10]\n",
    "worst_predictions_bsl = df.sort_values(by='err')[-10:]\n",
    "best_predictions_bsl.drop('details', axis = 1)\n",
    "worst_predictions_bsl.drop('details', axis = 1)\n"
   ]
  },
  {
   "cell_type": "code",
   "execution_count": null,
   "metadata": {},
   "outputs": [],
   "source": []
  },
  {
   "cell_type": "markdown",
   "metadata": {},
   "source": [
    "# GridSearchCV: Paramater tunning "
   ]
  },
  {
   "cell_type": "markdown",
   "metadata": {},
   "source": [
    "# Get top N-book recommendations for each user"
   ]
  },
  {
   "cell_type": "code",
   "execution_count": 184,
   "metadata": {},
   "outputs": [
    {
     "name": "stdout",
     "output_type": "stream",
     "text": [
      "Estimating biases using als...\n"
     ]
    },
    {
     "data": {
      "text/plain": [
       "<surprise.prediction_algorithms.baseline_only.BaselineOnly at 0x7fe34bb87160>"
      ]
     },
     "execution_count": 184,
     "metadata": {},
     "output_type": "execute_result"
    }
   ],
   "source": [
    "# First train an SVD algorithm\n",
    "\n",
    "trainset_bsl = data.build_full_trainset()\n",
    "\n",
    "model_bsl.fit(trainset_bsl)"
   ]
  },
  {
   "cell_type": "code",
   "execution_count": 185,
   "metadata": {},
   "outputs": [],
   "source": [
    "# predict ratings for all pairs (u, i) that are NOT in the training set\n",
    "\n",
    "testset_bsl = trainset_bsl.build_anti_testset()\n",
    "predictions_bsl = model_bsl.test(testset_bsl)\n"
   ]
  },
  {
   "cell_type": "code",
   "execution_count": 186,
   "metadata": {},
   "outputs": [
    {
     "name": "stdout",
     "output_type": "stream",
     "text": [
      "RMSE: 0.6094\n"
     ]
    },
    {
     "data": {
      "text/plain": [
       "0.609362633311807"
      ]
     },
     "execution_count": 186,
     "metadata": {},
     "output_type": "execute_result"
    }
   ],
   "source": [
    "accuracy.rmse(predictions_bsl)"
   ]
  },
  {
   "cell_type": "markdown",
   "metadata": {},
   "source": [
    "# Enter User info : User-ID to get recommended books"
   ]
  },
  {
   "cell_type": "code",
   "execution_count": 187,
   "metadata": {},
   "outputs": [],
   "source": [
    "# 228998, 144255, 124487, 228311, 244657, 277965, 222296, 224764,22074, 210485, 107244, 135149, 133747, 197364, 219683, 177432, \n",
    "# 67840, 98263, 54898, 158295, 48025, 244286, 51450, 157811, 69232,"
   ]
  },
  {
   "cell_type": "code",
   "execution_count": 188,
   "metadata": {},
   "outputs": [],
   "source": [
    "def get_top_n(predictions, n=10):\n",
    "    '''Return the top-N recommendation for each user from a set of predictions.\n",
    "\n",
    "    Args:\n",
    "        predictions(list of Prediction objects): The list of predictions, as\n",
    "            returned by the test method of an algorithm.\n",
    "        n(int): The number of recommendation to output for each user. Default\n",
    "            is 10.\n",
    "\n",
    "    Returns:\n",
    "    A dict where keys are user (raw) ids and values are lists of tuples:\n",
    "        [(raw item id, rating estimation), ...] of size n.\n",
    "    '''\n",
    "\n",
    "    # First map the predictions to each user.\n",
    "    top_n = defaultdict(list)\n",
    "    for uid, iid, true_r, est, _ in predictions:\n",
    "        top_n[uid].append((iid, est))\n",
    "\n",
    "    # Then sort the predictions for each user and retrieve the k highest ones.\n",
    "    for uid, user_ratings in top_n.items():\n",
    "        user_ratings.sort(key=lambda x: x[1], reverse=True)\n",
    "        top_n[uid] = user_ratings[:n]\n",
    "\n",
    "    return top_n"
   ]
  },
  {
   "cell_type": "code",
   "execution_count": 189,
   "metadata": {},
   "outputs": [
    {
     "name": "stdout",
     "output_type": "stream",
     "text": [
      "\n",
      "\n",
      " Next book recommendations for User 224430 :\n",
      "\n",
      "Book name: \t 'The Return of the King (The Lord of the Rings'\n",
      "Possible rating:\t  8.95 /10.0\n",
      "\n",
      "Book name: \t \"Charlotte's Web (Trophy Newbery)\"\n",
      "Possible rating:\t  8.87 /10.0\n",
      "\n",
      "Book name: \t 'The Two Towers (The Lord of the Rings'\n",
      "Possible rating:\t  8.86 /10.0\n",
      "\n",
      "Book name: \t 'Harry Potter and the Goblet of Fire (Book 4)'\n",
      "Possible rating:\t  8.86 /10.0\n",
      "\n",
      "Book name: \t 'Seabiscuit: An American Legend'\n",
      "Possible rating:\t  8.85 /10.0\n",
      "\n",
      "Book name: \t 'Harry Potter and the Prisoner of Azkaban (Book 3)'\n",
      "Possible rating:\t  8.8 /10.0\n",
      "\n",
      "Book name: \t 'Harry Potter and the Prisoner of Azkaban (Book 3)'\n",
      "Possible rating:\t  8.8 /10.0\n",
      "\n",
      "Book name: \t \"The Princess Bride: S Morgenstern's Classic Tale of True Love and High Adventure\"\n",
      "Possible rating:\t  8.78 /10.0\n",
      "\n",
      "Book name: \t 'Where the Red Fern Grows'\n",
      "Possible rating:\t  8.76 /10.0\n",
      "\n",
      "Book name: \t 'To Kill a Mockingbird'\n",
      "Possible rating:\t  8.76 /10.0\n",
      "\n"
     ]
    }
   ],
   "source": [
    "# Note: find an effecient way to input user info \n",
    "# Enter use info \n",
    "\n",
    "user = 224430\n",
    "top_n = get_top_n(predictions_bsl)\n",
    "user_book_isbn = top_n.get(user)\n",
    "\n",
    "\n",
    "print('\\n\\n Next book recommendations for User', str(user),':\\n')\n",
    "for isbn, pred_rating in user_book_isbn:\n",
    "    book_name = rating_books_merged[rating_books_merged['ISBN'] == isbn]['Book-Title'].unique()\n",
    "    print('Book name: \\t', str(book_name)[1:-1])\n",
    "    print('Possible rating:\\t ', round(pred_rating, 2),'/10.0' '\\n')"
   ]
  },
  {
   "cell_type": "code",
   "execution_count": 190,
   "metadata": {},
   "outputs": [
    {
     "data": {
      "text/html": [
       "<div>\n",
       "<style scoped>\n",
       "    .dataframe tbody tr th:only-of-type {\n",
       "        vertical-align: middle;\n",
       "    }\n",
       "\n",
       "    .dataframe tbody tr th {\n",
       "        vertical-align: top;\n",
       "    }\n",
       "\n",
       "    .dataframe thead th {\n",
       "        text-align: right;\n",
       "    }\n",
       "</style>\n",
       "<table border=\"1\" class=\"dataframe\">\n",
       "  <thead>\n",
       "    <tr style=\"text-align: right;\">\n",
       "      <th></th>\n",
       "      <th>User-ID</th>\n",
       "      <th>ISBN</th>\n",
       "      <th>Book-Rating</th>\n",
       "      <th>Book-Title</th>\n",
       "      <th>Book-Author</th>\n",
       "      <th>Year-Of-Publication</th>\n",
       "      <th>Publisher</th>\n",
       "    </tr>\n",
       "  </thead>\n",
       "  <tbody>\n",
       "    <tr>\n",
       "      <th>0</th>\n",
       "      <td>276725</td>\n",
       "      <td>034545104X</td>\n",
       "      <td>0.0</td>\n",
       "      <td>Flesh Tones: A Novel</td>\n",
       "      <td>M. J. Rose</td>\n",
       "      <td>2002</td>\n",
       "      <td>Ballantine Books</td>\n",
       "    </tr>\n",
       "    <tr>\n",
       "      <th>1</th>\n",
       "      <td>2313</td>\n",
       "      <td>034545104X</td>\n",
       "      <td>5.0</td>\n",
       "      <td>Flesh Tones: A Novel</td>\n",
       "      <td>M. J. Rose</td>\n",
       "      <td>2002</td>\n",
       "      <td>Ballantine Books</td>\n",
       "    </tr>\n",
       "    <tr>\n",
       "      <th>2</th>\n",
       "      <td>6543</td>\n",
       "      <td>034545104X</td>\n",
       "      <td>0.0</td>\n",
       "      <td>Flesh Tones: A Novel</td>\n",
       "      <td>M. J. Rose</td>\n",
       "      <td>2002</td>\n",
       "      <td>Ballantine Books</td>\n",
       "    </tr>\n",
       "    <tr>\n",
       "      <th>3</th>\n",
       "      <td>8680</td>\n",
       "      <td>034545104X</td>\n",
       "      <td>5.0</td>\n",
       "      <td>Flesh Tones: A Novel</td>\n",
       "      <td>M. J. Rose</td>\n",
       "      <td>2002</td>\n",
       "      <td>Ballantine Books</td>\n",
       "    </tr>\n",
       "    <tr>\n",
       "      <th>4</th>\n",
       "      <td>10314</td>\n",
       "      <td>034545104X</td>\n",
       "      <td>9.0</td>\n",
       "      <td>Flesh Tones: A Novel</td>\n",
       "      <td>M. J. Rose</td>\n",
       "      <td>2002</td>\n",
       "      <td>Ballantine Books</td>\n",
       "    </tr>\n",
       "  </tbody>\n",
       "</table>\n",
       "</div>"
      ],
      "text/plain": [
       "   User-ID        ISBN  Book-Rating            Book-Title Book-Author  \\\n",
       "0   276725  034545104X          0.0  Flesh Tones: A Novel  M. J. Rose   \n",
       "1     2313  034545104X          5.0  Flesh Tones: A Novel  M. J. Rose   \n",
       "2     6543  034545104X          0.0  Flesh Tones: A Novel  M. J. Rose   \n",
       "3     8680  034545104X          5.0  Flesh Tones: A Novel  M. J. Rose   \n",
       "4    10314  034545104X          9.0  Flesh Tones: A Novel  M. J. Rose   \n",
       "\n",
       "  Year-Of-Publication         Publisher  \n",
       "0                2002  Ballantine Books  \n",
       "1                2002  Ballantine Books  \n",
       "2                2002  Ballantine Books  \n",
       "3                2002  Ballantine Books  \n",
       "4                2002  Ballantine Books  "
      ]
     },
     "execution_count": 190,
     "metadata": {},
     "output_type": "execute_result"
    },
    {
     "data": {
      "text/plain": [
       "(941148, 7)"
      ]
     },
     "execution_count": 190,
     "metadata": {},
     "output_type": "execute_result"
    }
   ],
   "source": [
    "rating_books_merged.head()\n",
    "rating_books_merged.shape"
   ]
  },
  {
   "cell_type": "code",
   "execution_count": 191,
   "metadata": {},
   "outputs": [
    {
     "data": {
      "text/plain": [
       "(941148, 3)"
      ]
     },
     "execution_count": 191,
     "metadata": {},
     "output_type": "execute_result"
    },
    {
     "data": {
      "text/html": [
       "<div>\n",
       "<style scoped>\n",
       "    .dataframe tbody tr th:only-of-type {\n",
       "        vertical-align: middle;\n",
       "    }\n",
       "\n",
       "    .dataframe tbody tr th {\n",
       "        vertical-align: top;\n",
       "    }\n",
       "\n",
       "    .dataframe thead th {\n",
       "        text-align: right;\n",
       "    }\n",
       "</style>\n",
       "<table border=\"1\" class=\"dataframe\">\n",
       "  <thead>\n",
       "    <tr style=\"text-align: right;\">\n",
       "      <th></th>\n",
       "      <th>User-ID</th>\n",
       "      <th>ISBN</th>\n",
       "      <th>Book-Title</th>\n",
       "    </tr>\n",
       "  </thead>\n",
       "  <tbody>\n",
       "    <tr>\n",
       "      <th>0</th>\n",
       "      <td>276725</td>\n",
       "      <td>034545104X</td>\n",
       "      <td>Flesh Tones: A Novel</td>\n",
       "    </tr>\n",
       "    <tr>\n",
       "      <th>1</th>\n",
       "      <td>2313</td>\n",
       "      <td>034545104X</td>\n",
       "      <td>Flesh Tones: A Novel</td>\n",
       "    </tr>\n",
       "    <tr>\n",
       "      <th>2</th>\n",
       "      <td>6543</td>\n",
       "      <td>034545104X</td>\n",
       "      <td>Flesh Tones: A Novel</td>\n",
       "    </tr>\n",
       "    <tr>\n",
       "      <th>3</th>\n",
       "      <td>8680</td>\n",
       "      <td>034545104X</td>\n",
       "      <td>Flesh Tones: A Novel</td>\n",
       "    </tr>\n",
       "    <tr>\n",
       "      <th>4</th>\n",
       "      <td>10314</td>\n",
       "      <td>034545104X</td>\n",
       "      <td>Flesh Tones: A Novel</td>\n",
       "    </tr>\n",
       "  </tbody>\n",
       "</table>\n",
       "</div>"
      ],
      "text/plain": [
       "   User-ID        ISBN            Book-Title\n",
       "0   276725  034545104X  Flesh Tones: A Novel\n",
       "1     2313  034545104X  Flesh Tones: A Novel\n",
       "2     6543  034545104X  Flesh Tones: A Novel\n",
       "3     8680  034545104X  Flesh Tones: A Novel\n",
       "4    10314  034545104X  Flesh Tones: A Novel"
      ]
     },
     "execution_count": 191,
     "metadata": {},
     "output_type": "execute_result"
    }
   ],
   "source": [
    "for_flask_features = ['User-ID', 'ISBN', 'Book-Title']\n",
    "for_flask = rating_books_merged[for_flask_features]\n",
    "for_flask.shape\n",
    "for_flask.head()"
   ]
  },
  {
   "cell_type": "code",
   "execution_count": null,
   "metadata": {},
   "outputs": [],
   "source": []
  },
  {
   "cell_type": "markdown",
   "metadata": {},
   "source": [
    "# Matrix Factorization: SVD, SVDpp\n",
    "* Hyper parameter tunning using GridSearchCV "
   ]
  },
  {
   "cell_type": "code",
   "execution_count": null,
   "metadata": {},
   "outputs": [],
   "source": []
  },
  {
   "cell_type": "code",
   "execution_count": 192,
   "metadata": {},
   "outputs": [],
   "source": [
    "model_svd = SVD()\n",
    "fit_model_svd = model_svd.fit(train_data)\n",
    "predictions_svd = fit_model_svd.test(test_data)"
   ]
  },
  {
   "cell_type": "code",
   "execution_count": 193,
   "metadata": {},
   "outputs": [
    {
     "name": "stdout",
     "output_type": "stream",
     "text": [
      "RMSE: 1.5909\n"
     ]
    },
    {
     "data": {
      "text/plain": [
       "1.5909028039474458"
      ]
     },
     "execution_count": 193,
     "metadata": {},
     "output_type": "execute_result"
    }
   ],
   "source": [
    "accuracy.rmse(predictions_svd)"
   ]
  },
  {
   "cell_type": "code",
   "execution_count": 194,
   "metadata": {},
   "outputs": [
    {
     "data": {
      "text/plain": [
       "7.977807848443843"
      ]
     },
     "execution_count": 194,
     "metadata": {},
     "output_type": "execute_result"
    }
   ],
   "source": [
    "# predict one uid and one iid\n",
    "pred1 = model_svd.predict(uid ='6', iid = '2' )\n",
    "pred1.est"
   ]
  },
  {
   "cell_type": "markdown",
   "metadata": {},
   "source": [
    "# GridSearchCV: Paramater tunning "
   ]
  },
  {
   "cell_type": "code",
   "execution_count": 195,
   "metadata": {},
   "outputs": [],
   "source": [
    "# Train model with updated hyper-parameters \n",
    "\n",
    "param_grid_svd = {'n_epochs': 10, 'lr_all': 0.05, 'n_factors': 201, 'reg_all': 0.3}\n"
   ]
  },
  {
   "cell_type": "code",
   "execution_count": 196,
   "metadata": {},
   "outputs": [],
   "source": [
    "model_svd = SVD(n_epochs = 10, lr_all = 0.05, n_factors= 201, reg_all = 0.3)\n",
    "fit_model_svd = model_svd.fit(train_data)\n",
    "predictions_svd = fit_model_svd.test(test_data)"
   ]
  },
  {
   "cell_type": "code",
   "execution_count": 197,
   "metadata": {},
   "outputs": [
    {
     "name": "stdout",
     "output_type": "stream",
     "text": [
      "RMSE: 1.5713\n"
     ]
    },
    {
     "data": {
      "text/plain": [
       "1.5712926355850891"
      ]
     },
     "execution_count": 197,
     "metadata": {},
     "output_type": "execute_result"
    }
   ],
   "source": [
    "accuracy.rmse(predictions_svd)"
   ]
  },
  {
   "cell_type": "code",
   "execution_count": 198,
   "metadata": {},
   "outputs": [
    {
     "data": {
      "text/plain": [
       "7.977807848443843"
      ]
     },
     "execution_count": 198,
     "metadata": {},
     "output_type": "execute_result"
    }
   ],
   "source": [
    "# predict one uid and one iid\n",
    "pred1 = model_svd.predict(uid ='6', iid = '2' )\n",
    "pred1.est"
   ]
  },
  {
   "cell_type": "code",
   "execution_count": 199,
   "metadata": {},
   "outputs": [],
   "source": [
    "# 135149, 107244, 219683, 177432\n",
    "#, , 124487, 228311, 224764,22074, 210485, 107244, 135149, 133747, 197364, 219683, 177432, \n",
    "# 98263, 158295, 48025, 228998"
   ]
  },
  {
   "cell_type": "code",
   "execution_count": 200,
   "metadata": {},
   "outputs": [
    {
     "name": "stdout",
     "output_type": "stream",
     "text": [
      "\n",
      "\n",
      " Next book recommendations for User 177432 :\n",
      "\n",
      "Book name: \t 'To Kill a Mockingbird'\n",
      "Possible rating:\t  8.92 /10.0\n",
      "\n",
      "Book name: \t 'Stranger in a Strange Land (Remembering Tomorrow)'\n",
      "Possible rating:\t  8.5 /10.0\n",
      "\n",
      "Book name: \t 'Timeline'\n",
      "Possible rating:\t  8.23 /10.0\n",
      "\n",
      "Book name: \t 'The Dark Half'\n",
      "Possible rating:\t  8.05 /10.0\n",
      "\n",
      "Book name: \t 'The Catcher in the Rye'\n",
      "Possible rating:\t  8.04 /10.0\n",
      "\n",
      "The user id is not found on the system.\n"
     ]
    }
   ],
   "source": [
    "# Note: find an effecient way to input user info \n",
    "# Enter use info \n",
    "\n",
    "user = 177432\n",
    "top_n_svd = get_top_n(predictions_svd)\n",
    "user_book_isbn_svd = top_n_svd.get(user)\n",
    "\n",
    "\n",
    "print('\\n\\n Next book recommendations for User', str(user),':\\n')\n",
    "for isbn, pred_rating in user_book_isbn_svd:\n",
    "    book_name = rating_books_merged[rating_books_merged['ISBN'] == isbn]['Book-Title'].unique()\n",
    "    print('Book name: \\t', str(book_name)[1:-1])\n",
    "    print('Possible rating:\\t ', round(pred_rating, 2),'/10.0' '\\n')\n",
    "else:\n",
    "    print(\"The user id is not found on the system.\")"
   ]
  },
  {
   "cell_type": "code",
   "execution_count": null,
   "metadata": {},
   "outputs": [],
   "source": []
  },
  {
   "cell_type": "code",
   "execution_count": null,
   "metadata": {},
   "outputs": [],
   "source": []
  },
  {
   "cell_type": "markdown",
   "metadata": {},
   "source": [
    "# Get top N-book recommendations for each user"
   ]
  },
  {
   "cell_type": "code",
   "execution_count": 201,
   "metadata": {},
   "outputs": [],
   "source": [
    "def get_top_n(predictions, n=10):\n",
    "    '''Return the top-N recommendation for each user from a set of predictions.\n",
    "\n",
    "    Args:\n",
    "        predictions(list of Prediction objects): The list of predictions, as\n",
    "            returned by the test method of an algorithm.\n",
    "        n(int): The number of recommendation to output for each user. Default\n",
    "            is 10.\n",
    "\n",
    "    Returns:\n",
    "    A dict where keys are user (raw) ids and values are lists of tuples:\n",
    "        [(raw item id, rating estimation), ...] of size n.\n",
    "    '''\n",
    "\n",
    "    # First map the predictions to each user.\n",
    "    top_n = defaultdict(list)\n",
    "    for uid, iid, true_r, est, _ in predictions:\n",
    "        top_n[uid].append((iid, est))\n",
    "\n",
    "    # Then sort the predictions for each user and retrieve the k highest ones.\n",
    "    for uid, user_ratings in top_n.items():\n",
    "        user_ratings.sort(key=lambda x: x[1], reverse=True)\n",
    "        top_n[uid] = user_ratings[:n]\n",
    "\n",
    "    return top_n"
   ]
  },
  {
   "cell_type": "code",
   "execution_count": 202,
   "metadata": {},
   "outputs": [
    {
     "name": "stdout",
     "output_type": "stream",
     "text": [
      "RMSE: 1.5713\n"
     ]
    },
    {
     "data": {
      "text/plain": [
       "1.5712926355850891"
      ]
     },
     "execution_count": 202,
     "metadata": {},
     "output_type": "execute_result"
    }
   ],
   "source": [
    "accuracy.rmse(predictions_svd)"
   ]
  },
  {
   "cell_type": "code",
   "execution_count": 203,
   "metadata": {},
   "outputs": [
    {
     "data": {
      "text/html": [
       "<div>\n",
       "<style scoped>\n",
       "    .dataframe tbody tr th:only-of-type {\n",
       "        vertical-align: middle;\n",
       "    }\n",
       "\n",
       "    .dataframe tbody tr th {\n",
       "        vertical-align: top;\n",
       "    }\n",
       "\n",
       "    .dataframe thead th {\n",
       "        text-align: right;\n",
       "    }\n",
       "</style>\n",
       "<table border=\"1\" class=\"dataframe\">\n",
       "  <thead>\n",
       "    <tr style=\"text-align: right;\">\n",
       "      <th></th>\n",
       "      <th>User-ID</th>\n",
       "      <th>ISBN</th>\n",
       "      <th>Book-Rating</th>\n",
       "      <th>Book-Title</th>\n",
       "      <th>Book-Author</th>\n",
       "      <th>Year-Of-Publication</th>\n",
       "      <th>Publisher</th>\n",
       "    </tr>\n",
       "  </thead>\n",
       "  <tbody>\n",
       "    <tr>\n",
       "      <th>0</th>\n",
       "      <td>276725</td>\n",
       "      <td>034545104X</td>\n",
       "      <td>0.0</td>\n",
       "      <td>Flesh Tones: A Novel</td>\n",
       "      <td>M. J. Rose</td>\n",
       "      <td>2002</td>\n",
       "      <td>Ballantine Books</td>\n",
       "    </tr>\n",
       "    <tr>\n",
       "      <th>1</th>\n",
       "      <td>2313</td>\n",
       "      <td>034545104X</td>\n",
       "      <td>5.0</td>\n",
       "      <td>Flesh Tones: A Novel</td>\n",
       "      <td>M. J. Rose</td>\n",
       "      <td>2002</td>\n",
       "      <td>Ballantine Books</td>\n",
       "    </tr>\n",
       "    <tr>\n",
       "      <th>2</th>\n",
       "      <td>6543</td>\n",
       "      <td>034545104X</td>\n",
       "      <td>0.0</td>\n",
       "      <td>Flesh Tones: A Novel</td>\n",
       "      <td>M. J. Rose</td>\n",
       "      <td>2002</td>\n",
       "      <td>Ballantine Books</td>\n",
       "    </tr>\n",
       "    <tr>\n",
       "      <th>3</th>\n",
       "      <td>8680</td>\n",
       "      <td>034545104X</td>\n",
       "      <td>5.0</td>\n",
       "      <td>Flesh Tones: A Novel</td>\n",
       "      <td>M. J. Rose</td>\n",
       "      <td>2002</td>\n",
       "      <td>Ballantine Books</td>\n",
       "    </tr>\n",
       "    <tr>\n",
       "      <th>4</th>\n",
       "      <td>10314</td>\n",
       "      <td>034545104X</td>\n",
       "      <td>9.0</td>\n",
       "      <td>Flesh Tones: A Novel</td>\n",
       "      <td>M. J. Rose</td>\n",
       "      <td>2002</td>\n",
       "      <td>Ballantine Books</td>\n",
       "    </tr>\n",
       "    <tr>\n",
       "      <th>...</th>\n",
       "      <td>...</td>\n",
       "      <td>...</td>\n",
       "      <td>...</td>\n",
       "      <td>...</td>\n",
       "      <td>...</td>\n",
       "      <td>...</td>\n",
       "      <td>...</td>\n",
       "    </tr>\n",
       "    <tr>\n",
       "      <th>941143</th>\n",
       "      <td>250764</td>\n",
       "      <td>440106575</td>\n",
       "      <td>0.0</td>\n",
       "      <td>HIDDEN FIRES</td>\n",
       "      <td>JANETTE RADCLIFFE</td>\n",
       "      <td>1978</td>\n",
       "      <td>Dell</td>\n",
       "    </tr>\n",
       "    <tr>\n",
       "      <th>941144</th>\n",
       "      <td>250764</td>\n",
       "      <td>451157516</td>\n",
       "      <td>0.0</td>\n",
       "      <td>Cheyenne (Fortunes West</td>\n",
       "      <td>NaN</td>\n",
       "      <td>NaN</td>\n",
       "      <td>NaN</td>\n",
       "    </tr>\n",
       "    <tr>\n",
       "      <th>941145</th>\n",
       "      <td>250764</td>\n",
       "      <td>048623715X</td>\n",
       "      <td>0.0</td>\n",
       "      <td>Glamorous Movie Stars of the Thirties: Paper D...</td>\n",
       "      <td>Tom Tierney</td>\n",
       "      <td>1982</td>\n",
       "      <td>Dover Publications</td>\n",
       "    </tr>\n",
       "    <tr>\n",
       "      <th>941146</th>\n",
       "      <td>250764</td>\n",
       "      <td>486256588</td>\n",
       "      <td>0.0</td>\n",
       "      <td>Schiaparelli Fashion Review: Paper Dolls in Fu...</td>\n",
       "      <td>Tom Tierney</td>\n",
       "      <td>1988</td>\n",
       "      <td>Dover Publications</td>\n",
       "    </tr>\n",
       "    <tr>\n",
       "      <th>941147</th>\n",
       "      <td>250764</td>\n",
       "      <td>515069434</td>\n",
       "      <td>0.0</td>\n",
       "      <td>Lady Laughing Eyes (To Have and to Hold)</td>\n",
       "      <td>Lee Damon</td>\n",
       "      <td>1984</td>\n",
       "      <td>Jove Books</td>\n",
       "    </tr>\n",
       "  </tbody>\n",
       "</table>\n",
       "<p>941148 rows × 7 columns</p>\n",
       "</div>"
      ],
      "text/plain": [
       "        User-ID        ISBN  Book-Rating  \\\n",
       "0        276725  034545104X          0.0   \n",
       "1          2313  034545104X          5.0   \n",
       "2          6543  034545104X          0.0   \n",
       "3          8680  034545104X          5.0   \n",
       "4         10314  034545104X          9.0   \n",
       "...         ...         ...          ...   \n",
       "941143   250764   440106575          0.0   \n",
       "941144   250764   451157516          0.0   \n",
       "941145   250764  048623715X          0.0   \n",
       "941146   250764   486256588          0.0   \n",
       "941147   250764   515069434          0.0   \n",
       "\n",
       "                                               Book-Title        Book-Author  \\\n",
       "0                                    Flesh Tones: A Novel         M. J. Rose   \n",
       "1                                    Flesh Tones: A Novel         M. J. Rose   \n",
       "2                                    Flesh Tones: A Novel         M. J. Rose   \n",
       "3                                    Flesh Tones: A Novel         M. J. Rose   \n",
       "4                                    Flesh Tones: A Novel         M. J. Rose   \n",
       "...                                                   ...                ...   \n",
       "941143                                       HIDDEN FIRES  JANETTE RADCLIFFE   \n",
       "941144                            Cheyenne (Fortunes West                NaN   \n",
       "941145  Glamorous Movie Stars of the Thirties: Paper D...        Tom Tierney   \n",
       "941146  Schiaparelli Fashion Review: Paper Dolls in Fu...        Tom Tierney   \n",
       "941147           Lady Laughing Eyes (To Have and to Hold)          Lee Damon   \n",
       "\n",
       "       Year-Of-Publication           Publisher  \n",
       "0                     2002    Ballantine Books  \n",
       "1                     2002    Ballantine Books  \n",
       "2                     2002    Ballantine Books  \n",
       "3                     2002    Ballantine Books  \n",
       "4                     2002    Ballantine Books  \n",
       "...                    ...                 ...  \n",
       "941143                1978                Dell  \n",
       "941144                 NaN                 NaN  \n",
       "941145                1982  Dover Publications  \n",
       "941146                1988  Dover Publications  \n",
       "941147                1984          Jove Books  \n",
       "\n",
       "[941148 rows x 7 columns]"
      ]
     },
     "execution_count": 203,
     "metadata": {},
     "output_type": "execute_result"
    }
   ],
   "source": [
    "# print already studied books and new recommended books \n",
    "# books[books['Book-Title'] == 'Harry Potter and the Goblet of Fire (Book 4)']\n",
    "rating_books_merged"
   ]
  },
  {
   "cell_type": "code",
   "execution_count": null,
   "metadata": {},
   "outputs": [],
   "source": []
  },
  {
   "cell_type": "markdown",
   "metadata": {},
   "source": [
    "# Enter User info : User-ID to get recommended books"
   ]
  },
  {
   "cell_type": "code",
   "execution_count": null,
   "metadata": {},
   "outputs": [],
   "source": []
  },
  {
   "cell_type": "code",
   "execution_count": 204,
   "metadata": {},
   "outputs": [],
   "source": [
    "# top_n"
   ]
  },
  {
   "cell_type": "code",
   "execution_count": 205,
   "metadata": {},
   "outputs": [
    {
     "data": {
      "text/plain": [
       "36907"
      ]
     },
     "execution_count": 205,
     "metadata": {},
     "output_type": "execute_result"
    },
    {
     "data": {
      "text/plain": [
       "[('446532231', 9.533886465514202),\n",
       " ('038549081X', 9.43136751818322),\n",
       " ('804114986', 9.287643058547419),\n",
       " ('439136350', 9.221763114105917),\n",
       " ('804106304', 9.140586127112615)]"
      ]
     },
     "execution_count": 205,
     "metadata": {},
     "output_type": "execute_result"
    },
    {
     "name": "stdout",
     "output_type": "stream",
     "text": [
      "\n",
      "\n",
      " The following books are remmended for you:\n",
      "\n",
      " \n",
      "Dude\n",
      "\n",
      "\t\t You will like this book with (predictive) rating of:  9.53 /10.0\n",
      "\n",
      "The Handmaid's Tale : A Novel\n",
      "\n",
      "\t\t You will like this book with (predictive) rating of:  9.43 /10.0\n",
      "\n",
      "The Bonesetter's Daughter\n",
      "\n",
      "\t\t You will like this book with (predictive) rating of:  9.29 /10.0\n",
      "\n",
      "Harry Potter and the Prisoner of Azkaban (Book 3)\n",
      "\n",
      "\t\t You will like this book with (predictive) rating of:  9.22 /10.0\n",
      "\n",
      "The Joy Luck Club\n",
      "\n",
      "\t\t You will like this book with (predictive) rating of:  9.14 /10.0\n",
      "\n"
     ]
    }
   ],
   "source": [
    "# Ask user's information (user-id) and how many books to recommend \n",
    "\n",
    "# how many similar books \n",
    "number_of_books_to_recommend = 5\n",
    "\n",
    "# Enter user info \n",
    "user_info = 36907\n",
    "\n",
    "    # OR OR ROROR\n",
    "# random entry from users \n",
    "# user_info = np.random.choice(ratings.shape[0])\n",
    "\n",
    "# Implement function\n",
    "top_n = get_top_n(predictions_svd, n = number_of_books_to_recommend)\n",
    "user_book_isbn = top_n.get(user_info)\n",
    "\n",
    "user_info\n",
    "user_book_isbn\n",
    "\n",
    "\n",
    "print('\\n\\n The following books are remmended for you:\\n\\n ')\n",
    "\n",
    "for isbn, pred_rating in user_book_isbn:\n",
    "#     if isbn in top_n.keys():\n",
    "        book_name = rating_books_merged[rating_books_merged['ISBN'] == isbn]['Book-Title'].unique()\n",
    "        print(str(book_name)[2:-2] )   \n",
    "        print('\\n\\t\\t You will like this book with (predictive) rating of: ', round(pred_rating, 2),'/10.0' '\\n')\n",
    "#     else:\n",
    "#         continue \n",
    "# #         print('Sorry, No references found to recommend books for you. Please, rate some books, and come back.')\n"
   ]
  },
  {
   "cell_type": "code",
   "execution_count": 206,
   "metadata": {},
   "outputs": [
    {
     "data": {
      "text/plain": [
       "(18475, 3)"
      ]
     },
     "execution_count": 206,
     "metadata": {},
     "output_type": "execute_result"
    },
    {
     "data": {
      "text/html": [
       "<div>\n",
       "<style scoped>\n",
       "    .dataframe tbody tr th:only-of-type {\n",
       "        vertical-align: middle;\n",
       "    }\n",
       "\n",
       "    .dataframe tbody tr th {\n",
       "        vertical-align: top;\n",
       "    }\n",
       "\n",
       "    .dataframe thead th {\n",
       "        text-align: right;\n",
       "    }\n",
       "</style>\n",
       "<table border=\"1\" class=\"dataframe\">\n",
       "  <thead>\n",
       "    <tr style=\"text-align: right;\">\n",
       "      <th></th>\n",
       "      <th>userID</th>\n",
       "      <th>itemID</th>\n",
       "      <th>rating</th>\n",
       "    </tr>\n",
       "  </thead>\n",
       "  <tbody>\n",
       "    <tr>\n",
       "      <th>1456</th>\n",
       "      <td>277427</td>\n",
       "      <td>002542730X</td>\n",
       "      <td>10.0</td>\n",
       "    </tr>\n",
       "    <tr>\n",
       "      <th>1474</th>\n",
       "      <td>277427</td>\n",
       "      <td>61009059</td>\n",
       "      <td>9.0</td>\n",
       "    </tr>\n",
       "    <tr>\n",
       "      <th>1522</th>\n",
       "      <td>277427</td>\n",
       "      <td>316776963</td>\n",
       "      <td>8.0</td>\n",
       "    </tr>\n",
       "    <tr>\n",
       "      <th>1543</th>\n",
       "      <td>277427</td>\n",
       "      <td>345413903</td>\n",
       "      <td>10.0</td>\n",
       "    </tr>\n",
       "    <tr>\n",
       "      <th>1581</th>\n",
       "      <td>277427</td>\n",
       "      <td>385486804</td>\n",
       "      <td>9.0</td>\n",
       "    </tr>\n",
       "  </tbody>\n",
       "</table>\n",
       "</div>"
      ],
      "text/plain": [
       "      userID      itemID  rating\n",
       "1456  277427  002542730X    10.0\n",
       "1474  277427    61009059     9.0\n",
       "1522  277427   316776963     8.0\n",
       "1543  277427   345413903    10.0\n",
       "1581  277427   385486804     9.0"
      ]
     },
     "execution_count": 206,
     "metadata": {},
     "output_type": "execute_result"
    }
   ],
   "source": [
    "updated_df.shape\n",
    "updated_df.head()"
   ]
  },
  {
   "cell_type": "code",
   "execution_count": 207,
   "metadata": {},
   "outputs": [],
   "source": [
    "param_grid = {'n_epochs': [15, 20, 25, 30, 35, 40, 45, 50],\n",
    "                'n_factors': [100, 150, 200, 300],\n",
    "                'lr_all': [0.002, 0.003, 0.004, 0.005],\n",
    "                'reg_all': [0.02,0.01,0.05,0.1, 0.4, 0.6]}\n",
    "gs_svd = GridSearchCV(SVD, param_grid, measures=['rmse', 'mae'], cv=3, n_jobs = -1)"
   ]
  },
  {
   "cell_type": "markdown",
   "metadata": {},
   "source": [
    "# Use SVD++  for Matrix Factorization\n",
    "* permorms regularization and optimizes known terms \n",
    "* Takes into account of implicit ratings \n",
    "* extends vanilla SVD \n",
    "* used in Netflix challange "
   ]
  },
  {
   "cell_type": "markdown",
   "metadata": {},
   "source": [
    "The method SVD++, as well as most other matrix factorisation algorithms, will depend on a number of main tuning constants: \n",
    "* the dimension DD affecting the size of UU and VV\n",
    "* the learning rate affects the performance of the optimisation step\n",
    "* the regularisation term affecting the overfitting of the model \n",
    "* the number of epochs, which determines how many iterations of optimisation are used"
   ]
  },
  {
   "cell_type": "markdown",
   "metadata": {},
   "source": [
    " In surprise, tuning is performed using a function called GridSearchCV, which picks the constants which perform the best at predicting a held out testset. This means constant values to try need to be predefined."
   ]
  },
  {
   "cell_type": "code",
   "execution_count": 208,
   "metadata": {},
   "outputs": [],
   "source": [
    "model_svdpp = SVDpp()\n",
    "fit_model_svdpp = model_svdpp.fit(train_data)\n",
    "predictions_svdpp = fit_model_svdpp.test(test_data)"
   ]
  },
  {
   "cell_type": "code",
   "execution_count": 209,
   "metadata": {},
   "outputs": [
    {
     "name": "stdout",
     "output_type": "stream",
     "text": [
      "RMSE: 1.6005\n"
     ]
    },
    {
     "data": {
      "text/plain": [
       "1.6004606938987602"
      ]
     },
     "execution_count": 209,
     "metadata": {},
     "output_type": "execute_result"
    }
   ],
   "source": [
    "accuracy.rmse(predictions_svdpp)"
   ]
  },
  {
   "cell_type": "code",
   "execution_count": 210,
   "metadata": {},
   "outputs": [
    {
     "data": {
      "text/plain": [
       "7.977807848443843"
      ]
     },
     "execution_count": 210,
     "metadata": {},
     "output_type": "execute_result"
    }
   ],
   "source": [
    "# predict one uid and one iid\n",
    "predpp = model_svdpp.predict(uid ='6', iid = '2' )\n",
    "predpp.est"
   ]
  },
  {
   "cell_type": "markdown",
   "metadata": {},
   "source": [
    "# GridSearchCV for SVDpp"
   ]
  },
  {
   "cell_type": "code",
   "execution_count": 211,
   "metadata": {},
   "outputs": [],
   "source": [
    "model_svdpp = SVDpp(n_factors = 10, n_epochs = 40, lr_all = 0.005, reg_all = 0.3)\n",
    "\n",
    "fit_model_svdpp = model_svdpp.fit(train_data)\n",
    "\n",
    "predictions_svdpp = fit_model_svdpp.test(test_data)"
   ]
  },
  {
   "cell_type": "code",
   "execution_count": 212,
   "metadata": {},
   "outputs": [
    {
     "name": "stdout",
     "output_type": "stream",
     "text": [
      "Estimating biases using als...\n",
      "Estimating biases using als...\n",
      "Estimating biases using als...\n"
     ]
    }
   ],
   "source": [
    "\n",
    "for algorithm in [BaselineOnly(bsl_options={'method': 'als', 'n_epochs': 5,\n",
    "                                     'reg_u': 12, 'reg_i': 5}), SVD(n_epochs = 20, lr_all = 0.05, n_factors= 201, reg_all = 0.3), SVDpp(n_factors = 10, n_epochs = 40, lr_all = 0.005, reg_all = 0.3)]:\n",
    "\n",
    "    # Perform cross validation\n",
    "    resultss = cross_validate(algorithm, data, measures=['RMSE'], cv=3, verbose=False)\n",
    "    \n",
    "    # Get results & append algorithm name\n",
    "    tmps = pd.DataFrame.from_dict(resultss).mean(axis=0)\n",
    "    tmps = tmps.append(pd.Series([str(algorithm).split(' ')[0].split('.')[-1]], index=['Algorithm']))\n",
    "    benchmark.append(tmp)\n",
    "    \n",
    "df_mod_tunned = pd.DataFrame(benchmark).set_index('Algorithm').sort_values('test_rmse')"
   ]
  },
  {
   "cell_type": "code",
   "execution_count": 213,
   "metadata": {},
   "outputs": [
    {
     "data": {
      "text/html": [
       "<div>\n",
       "<style scoped>\n",
       "    .dataframe tbody tr th:only-of-type {\n",
       "        vertical-align: middle;\n",
       "    }\n",
       "\n",
       "    .dataframe tbody tr th {\n",
       "        vertical-align: top;\n",
       "    }\n",
       "\n",
       "    .dataframe thead th {\n",
       "        text-align: right;\n",
       "    }\n",
       "</style>\n",
       "<table border=\"1\" class=\"dataframe\">\n",
       "  <thead>\n",
       "    <tr style=\"text-align: right;\">\n",
       "      <th></th>\n",
       "      <th>test_rmse</th>\n",
       "      <th>fit_time</th>\n",
       "      <th>test_time</th>\n",
       "    </tr>\n",
       "    <tr>\n",
       "      <th>Algorithm</th>\n",
       "      <th></th>\n",
       "      <th></th>\n",
       "      <th></th>\n",
       "    </tr>\n",
       "  </thead>\n",
       "  <tbody>\n",
       "    <tr>\n",
       "      <th>SVD</th>\n",
       "      <td>1.582872</td>\n",
       "      <td>0.658082</td>\n",
       "      <td>0.033857</td>\n",
       "    </tr>\n",
       "    <tr>\n",
       "      <th>SVDpp</th>\n",
       "      <td>1.587716</td>\n",
       "      <td>2.956479</td>\n",
       "      <td>0.139175</td>\n",
       "    </tr>\n",
       "    <tr>\n",
       "      <th>BaselineOnly</th>\n",
       "      <td>1.595144</td>\n",
       "      <td>0.020377</td>\n",
       "      <td>0.022545</td>\n",
       "    </tr>\n",
       "    <tr>\n",
       "      <th>KNNWithMeans</th>\n",
       "      <td>1.765838</td>\n",
       "      <td>0.176035</td>\n",
       "      <td>0.272306</td>\n",
       "    </tr>\n",
       "    <tr>\n",
       "      <th>KNNBasic</th>\n",
       "      <td>1.831799</td>\n",
       "      <td>0.177764</td>\n",
       "      <td>0.277175</td>\n",
       "    </tr>\n",
       "    <tr>\n",
       "      <th>NormalPredictor</th>\n",
       "      <td>2.356548</td>\n",
       "      <td>0.016529</td>\n",
       "      <td>0.038113</td>\n",
       "    </tr>\n",
       "    <tr>\n",
       "      <th>NMF</th>\n",
       "      <td>2.650214</td>\n",
       "      <td>0.806377</td>\n",
       "      <td>0.027025</td>\n",
       "    </tr>\n",
       "  </tbody>\n",
       "</table>\n",
       "</div>"
      ],
      "text/plain": [
       "                 test_rmse  fit_time  test_time\n",
       "Algorithm                                      \n",
       "SVD               1.582872  0.658082   0.033857\n",
       "SVDpp             1.587716  2.956479   0.139175\n",
       "BaselineOnly      1.595144  0.020377   0.022545\n",
       "KNNWithMeans      1.765838  0.176035   0.272306\n",
       "KNNBasic          1.831799  0.177764   0.277175\n",
       "NormalPredictor   2.356548  0.016529   0.038113\n",
       "NMF               2.650214  0.806377   0.027025"
      ]
     },
     "execution_count": 213,
     "metadata": {},
     "output_type": "execute_result"
    }
   ],
   "source": [
    "df_models"
   ]
  },
  {
   "cell_type": "code",
   "execution_count": 214,
   "metadata": {},
   "outputs": [
    {
     "name": "stdout",
     "output_type": "stream",
     "text": [
      "RMSE: 1.5696\n"
     ]
    },
    {
     "data": {
      "text/plain": [
       "1.5695764036986126"
      ]
     },
     "execution_count": 214,
     "metadata": {},
     "output_type": "execute_result"
    }
   ],
   "source": [
    "accuracy.rmse(predictions_svdpp)"
   ]
  },
  {
   "cell_type": "code",
   "execution_count": 215,
   "metadata": {},
   "outputs": [],
   "source": [
    "# 210485, 135149, 133747, 197364, 219683, 177432, 48025"
   ]
  },
  {
   "cell_type": "code",
   "execution_count": 216,
   "metadata": {},
   "outputs": [
    {
     "name": "stdout",
     "output_type": "stream",
     "text": [
      "\n",
      "\n",
      " Next book recommendations for User 135149 :\n",
      "\n",
      "Book name: \t\t 'The Poisonwood Bible: A Novel'\n",
      "Possible rating:\t  8.1 /10.0\n",
      "\n",
      "Book name: \t\t 'All Around the Town'\n",
      "Possible rating:\t  8.01 /10.0\n",
      "\n",
      "Book name: \t\t 'One for the Money (Stephanie Plum Novels (Paperback))'\n",
      "Possible rating:\t  7.92 /10.0\n",
      "\n",
      "Book name: \t\t 'The Horse Whisperer'\n",
      "Possible rating:\t  7.8 /10.0\n",
      "\n",
      "Book name: \t\t \"The Sweet Potato Queens' Book of Love\"\n",
      "Possible rating:\t  7.76 /10.0\n",
      "\n",
      "Book name: \t\t 'Prey: A Novel'\n",
      "Possible rating:\t  7.76 /10.0\n",
      "\n",
      "Book name: \t\t 'The Brethren'\n",
      "Possible rating:\t  7.73 /10.0\n",
      "\n",
      "Book name: \t\t 'A Painted House'\n",
      "Possible rating:\t  7.73 /10.0\n",
      "\n",
      "Book name: \t\t 'The Chamber'\n",
      "Possible rating:\t  7.52 /10.0\n",
      "\n",
      "Book name: \t\t 'The Brethren'\n",
      "Possible rating:\t  7.49 /10.0\n",
      "\n"
     ]
    }
   ],
   "source": [
    "# Note: find an effecient way to input user info \n",
    "# Enter use info \n",
    "\n",
    "user = 135149\n",
    "top_n_svdpp = get_top_n(predictions_svdpp)\n",
    "user_book_isbn_svdpp = top_n_svdpp.get(user)\n",
    "\n",
    "\n",
    "print('\\n\\n Next book recommendations for User', str(user),':\\n')\n",
    "for isbn, pred_rating in user_book_isbn_svdpp:\n",
    "    book_name = rating_books_merged[rating_books_merged['ISBN'] == isbn]['Book-Title'].unique()\n",
    "    print('Book name: \\t\\t', str(book_name)[1:-1])\n",
    "    print('Possible rating:\\t ', round(pred_rating, 2),'/10.0' '\\n')"
   ]
  },
  {
   "cell_type": "code",
   "execution_count": null,
   "metadata": {},
   "outputs": [],
   "source": []
  },
  {
   "cell_type": "code",
   "execution_count": null,
   "metadata": {},
   "outputs": [],
   "source": []
  }
 ],
 "metadata": {
  "kernelspec": {
   "display_name": "Python 3.7.4 64-bit ('anaconda3': virtualenv)",
   "language": "python",
   "name": "python37464bitanaconda3virtualenvf939463149494a51a1a46a65879359a2"
  },
  "language_info": {
   "codemirror_mode": {
    "name": "ipython",
    "version": 3
   },
   "file_extension": ".py",
   "mimetype": "text/x-python",
   "name": "python",
   "nbconvert_exporter": "python",
   "pygments_lexer": "ipython3",
   "version": "3.8.5"
  }
 },
 "nbformat": 4,
 "nbformat_minor": 4
}
